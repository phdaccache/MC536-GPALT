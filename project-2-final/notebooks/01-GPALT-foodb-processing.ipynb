{
 "cells": [
  {
   "cell_type": "markdown",
   "metadata": {},
   "source": [
    "# Integrações com o FooDB - Equipe GPALT (Analistas de Cardápios)"
   ]
  },
  {
   "cell_type": "markdown",
   "metadata": {},
   "source": [
    "Ativando uma conexão de banco de dados em memória usando o SGBD H2:"
   ]
  },
  {
   "cell_type": "code",
   "execution_count": 1,
   "metadata": {
    "vscode": {
     "languageId": "sql"
    }
   },
   "outputs": [],
   "source": [
    "%defaultDatasource jdbc:h2:mem:db\n"
   ]
  },
  {
   "cell_type": "markdown",
   "metadata": {},
   "source": [
    "# Importando Tabelas dos dados originais do FooDB"
   ]
  },
  {
   "cell_type": "markdown",
   "metadata": {},
   "source": [
    "Em relação ao modelo original proposto na etapa anterior, optou-se por montar mais relações a partir do id do que a partir do nome. A principal dificuldade encontrada para associar itens pelo nome é que alguns nomes podem chegar a quase 300 caracteres (principalmente de componentes químicos). O id, entretando, é um número menor e evitou a cópia de dados muito extensos a todo momento entre tabelas. Então, é importante ajustar os dados para refletir essas alterações."
   ]
  },
  {
   "cell_type": "markdown",
   "metadata": {},
   "source": [
    "### Classificação dos ingredientes"
   ]
  },
  {
   "cell_type": "markdown",
   "metadata": {},
   "source": [
    "As categorias dos ingredientes não estão normalizadas nos dados do FooDB. Assim, primeiro elas precisam ser importadas diretamente da lista de ingredientes para depois serem ajustadas segundo o modelo proposto."
   ]
  },
  {
   "cell_type": "markdown",
   "metadata": {},
   "source": [
    "Importando os dados das classificações dos ingredientes para processar. "
   ]
  },
  {
   "cell_type": "code",
   "execution_count": 2,
   "metadata": {
    "vscode": {
     "languageId": "sql"
    }
   },
   "outputs": [],
   "source": [
    "DROP TABLE IF EXISTS Classificacao;\n",
    "\n",
    "CREATE TABLE Classificacao (\n",
    "  Id INT,\n",
    "  CategoriaInferior VARCHAR(100),\n",
    "  CategoriaSuperior VARCHAR(100),\n",
    "  PRIMARY KEY (Id)\n",
    ") AS SELECT\n",
    "  id, food_subgroup, food_group\n",
    "FROM CSVREAD('../data/raw/foodb/Food.csv');\n"
   ]
  },
  {
   "cell_type": "markdown",
   "metadata": {},
   "source": [
    "Visualizando:"
   ]
  },
  {
   "cell_type": "code",
   "execution_count": 3,
   "metadata": {
    "vscode": {
     "languageId": "sql"
    }
   },
   "outputs": [
    {
     "data": {
      "application/vnd.jupyter.widget-view+json": {
       "model_id": "8f4a788d-5270-442b-9173-fbdbc31e6873",
       "version_major": 2,
       "version_minor": 0
      },
      "method": "display_data"
     },
     "metadata": {},
     "output_type": "display_data"
    }
   ],
   "source": [
    "SELECT * FROM Classificacao LIMIT 10;\n"
   ]
  },
  {
   "cell_type": "markdown",
   "metadata": {},
   "source": [
    "Aqui, percebeu-se que um dos subgrupos não está padronizado. Há duas categorias superiores \"Herbs and spices\" e \"Herbs and Spices\" utilizadas para uma mesma categoria. Esse é um dos problemas de essas informações estarem apenas junto dos ingredientes. Atualizando os valores inconsistentes:"
   ]
  },
  {
   "cell_type": "code",
   "execution_count": 4,
   "metadata": {
    "vscode": {
     "languageId": "sql"
    }
   },
   "outputs": [],
   "source": [
    "UPDATE Classificacao C\n",
    "SET C.CategoriaSuperior = 'Herbs and Spices'\n",
    "WHERE C.CategoriaSuperior = 'Herbs and spices';\n"
   ]
  },
  {
   "cell_type": "markdown",
   "metadata": {},
   "source": [
    "Criando uma VIEW para representar as relações entre os grupos e subgrupos:"
   ]
  },
  {
   "cell_type": "code",
   "execution_count": 5,
   "metadata": {
    "vscode": {
     "languageId": "sql"
    }
   },
   "outputs": [],
   "source": [
    "DROP VIEW IF EXISTS GrupoSubgrupo;\n",
    "\n",
    "CREATE VIEW GrupoSubgrupo AS\n",
    "    SELECT DISTINCT CategoriaInferior, CategoriaSuperior\n",
    "    FROM Classificacao\n",
    "    WHERE CategoriaInferior <> ''\n",
    "    ORDER BY CategoriaInferior, CategoriaSuperior;\n"
   ]
  },
  {
   "cell_type": "markdown",
   "metadata": {},
   "source": [
    "Visualizando:"
   ]
  },
  {
   "cell_type": "code",
   "execution_count": 6,
   "metadata": {
    "vscode": {
     "languageId": "sql"
    }
   },
   "outputs": [
    {
     "data": {
      "application/vnd.jupyter.widget-view+json": {
       "model_id": "1f54434d-41a7-4cfb-8447-c65e020c9493",
       "version_major": 2,
       "version_minor": 0
      },
      "method": "display_data"
     },
     "metadata": {},
     "output_type": "display_data"
    }
   ],
   "source": [
    "SELECT * FROM GrupoSubgrupo LIMIT 10;\n"
   ]
  },
  {
   "cell_type": "markdown",
   "metadata": {},
   "source": [
    "Exportando esses dados:"
   ]
  },
  {
   "cell_type": "code",
   "execution_count": 7,
   "metadata": {
    "vscode": {
     "languageId": "sql"
    }
   },
   "outputs": [
    {
     "data": {
      "text/plain": [
       "119"
      ]
     },
     "execution_count": 7,
     "metadata": {},
     "output_type": "execute_result"
    }
   ],
   "source": [
    "CALL CSVWRITE('../data/processed/database/classificacao.csv',\n",
    "              'SELECT * FROM GrupoSubgrupo');\n"
   ]
  },
  {
   "cell_type": "markdown",
   "metadata": {},
   "source": [
    "### Dados dos ingredientes"
   ]
  },
  {
   "cell_type": "markdown",
   "metadata": {},
   "source": [
    "Importando os dados dos ingredientes do FooDB."
   ]
  },
  {
   "cell_type": "code",
   "execution_count": 8,
   "metadata": {
    "vscode": {
     "languageId": "sql"
    }
   },
   "outputs": [],
   "source": [
    "DROP TABLE IF EXISTS Ingrediente;\n",
    "\n",
    "CREATE TABLE Ingrediente (\n",
    "  Id INT,\n",
    "  Nome VARCHAR(100),\n",
    "  Classificacao VARCHAR(100),\n",
    "  PRIMARY KEY (Id),\n",
    ") AS SELECT\n",
    "  id, name, food_subgroup\n",
    "FROM CSVREAD('../data/raw/foodb/Food.csv');\n"
   ]
  },
  {
   "cell_type": "markdown",
   "metadata": {},
   "source": [
    "Adicionando novos ingredientes (serão usados para as outras bases). Os ids são continuações dos ids dos ingredientes do FooDB para não haver problemas de integração."
   ]
  },
  {
   "cell_type": "code",
   "execution_count": 9,
   "metadata": {
    "vscode": {
     "languageId": "sql"
    }
   },
   "outputs": [],
   "source": [
    "INSERT INTO Ingrediente VALUES (1025, 'Plant', NULL);\n",
    "INSERT INTO Ingrediente VALUES (1026, 'Meat', NULL);\n",
    "INSERT INTO Ingrediente VALUES (1027, 'Unknown', NULL);\n",
    "INSERT INTO Ingrediente VALUES (1028, 'Essential oil', NULL);\n"
   ]
  },
  {
   "cell_type": "markdown",
   "metadata": {},
   "source": [
    "Visualizando os dados:"
   ]
  },
  {
   "cell_type": "code",
   "execution_count": 10,
   "metadata": {
    "vscode": {
     "languageId": "sql"
    }
   },
   "outputs": [
    {
     "data": {
      "application/vnd.jupyter.widget-view+json": {
       "model_id": "2e3061c9-75bd-4704-952a-4fc3b8227dd9",
       "version_major": 2,
       "version_minor": 0
      },
      "method": "display_data"
     },
     "metadata": {},
     "output_type": "display_data"
    }
   ],
   "source": [
    "SELECT * FROM Ingrediente LIMIT 10;\n"
   ]
  },
  {
   "cell_type": "markdown",
   "metadata": {},
   "source": [
    "Esses são os dados necessários dos ingredientes. Exportando eles ordenados:"
   ]
  },
  {
   "cell_type": "code",
   "execution_count": 11,
   "metadata": {
    "vscode": {
     "languageId": "sql"
    }
   },
   "outputs": [
    {
     "data": {
      "text/plain": [
       "996"
      ]
     },
     "execution_count": 11,
     "metadata": {},
     "output_type": "execute_result"
    }
   ],
   "source": [
    "CALL CSVWRITE('../data/interim/foodb/ingredientes.csv',\n",
    "              'SELECT * FROM Ingrediente ORDER BY Id');\n"
   ]
  },
  {
   "cell_type": "markdown",
   "metadata": {},
   "source": [
    "### Componentes (componentes químicos e macronutrientes)"
   ]
  },
  {
   "cell_type": "markdown",
   "metadata": {},
   "source": [
    "Os componentes químicos e macronutrientes estão em tabelas diferentes no FooDB. Assim, para seguir o modelo proposto, primeiro eles serão importados e depois serão associados em uma única tabela com um atributo de tipo. Esse atributo pode ser preenchido durante a importação dos dados:"
   ]
  },
  {
   "cell_type": "code",
   "execution_count": 12,
   "metadata": {
    "vscode": {
     "languageId": "sql"
    }
   },
   "outputs": [],
   "source": [
    "DROP TABLE IF EXISTS Nutrientes;\n",
    "DROP TABLE IF EXISTS Componentes;\n",
    "\n",
    "CREATE TABLE Nutrientes (\n",
    "  Id INT,\n",
    "  Nome VARCHAR(300),\n",
    "  Tipo VARCHAR(20),\n",
    "  PRIMARY KEY (Id)\n",
    ") AS SELECT\n",
    "  id, name, 'Nutriente'\n",
    "FROM CSVREAD('../data/raw/foodb/Nutrient.csv');\n",
    "\n",
    "CREATE TABLE Componentes (\n",
    "  Id INT,\n",
    "  Nome VARCHAR(300),\n",
    "  Tipo VARCHAR(20),\n",
    "  PRIMARY KEY (Id)\n",
    ") AS SELECT\n",
    "  id, name, 'Componente'\n",
    "FROM CSVREAD('../data/raw/foodb/Compound.csv');\n"
   ]
  },
  {
   "cell_type": "markdown",
   "metadata": {},
   "source": [
    "Visualizando os dados:"
   ]
  },
  {
   "cell_type": "code",
   "execution_count": 13,
   "metadata": {
    "vscode": {
     "languageId": "sql"
    }
   },
   "outputs": [
    {
     "data": {
      "application/vnd.jupyter.widget-view+json": {
       "model_id": "7427fee8-0984-40bc-91ac-3b6357f379fb",
       "version_major": 2,
       "version_minor": 0
      },
      "method": "display_data"
     },
     "metadata": {},
     "output_type": "display_data"
    }
   ],
   "source": [
    "SELECT * FROM Nutrientes LIMIT 10;\n"
   ]
  },
  {
   "cell_type": "code",
   "execution_count": 14,
   "metadata": {
    "vscode": {
     "languageId": "sql"
    }
   },
   "outputs": [
    {
     "data": {
      "application/vnd.jupyter.widget-view+json": {
       "model_id": "c8ba410f-058a-4fb2-98e4-5d3e01368bc7",
       "version_major": 2,
       "version_minor": 0
      },
      "method": "display_data"
     },
     "metadata": {},
     "output_type": "display_data"
    }
   ],
   "source": [
    "SELECT * FROM Componentes LIMIT 10;\n"
   ]
  },
  {
   "cell_type": "markdown",
   "metadata": {},
   "source": [
    "Agora, é possível realizar a união:"
   ]
  },
  {
   "cell_type": "code",
   "execution_count": 15,
   "metadata": {
    "vscode": {
     "languageId": "sql"
    }
   },
   "outputs": [],
   "source": [
    "DROP VIEW IF EXISTS UniaoComponentesNutrientes;\n",
    "\n",
    "CREATE VIEW UniaoComponentesNutrientes AS\n",
    "(SELECT * FROM Nutrientes\n",
    "UNION\n",
    "SELECT * FROM Componentes)\n",
    "ORDER BY Id;\n"
   ]
  },
  {
   "cell_type": "markdown",
   "metadata": {},
   "source": [
    "Visualizando os dados. É claro que, ao realizar a união, há ids repetidos. Logo, a chave primária dessa nova tabela deve ser considerada como id + tipo, assim como foi proposto."
   ]
  },
  {
   "cell_type": "code",
   "execution_count": 16,
   "metadata": {
    "vscode": {
     "languageId": "sql"
    }
   },
   "outputs": [
    {
     "data": {
      "application/vnd.jupyter.widget-view+json": {
       "model_id": "2391d067-7920-483c-9c52-bac2b42ab810",
       "version_major": 2,
       "version_minor": 0
      },
      "method": "display_data"
     },
     "metadata": {},
     "output_type": "display_data"
    }
   ],
   "source": [
    "SELECT * FROM UniaoComponentesNutrientes LIMIT 10;\n"
   ]
  },
  {
   "cell_type": "markdown",
   "metadata": {},
   "source": [
    "Exportando a VIEW diretamente para os dados da base final:"
   ]
  },
  {
   "cell_type": "code",
   "execution_count": 17,
   "metadata": {
    "vscode": {
     "languageId": "sql"
    }
   },
   "outputs": [
    {
     "data": {
      "text/plain": [
       "70516"
      ]
     },
     "execution_count": 17,
     "metadata": {},
     "output_type": "execute_result"
    }
   ],
   "source": [
    "CALL CSVWRITE('../data/processed/database/componente.csv',\n",
    "              'SELECT * FROM UniaoComponentesNutrientes');\n"
   ]
  },
  {
   "cell_type": "markdown",
   "metadata": {},
   "source": [
    "### Quantidades dos componentes nos ingredientes"
   ]
  },
  {
   "cell_type": "markdown",
   "metadata": {},
   "source": [
    "Por fim, falta relacionar os ingredientes com as quantidades de componentes deles. Os valores médios serão considerados a partir dos dados do FooDB. "
   ]
  },
  {
   "cell_type": "code",
   "execution_count": 18,
   "metadata": {
    "vscode": {
     "languageId": "sql"
    }
   },
   "outputs": [],
   "source": [
    "DROP TABLE IF EXISTS Associacao;\n",
    "\n",
    "CREATE TABLE Associacao (\n",
    "  Id INT,\n",
    "  IdComponente INT,\n",
    "  TipoComponente VARCHAR(20),\n",
    "  FoodId INT,\n",
    "  Media DECIMAL(10, 3),\n",
    "  Unidade VARCHAR(30),\n",
    "  PRIMARY KEY (Id)\n",
    ") AS SELECT\n",
    "  id, source_id, source_type, food_id, orig_content, orig_unit\n",
    "FROM CSVREAD('../data/raw/foodb/Content.csv');\n"
   ]
  },
  {
   "cell_type": "markdown",
   "metadata": {},
   "source": [
    "Visualizando os dados:"
   ]
  },
  {
   "cell_type": "code",
   "execution_count": 19,
   "metadata": {
    "vscode": {
     "languageId": "sql"
    }
   },
   "outputs": [
    {
     "data": {
      "application/vnd.jupyter.widget-view+json": {
       "model_id": "02d0325e-687c-48f4-86e7-98c7a2e0d6a5",
       "version_major": 2,
       "version_minor": 0
      },
      "method": "display_data"
     },
     "metadata": {},
     "output_type": "display_data"
    }
   ],
   "source": [
    "SELECT * FROM Associacao LIMIT 10;\n"
   ]
  },
  {
   "cell_type": "markdown",
   "metadata": {},
   "source": [
    "Os dados contém informações sobre diferentes partes/tipos dos alimentos e as quantidades dos componentes. Então, é possível agrupar ingredientes, componentes e unidades de forma única e fazer a média dos valores. Isso fornece dados únicos para cada ingrediente.\n",
    "\n",
    "Um problema enfrentado nesse caso foi a grande quantidade de dados. Há mais de 70 mil componentes existentes, mas muitos ingredientes têm quantidades de componentes não quantificadas. Assim, para simplificação - e por as análises serem feitas com quantidades quantificáveis - apenas componentes com quantidade definida são considerados."
   ]
  },
  {
   "cell_type": "code",
   "execution_count": 20,
   "metadata": {
    "vscode": {
     "languageId": "sql"
    }
   },
   "outputs": [],
   "source": [
    "DROP VIEW IF EXISTS QuantidadesPadronizadas;\n",
    "\n",
    "CREATE VIEW QuantidadesPadronizadas AS\n",
    "SELECT I.Nome, A.IdComponente, A.TipoComponente, AVG(A.Media) Quantidade, A.Unidade\n",
    "FROM Associacao A, Ingrediente I\n",
    "WHERE A.Unidade <> '' AND A.FoodId = I.Id\n",
    "GROUP BY I.Nome, A.IdComponente, A.TipoComponente, A.Unidade\n",
    "HAVING Quantidade > 0;\n"
   ]
  },
  {
   "cell_type": "markdown",
   "metadata": {},
   "source": [
    "Visualizando as quantidades padronizadas:"
   ]
  },
  {
   "cell_type": "code",
   "execution_count": 21,
   "metadata": {
    "vscode": {
     "languageId": "sql"
    }
   },
   "outputs": [
    {
     "data": {
      "application/vnd.jupyter.widget-view+json": {
       "model_id": "93753ceb-08db-4df0-8057-ed0aa8574560",
       "version_major": 2,
       "version_minor": 0
      },
      "method": "display_data"
     },
     "metadata": {},
     "output_type": "display_data"
    }
   ],
   "source": [
    "SELECT * FROM QuantidadesPadronizadas LIMIT 10;\n"
   ]
  },
  {
   "cell_type": "markdown",
   "metadata": {},
   "source": [
    "Resta agora associar as quantidades aos ingredientes novos criados. \n",
    "\n",
    "Esses ingredientes estão presentes para lidar com a ausência de alguns ingredientes do FooDB. Ao associar as receitas de várias bases, alguns ingredientes não catalogados foram identificados e algumas associações precisaram ser feitas.\n",
    "\n",
    "Os 4 ingredientes novos criados (sem considerar ingredientes compostos ainda) são \"Plant\", \"Meat\", \"Unknown\" e \"Essential oil\". \"Plant\" foi utilizado quando alguma planta não catalogada foi encontrada. \"Meat\" foi utilizado quando algum tipo de carne não catalogado foi encontrado. \"Unknown\" se refere principalmente a produtos de cozimento (spray de cozimento, corante alimentício, ...) e \"Essential oil\" foi utilizado para alguns óleos de plantas muito específicas.\n",
    "\n",
    "A partir de pesquisas, os dois últimos não contêm valor nutricional. Entretanto, \"Plant\" e \"Meat\" têm um valor associado. As opções encontradas então foram: buscar por dados em outras bases, calcular os valores com base em dados disponíveis de outros ingredientes ou apenas ignorar as composições nutricionais.\n",
    "\n",
    "Inicialmente foram buscados dados em outras bases e conteúdos disponíveis. O principal problema, nesse caso, é que tipos diferentes de alimentos mesmo dentro dessas categorias têm composições muito diferentes. Então, tanto essa solução quanto tentar calcular dados não foi viável, porque prezou-se pela consistência de dados reais. Assim, esses 4 ingredientes não têm nenhum valor nutricional agregado.\n",
    "\n",
    "Um questionamento possível nesse caso é \"então por que esses ingredientes existem?\". Apesar de serem de certa forma generalizados, esses ingredientes permitem uma análise mais rica das receitas. Caso eles não existissem, não seria possível associar ingredientes de algumas receitas a nenhum dado na base, o que significaria que elas seriam desconsideradas. Assim, a criação desses ingredientes, apesar de não contribuir com análises de composição, possibilita observar melhor relações de outros ingredientes. Mais detalhes estão disponíveis em outros notebooks."
   ]
  },
  {
   "cell_type": "markdown",
   "metadata": {},
   "source": [
    "Esses valores então já podem ser exportados. Exportando a VIEW:"
   ]
  },
  {
   "cell_type": "code",
   "execution_count": 22,
   "metadata": {
    "vscode": {
     "languageId": "sql"
    }
   },
   "outputs": [
    {
     "data": {
      "text/plain": [
       "75790"
      ]
     },
     "execution_count": 22,
     "metadata": {},
     "output_type": "execute_result"
    }
   ],
   "source": [
    "CALL CSVWRITE('../data/interim/foodb/componentesdosingredientes.csv',\n",
    "              'SELECT * FROM QuantidadesPadronizadas');\n"
   ]
  }
 ],
 "metadata": {
  "kernelspec": {
   "display_name": "SQL",
   "language": "SQL",
   "name": "sql"
  },
  "language_info": {
   "codemirror_mode": "sql",
   "file_extension": ".sql",
   "mimetype": "",
   "name": "SQL",
   "nbconverter_exporter": "",
   "version": ""
  },
  "toc": {
   "base_numbering": 1,
   "nav_menu": {},
   "number_sections": false,
   "sideBar": false,
   "skip_h1_title": false,
   "title_cell": "Table of Contents",
   "title_sidebar": "Contents",
   "toc_cell": false,
   "toc_position": {},
   "toc_section_display": false,
   "toc_window_display": false
  }
 },
 "nbformat": 4,
 "nbformat_minor": 2
}
