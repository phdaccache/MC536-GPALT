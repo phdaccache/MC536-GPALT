{
 "cells": [
  {
   "cell_type": "markdown",
   "metadata": {},
   "source": [
    "# Integrações com o Flavor Network - Equipe GPALT (Analistas de Cardápios)"
   ]
  },
  {
   "cell_type": "markdown",
   "metadata": {},
   "source": [
    "# Importando Tabelas dos dados originais do Flavor Network"
   ]
  },
  {
   "cell_type": "markdown",
   "metadata": {},
   "source": [
    "Os dados dessa base estão disponibilizados de uma maneira não muito boa. O modelo não é um modelo relacional, então primeiro os dados serão ajustados. Para isso, primeiro os dados disponíveis foram separados em dois arquivos com sufixo headerless, que apenas removeu dados referentes aos autores. Sem esses dados, a alternativa para esse processamento foi utilizar os seguintes códigos Python:"
   ]
  },
  {
   "cell_type": "code",
   "execution_count": 1,
   "metadata": {},
   "outputs": [],
   "source": [
    "import csv\n",
    "\n",
    "# Separando as receitas\n",
    "with open(\"../data/interim/flavor network/srep00196-s3-headerless.csv\", 'r') as original:\n",
    "    with open(\"../data/interim/flavor network/receitas.csv\", 'w') as receitas:\n",
    "        data = csv.reader(original)\n",
    "        i = 0\n",
    "        print(\"IDReceita,Nome,BancoOriginal,Origem\", file=receitas)\n",
    "        for row in data:\n",
    "            # As receitas não têm nome. Então o id é importante\n",
    "            print(f'{i},,Flavor Network,{row[0]}', file=receitas)\n",
    "            i += 1\n"
   ]
  },
  {
   "cell_type": "markdown",
   "metadata": {},
   "source": [
    "Para os ingredientes da base, os nomes são todos convertidos para letras minúsculas. Isso auxilia a encontrar os ingredientes mais facilmente, porque não há problemas em relação a letras maiúsculas."
   ]
  },
  {
   "cell_type": "code",
   "execution_count": 2,
   "metadata": {},
   "outputs": [],
   "source": [
    "import csv\n",
    "\n",
    "# Criando as relações entre ingredientes e receitas segundo o modelo relacional\n",
    "with open(\"../data/interim/flavor network/srep00196-s3-headerless.csv\", 'r') as original:\n",
    "    with open(\"../data/interim/flavor network/ingredientesdasreceitas.csv\", 'w') as ingredientesdasreceitas:\n",
    "        data = csv.reader(original)\n",
    "        i = 0\n",
    "        print(\"IDReceita,Banco,Ingrediente,Quantidade,Unidade\", file=ingredientesdasreceitas)\n",
    "        for row in data:\n",
    "            for j in range(1, len(row)):\n",
    "                row[j] = row[j].replace('_', ' ').lower()\n",
    "                # Não se conhece as quantidades/unidades para essas receitas\n",
    "                print(f'{i},Flavor Network,{row[j]},,desconhecida', file=ingredientesdasreceitas)\n",
    "            i += 1\n"
   ]
  },
  {
   "cell_type": "markdown",
   "metadata": {},
   "source": [
    "### Dados dos sabores"
   ]
  },
  {
   "cell_type": "markdown",
   "metadata": {},
   "source": [
    "É necessário remover os caracteres '_' dos nomes dos ingredientes, assim como anteriormente."
   ]
  },
  {
   "cell_type": "code",
   "execution_count": 3,
   "metadata": {},
   "outputs": [],
   "source": [
    "import csv\n",
    "\n",
    "with open(\"../data/interim/flavor network/srep00196-s2-headerless.csv\", 'r') as original:\n",
    "    with open(\"../data/interim/flavor network/sabores.csv\", 'w') as sabores:\n",
    "        data = csv.reader(original)\n",
    "\n",
    "        print(\"idsabor,ingredientea,ingredienteb,quantidade\", file=sabores)\n",
    "        i = 0\n",
    "        for row in data:\n",
    "            row[0] = row[0].replace('_', ' ').lower()\n",
    "            row[1] = row[1].replace('_', ' ').lower()\n",
    "            print(f'{i},{row[0]},{row[1]},{row[2]}', file=sabores)\n",
    "            i += 1\n"
   ]
  }
 ],
 "metadata": {
  "kernelspec": {
   "display_name": "Python 3",
   "language": "python",
   "name": "python3"
  },
  "language_info": {
   "codemirror_mode": {
    "name": "ipython",
    "version": 3
   },
   "file_extension": ".py",
   "mimetype": "text/x-python",
   "name": "python",
   "nbconvert_exporter": "python",
   "pygments_lexer": "ipython3",
   "version": "3.6.5"
  },
  "toc": {
   "base_numbering": 1,
   "nav_menu": {},
   "number_sections": false,
   "sideBar": false,
   "skip_h1_title": false,
   "title_cell": "Table of Contents",
   "title_sidebar": "Contents",
   "toc_cell": false,
   "toc_position": {},
   "toc_section_display": false,
   "toc_window_display": false
  }
 },
 "nbformat": 4,
 "nbformat_minor": 2
}
