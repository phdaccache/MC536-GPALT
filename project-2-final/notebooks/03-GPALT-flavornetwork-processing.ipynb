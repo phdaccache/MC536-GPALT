{
 "cells": [
  {
   "cell_type": "markdown",
   "metadata": {},
   "source": [
    "# Integrações com o Flavor Network - Equipe GPALT (Analistas de Cardápios)"
   ]
  },
  {
   "cell_type": "markdown",
   "metadata": {},
   "source": [
    "Ativando uma conexão de banco de dados em memória usando o SGBD H2:"
   ]
  },
  {
   "cell_type": "code",
   "execution_count": 1,
   "metadata": {
    "vscode": {
     "languageId": "sql"
    }
   },
   "outputs": [],
   "source": [
    "%defaultDatasource jdbc:h2:mem:db\n"
   ]
  },
  {
   "cell_type": "markdown",
   "metadata": {},
   "source": [
    "# Importando Tabelas dos dados originais do Flavor Network"
   ]
  },
  {
   "cell_type": "markdown",
   "metadata": {},
   "source": [
    "### Padronizando ingredientes"
   ]
  },
  {
   "cell_type": "markdown",
   "metadata": {},
   "source": [
    "Com os arquivos criados no notebook anterior, agora é possível padronizar os ingredientes com os nomes do FooDB. Nesse caso, o arquivo de associação será utilizado. Criando as tabelas necessárias"
   ]
  },
  {
   "cell_type": "code",
   "execution_count": 2,
   "metadata": {
    "vscode": {
     "languageId": "sql"
    }
   },
   "outputs": [],
   "source": [
    "DROP TABLE IF EXISTS AssociacaoComFooDB;\n",
    "DROP TABLE IF EXISTS DadosFlavor;\n",
    "\n",
    "CREATE TABLE AssociacaoComFooDB (\n",
    "  Nome VARCHAR(100),\n",
    "  FooDB VARCHAR(100),\n",
    "  PRIMARY KEY (Nome)\n",
    ") AS SELECT\n",
    "  nome_ingrediente, nome_foodb\n",
    "FROM CSVREAD('../data/external/associacaofinal.csv');\n",
    "\n",
    "CREATE TABLE DadosFlavor (\n",
    "  IDReceita INT,\n",
    "  Banco VARCHAR(20),\n",
    "  Ingrediente VARCHAR(100),\n",
    "  Quantidade INT,\n",
    "  Unidade VARCHAR(20),\n",
    "  PRIMARY KEY (IDReceita, Banco, Ingrediente)\n",
    ") AS SELECT\n",
    "  IDReceita, Banco, Ingrediente, Quantidade, Unidade\n",
    "FROM CSVREAD('../data/interim/flavor network/ingredientesdasreceitas.csv');\n"
   ]
  },
  {
   "cell_type": "markdown",
   "metadata": {},
   "source": [
    "Visualizando os dados:"
   ]
  },
  {
   "cell_type": "code",
   "execution_count": 3,
   "metadata": {
    "vscode": {
     "languageId": "sql"
    }
   },
   "outputs": [
    {
     "data": {
      "application/vnd.jupyter.widget-view+json": {
       "model_id": "0167f4e8-99cd-43f6-bc78-d26da346859d",
       "version_major": 2,
       "version_minor": 0
      },
      "method": "display_data"
     },
     "metadata": {},
     "output_type": "display_data"
    }
   ],
   "source": [
    "SELECT * FROM AssociacaoComFooDB LIMIT 10;\n"
   ]
  },
  {
   "cell_type": "code",
   "execution_count": 4,
   "metadata": {
    "vscode": {
     "languageId": "sql"
    }
   },
   "outputs": [
    {
     "data": {
      "application/vnd.jupyter.widget-view+json": {
       "model_id": "ec85d60d-1c87-4857-ac8a-63c985ab014c",
       "version_major": 2,
       "version_minor": 0
      },
      "method": "display_data"
     },
     "metadata": {},
     "output_type": "display_data"
    }
   ],
   "source": [
    "SELECT * FROM DadosFlavor LIMIT 10;\n"
   ]
  },
  {
   "cell_type": "markdown",
   "metadata": {},
   "source": [
    "Criando uma VIEW com os nomes dos ingredientes padronizados:"
   ]
  },
  {
   "cell_type": "code",
   "execution_count": 5,
   "metadata": {
    "vscode": {
     "languageId": "sql"
    }
   },
   "outputs": [],
   "source": [
    "DROP VIEW IF EXISTS Padronizados;\n",
    "\n",
    "CREATE VIEW Padronizados AS\n",
    "SELECT D.IDReceita, D.Banco, A.FooDB Ingrediente, D.Quantidade, D.Unidade\n",
    "FROM DadosFlavor D, AssociacaoComFooDB A\n",
    "WHERE D.Ingrediente = A.Nome\n",
    "GROUP BY D.IDReceita, D.Banco, Ingrediente, D.Quantidade, D.Unidade\n",
    "ORDER BY D.IDReceita;\n"
   ]
  },
  {
   "cell_type": "markdown",
   "metadata": {},
   "source": [
    "Visualizando a VIEW:"
   ]
  },
  {
   "cell_type": "code",
   "execution_count": 6,
   "metadata": {
    "vscode": {
     "languageId": "sql"
    }
   },
   "outputs": [
    {
     "data": {
      "application/vnd.jupyter.widget-view+json": {
       "model_id": "7f508299-9b97-4dfb-b847-ac66f9f4875f",
       "version_major": 2,
       "version_minor": 0
      },
      "method": "display_data"
     },
     "metadata": {},
     "output_type": "display_data"
    }
   ],
   "source": [
    "SELECT * FROM Padronizados LIMIT 10;\n"
   ]
  },
  {
   "cell_type": "markdown",
   "metadata": {},
   "source": [
    "Exportando esses dados:"
   ]
  },
  {
   "cell_type": "code",
   "execution_count": 7,
   "metadata": {
    "vscode": {
     "languageId": "sql"
    }
   },
   "outputs": [
    {
     "data": {
      "text/plain": [
       "457461"
      ]
     },
     "execution_count": 7,
     "metadata": {},
     "output_type": "execute_result"
    }
   ],
   "source": [
    "CALL CSVWRITE('../data/interim/flavor network/ingredientesdasreceitaspadronizados.csv',\n",
    "              'SELECT * FROM Padronizados');\n"
   ]
  },
  {
   "cell_type": "markdown",
   "metadata": {},
   "source": [
    "### Dados dos sabores"
   ]
  },
  {
   "cell_type": "markdown",
   "metadata": {},
   "source": [
    "Com essas alterações do notebook anterior nos nomes dos ingredientes, os nomes deles nos sabores também precisam ser alterados. Como os sabores relacionam ingredientes presentes na base com ingredientes de fora, os ingredientes que estiverem na base original devem ter os nomes atualizados. Importando os dados dos sabores:"
   ]
  },
  {
   "cell_type": "code",
   "execution_count": 8,
   "metadata": {
    "vscode": {
     "languageId": "sql"
    }
   },
   "outputs": [],
   "source": [
    "DROP TABLE IF EXISTS DadosSabores;\n",
    "\n",
    "CREATE TABLE DadosSabores (\n",
    "  Id INT,\n",
    "  A VARCHAR(100),\n",
    "  B VARCHAR(100),\n",
    "  Quantidade INT NULL,\n",
    "  PRIMARY KEY (Id)\n",
    ") AS SELECT\n",
    "  idsabor,ingredientea, ingredienteb, quantidade\n",
    "FROM CSVREAD('../data/interim/flavor network/sabores.csv');\n"
   ]
  },
  {
   "cell_type": "markdown",
   "metadata": {},
   "source": [
    "Visualizando:"
   ]
  },
  {
   "cell_type": "code",
   "execution_count": 9,
   "metadata": {
    "vscode": {
     "languageId": "sql"
    }
   },
   "outputs": [
    {
     "data": {
      "application/vnd.jupyter.widget-view+json": {
       "model_id": "434ccf19-7a32-436d-bc82-a9bc8cc9b65e",
       "version_major": 2,
       "version_minor": 0
      },
      "method": "display_data"
     },
     "metadata": {},
     "output_type": "display_data"
    }
   ],
   "source": [
    "SELECT * FROM DadosSabores LIMIT 10;\n"
   ]
  },
  {
   "cell_type": "markdown",
   "metadata": {},
   "source": [
    "Alterando os nomes dos ingredientes das receitas para os valores novos:"
   ]
  },
  {
   "cell_type": "code",
   "execution_count": 10,
   "metadata": {
    "vscode": {
     "languageId": "sql"
    }
   },
   "outputs": [],
   "source": [
    "UPDATE DadosSabores S\n",
    "SET S.A = (SELECT A.FooDB FROM AssociacaoComFooDB A WHERE A.Nome = S.A)\n",
    "WHERE S.A IN (SELECT DISTINCT DF.Ingrediente FROM DadosFlavor DF);\n",
    "\n",
    "UPDATE DadosSabores S\n",
    "SET S.B = (SELECT A.FooDB FROM AssociacaoComFooDB A WHERE A.Nome = S.B)\n",
    "WHERE S.B IN (SELECT DISTINCT DF.Ingrediente FROM DadosFlavor DF);\n"
   ]
  },
  {
   "cell_type": "markdown",
   "metadata": {},
   "source": [
    "Exportando os sabores finais, com quantidade associada:"
   ]
  },
  {
   "cell_type": "code",
   "execution_count": 11,
   "metadata": {
    "vscode": {
     "languageId": "sql"
    }
   },
   "outputs": [
    {
     "data": {
      "text/plain": [
       "221777"
      ]
     },
     "execution_count": 11,
     "metadata": {},
     "output_type": "execute_result"
    }
   ],
   "source": [
    "CALL CSVWRITE('../data/interim/flavor network/saboresfinais.csv',\n",
    "              'SELECT * FROM DadosSabores');\n"
   ]
  },
  {
   "cell_type": "markdown",
   "metadata": {},
   "source": [
    "### Origem das receitas"
   ]
  },
  {
   "cell_type": "markdown",
   "metadata": {},
   "source": [
    "Seguindo o modelo proposto, é preciso normalizar também os nomes dos lugares de origem das receitas."
   ]
  },
  {
   "cell_type": "code",
   "execution_count": 12,
   "metadata": {
    "vscode": {
     "languageId": "sql"
    }
   },
   "outputs": [],
   "source": [
    "DROP TABLE IF EXISTS Receitas;\n",
    "\n",
    "CREATE TABLE Receitas (\n",
    "  Id INT,\n",
    "  Origem VARCHAR(50),\n",
    "  PRIMARY KEY (Id)\n",
    ") AS SELECT\n",
    "  IDReceita, Origem\n",
    "FROM CSVREAD('../data/interim/flavor network/receitas.csv');\n"
   ]
  },
  {
   "cell_type": "markdown",
   "metadata": {},
   "source": [
    "Visualizando:"
   ]
  },
  {
   "cell_type": "code",
   "execution_count": 13,
   "metadata": {
    "vscode": {
     "languageId": "sql"
    }
   },
   "outputs": [
    {
     "data": {
      "application/vnd.jupyter.widget-view+json": {
       "model_id": "ceea9bee-704a-431b-8d45-5de4924b93ae",
       "version_major": 2,
       "version_minor": 0
      },
      "method": "display_data"
     },
     "metadata": {},
     "output_type": "display_data"
    }
   ],
   "source": [
    "SELECT * FROM Receitas LIMIT 10;\n"
   ]
  },
  {
   "cell_type": "markdown",
   "metadata": {},
   "source": [
    "Selecionando apenas as regiões únicas:"
   ]
  },
  {
   "cell_type": "code",
   "execution_count": 14,
   "metadata": {
    "vscode": {
     "languageId": "sql"
    }
   },
   "outputs": [],
   "source": [
    "DROP VIEW IF EXISTS Regioes;\n",
    "\n",
    "CREATE VIEW Regioes AS\n",
    "    SELECT DISTINCT Origem\n",
    "    FROM Receitas\n",
    "    ORDER BY Origem;\n"
   ]
  },
  {
   "cell_type": "markdown",
   "metadata": {},
   "source": [
    "Visualizando:"
   ]
  },
  {
   "cell_type": "code",
   "execution_count": 15,
   "metadata": {
    "vscode": {
     "languageId": "sql"
    }
   },
   "outputs": [
    {
     "data": {
      "application/vnd.jupyter.widget-view+json": {
       "model_id": "c2ad58ee-db0a-456c-835e-d91717dc20ff",
       "version_major": 2,
       "version_minor": 0
      },
      "method": "display_data"
     },
     "metadata": {},
     "output_type": "display_data"
    }
   ],
   "source": [
    "SELECT * FROM Regioes LIMIT 10;\n"
   ]
  },
  {
   "cell_type": "markdown",
   "metadata": {},
   "source": [
    "Exportando:"
   ]
  },
  {
   "cell_type": "code",
   "execution_count": 16,
   "metadata": {
    "vscode": {
     "languageId": "sql"
    }
   },
   "outputs": [
    {
     "data": {
      "text/plain": [
       "11"
      ]
     },
     "execution_count": 16,
     "metadata": {},
     "output_type": "execute_result"
    }
   ],
   "source": [
    "CALL CSVWRITE('../data/interim/flavor network/origens.csv',\n",
    "              'SELECT * FROM Regioes');\n"
   ]
  }
 ],
 "metadata": {
  "kernelspec": {
   "display_name": "SQL",
   "language": "SQL",
   "name": "sql"
  },
  "language_info": {
   "codemirror_mode": "sql",
   "file_extension": ".sql",
   "mimetype": "",
   "name": "SQL",
   "nbconverter_exporter": "",
   "version": ""
  },
  "toc": {
   "base_numbering": 1,
   "nav_menu": {},
   "number_sections": false,
   "sideBar": false,
   "skip_h1_title": false,
   "title_cell": "Table of Contents",
   "title_sidebar": "Contents",
   "toc_cell": false,
   "toc_position": {},
   "toc_section_display": false,
   "toc_window_display": false
  }
 },
 "nbformat": 4,
 "nbformat_minor": 2
}
