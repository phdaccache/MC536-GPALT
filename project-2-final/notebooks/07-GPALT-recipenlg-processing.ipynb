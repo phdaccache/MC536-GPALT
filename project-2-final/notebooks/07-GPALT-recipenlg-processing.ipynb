{
 "cells": [
  {
   "cell_type": "markdown",
   "metadata": {},
   "source": [
    "# Integrações com o RecipeNLG - Equipe GPALT (Analistas de Cardápios)"
   ]
  },
  {
   "cell_type": "markdown",
   "metadata": {},
   "source": [
    "Ativando uma conexão de banco de dados em memória usando o SGBD H2:"
   ]
  },
  {
   "cell_type": "code",
   "execution_count": 1,
   "metadata": {
    "vscode": {
     "languageId": "sql"
    }
   },
   "outputs": [],
   "source": [
    "%defaultDatasource jdbc:h2:mem:db\n"
   ]
  },
  {
   "cell_type": "markdown",
   "metadata": {},
   "source": [
    "# Importando Tabelas dos dados originais do RecipeNLG"
   ]
  },
  {
   "cell_type": "markdown",
   "metadata": {},
   "source": [
    "### NERs"
   ]
  },
  {
   "cell_type": "markdown",
   "metadata": {},
   "source": [
    "Os NERs foram separados anteriormente. A visualização (bem como a contagem) dos que mais aparecem pode ser realizada a partir dos dados obtidos:"
   ]
  },
  {
   "cell_type": "code",
   "execution_count": 2,
   "metadata": {
    "vscode": {
     "languageId": "sql"
    }
   },
   "outputs": [],
   "source": [
    "DROP TABLE IF EXISTS NERs;\n",
    "\n",
    "CREATE TABLE NERs (\n",
    "  NER VARCHAR(200),\n",
    "  Quantidade INT,\n",
    "  PRIMARY KEY (NER)\n",
    ") AS SELECT\n",
    "  NER, COUNT(*) Quantidade\n",
    "FROM CSVREAD('../data/interim/recipenlg/ners.csv') GROUP BY NER;\n"
   ]
  },
  {
   "cell_type": "markdown",
   "metadata": {},
   "source": [
    "Os NERs com mais de 10 mil usos nas receitas terão sua integração garantida. Uma menção importante é ao ingrediente de NER \\u00bc (símbolo de 1/4), que aparece em inúmeras receitas. Nesse caso, o ingrediente criado \"Unknown\" foi útil, porque ele permite associar esse NER a algo desconhecido, evitando que as receitas sejam possivelmente descartadas (a quantidade de usos desse NER nas receitas é grande)."
   ]
  },
  {
   "cell_type": "code",
   "execution_count": 3,
   "metadata": {
    "vscode": {
     "languageId": "sql"
    }
   },
   "outputs": [
    {
     "data": {
      "application/vnd.jupyter.widget-view+json": {
       "model_id": "d7c7c189-3002-4f03-93c7-b03847e4265f",
       "version_major": 2,
       "version_minor": 0
      },
      "method": "display_data"
     },
     "metadata": {},
     "output_type": "display_data"
    }
   ],
   "source": [
    "SELECT NER\n",
    "FROM NERs\n",
    "GROUP BY NER\n",
    "HAVING Quantidade >= 10000\n",
    "ORDER BY Quantidade DESC;\n"
   ]
  },
  {
   "cell_type": "markdown",
   "metadata": {},
   "source": [
    "### Receitas inconsistentes"
   ]
  },
  {
   "cell_type": "markdown",
   "metadata": {},
   "source": [
    "Com o processamento feito na base, agora a relação de ingredientes e receitas dentro da própria base do RecipeNLG está pronta. Como nos dados finais os ingredientes serão integrados com o FooDB, é preciso lidar com receitas que tenham ingredientes não integrados. Nesse caso, foi decidido que elas serão apagadas. Isso porque, prezando por uma maior consistência dos dados, não faz sentido considerar apenas partes das receitas."
   ]
  },
  {
   "cell_type": "markdown",
   "metadata": {},
   "source": [
    "Nessa etapa, houve dificuldade em importar a grande quantidade de dados. A solução encontrada foi fazer uma seleção junto à importação dos dados, filtrando somente o necessário. Encontrando as receitas que devem ser apagadas:"
   ]
  },
  {
   "cell_type": "code",
   "execution_count": 4,
   "metadata": {
    "vscode": {
     "languageId": "sql"
    }
   },
   "outputs": [],
   "source": [
    "DROP TABLE IF EXISTS AssociacaoComFooDB;\n",
    "-- Todas as receitas cujos ingredientes foram padronizados\n",
    "DROP TABLE IF EXISTS ReceitasTotais;\n",
    "-- Todas as receitas com um ou mais ingredientes não integráveis\n",
    "DROP TABLE IF EXISTS ReceitasErradas;\n",
    "\n",
    "CREATE TABLE AssociacaoComFooDB (\n",
    "  Nome VARCHAR(100),\n",
    "  FooDB VARCHAR(100),\n",
    "  PRIMARY KEY (Nome)\n",
    ") AS SELECT\n",
    "  nome_ingrediente, nome_foodb\n",
    "FROM CSVREAD('../data/external/associacaofinal.csv');\n",
    "\n",
    "CREATE TABLE ReceitasTotais (\n",
    "  ID INT,\n",
    "  PRIMARY KEY (ID)\n",
    ") AS SELECT DISTINCT\n",
    "  IDReceita\n",
    "FROM CSVREAD('../data/interim/recipenlg/ingredientesnasreceitas.csv');\n",
    "\n",
    "CREATE TABLE ReceitasErradas (\n",
    "  ID INT,\n",
    "  PRIMARY KEY (ID)\n",
    ") AS SELECT DISTINCT\n",
    "  IDReceita\n",
    "FROM CSVREAD('../data/interim/recipenlg/ingredientesnasreceitas.csv') WHERE Ingrediente NOT IN (SELECT Nome FROM AssociacaoComFooDB);\n"
   ]
  },
  {
   "cell_type": "markdown",
   "metadata": {},
   "source": [
    "Visualizando:"
   ]
  },
  {
   "cell_type": "code",
   "execution_count": 5,
   "metadata": {
    "vscode": {
     "languageId": "sql"
    }
   },
   "outputs": [
    {
     "data": {
      "application/vnd.jupyter.widget-view+json": {
       "model_id": "43d30b9e-02fb-460e-9137-880d02cee887",
       "version_major": 2,
       "version_minor": 0
      },
      "method": "display_data"
     },
     "metadata": {},
     "output_type": "display_data"
    }
   ],
   "source": [
    "SELECT * FROM ReceitasTotais LIMIT 10;\n"
   ]
  },
  {
   "cell_type": "code",
   "execution_count": 6,
   "metadata": {
    "vscode": {
     "languageId": "sql"
    }
   },
   "outputs": [
    {
     "data": {
      "application/vnd.jupyter.widget-view+json": {
       "model_id": "d421cb64-2e42-4129-9b6e-30f2f73a1e6b",
       "version_major": 2,
       "version_minor": 0
      },
      "method": "display_data"
     },
     "metadata": {},
     "output_type": "display_data"
    }
   ],
   "source": [
    "SELECT * FROM ReceitasErradas LIMIT 10;\n"
   ]
  },
  {
   "cell_type": "markdown",
   "metadata": {},
   "source": [
    "Importando os nomes das receitas:"
   ]
  },
  {
   "cell_type": "code",
   "execution_count": 7,
   "metadata": {
    "vscode": {
     "languageId": "sql"
    }
   },
   "outputs": [],
   "source": [
    "DROP TABLE IF EXISTS NomesReceitas;\n",
    "\n",
    "CREATE TABLE NomesReceitas (\n",
    "  Id INT,\n",
    "  Nome VARCHAR(350),\n",
    "  BancoOriginal VARCHAR(50),\n",
    "  Origem VARCHAR(50),\n",
    "  PRIMARY KEY (Id)\n",
    ") AS SELECT\n",
    "  ID, Nome, BancoOriginal, Origem\n",
    "FROM CSVREAD('../data/interim/recipenlg/recipes.csv');\n"
   ]
  },
  {
   "cell_type": "markdown",
   "metadata": {},
   "source": [
    "Visualizando:"
   ]
  },
  {
   "cell_type": "code",
   "execution_count": 8,
   "metadata": {
    "vscode": {
     "languageId": "sql"
    }
   },
   "outputs": [
    {
     "data": {
      "application/vnd.jupyter.widget-view+json": {
       "model_id": "62eeb750-51f4-42f9-8420-0ff386dc0b51",
       "version_major": 2,
       "version_minor": 0
      },
      "method": "display_data"
     },
     "metadata": {},
     "output_type": "display_data"
    }
   ],
   "source": [
    "SELECT * FROM NomesReceitas LIMIT 10;\n"
   ]
  },
  {
   "cell_type": "markdown",
   "metadata": {},
   "source": [
    "Agora, é preciso filtrar as receitas que estão certas. Isso não foi possível de ser realizado de imediato porque não é possível dizer, sem processar todas as entradas de cada receita, se ela deve ser considerada ou não, já que todos os ingredientes devem ter associação. Assim, a diferença entre as duas tabelas corresponde às receitas que efetivamente serão usadas. Considerando somente as receitas consistentes:"
   ]
  },
  {
   "cell_type": "code",
   "execution_count": 9,
   "metadata": {
    "vscode": {
     "languageId": "sql"
    }
   },
   "outputs": [],
   "source": [
    "DROP VIEW IF EXISTS DadosReceitasCertas;\n",
    "DROP VIEW IF EXISTS ReceitasCertas;\n",
    "\n",
    "CREATE VIEW ReceitasCertas AS\n",
    "    SELECT * FROM ReceitasTotais\n",
    "    EXCEPT\n",
    "    SELECT * FROM ReceitasErradas;\n",
    "\n",
    "CREATE VIEW DadosReceitasCertas AS\n",
    "    SELECT NR.Id, NR.Nome, NR.BancoOriginal, NR.Origem\n",
    "    FROM NomesReceitas NR, ReceitasCertas RC\n",
    "    WHERE NR.Id = RC.ID\n",
    "    ORDER BY NR.ID;\n"
   ]
  },
  {
   "cell_type": "markdown",
   "metadata": {},
   "source": [
    "Visualizando:"
   ]
  },
  {
   "cell_type": "code",
   "execution_count": 10,
   "metadata": {
    "vscode": {
     "languageId": "sql"
    }
   },
   "outputs": [
    {
     "data": {
      "application/vnd.jupyter.widget-view+json": {
       "model_id": "5e620417-d4a8-4f75-acd4-f6d56f4a31c9",
       "version_major": 2,
       "version_minor": 0
      },
      "method": "display_data"
     },
     "metadata": {},
     "output_type": "display_data"
    }
   ],
   "source": [
    "SELECT * FROM ReceitasCertas LIMIT 10;\n"
   ]
  },
  {
   "cell_type": "code",
   "execution_count": 11,
   "metadata": {
    "vscode": {
     "languageId": "sql"
    }
   },
   "outputs": [
    {
     "data": {
      "application/vnd.jupyter.widget-view+json": {
       "model_id": "535410eb-61aa-4807-be43-f4b3b0a5f264",
       "version_major": 2,
       "version_minor": 0
      },
      "method": "display_data"
     },
     "metadata": {},
     "output_type": "display_data"
    }
   ],
   "source": [
    "SELECT * FROM DadosReceitasCertas LIMIT 10;\n"
   ]
  },
  {
   "cell_type": "markdown",
   "metadata": {},
   "source": [
    "Exportando e apagando tabelas que não serão mais usadas nesse momento:"
   ]
  },
  {
   "cell_type": "code",
   "execution_count": 12,
   "metadata": {
    "vscode": {
     "languageId": "sql"
    }
   },
   "outputs": [
    {
     "data": {
      "text/plain": [
       "152954"
      ]
     },
     "execution_count": 12,
     "metadata": {},
     "output_type": "execute_result"
    }
   ],
   "source": [
    "CALL CSVWRITE('../data/interim/recipenlg/receitasfinais.csv',\n",
    "              'SELECT * FROM DadosReceitasCertas');\n",
    "\n",
    "DROP VIEW IF EXISTS DadosReceitasCertas;\n",
    "DROP TABLE IF EXISTS NomesReceitas;\n"
   ]
  },
  {
   "cell_type": "markdown",
   "metadata": {},
   "source": [
    "### Ingredientes e Receitas"
   ]
  },
  {
   "cell_type": "markdown",
   "metadata": {},
   "source": [
    "Falta agora ajustar os dados dos ingredientes nas receitas. Considerando a mesma lógica da importação das receitas e que NomesReceitas, agora, só tem os nomes das receitas consistentes:"
   ]
  },
  {
   "cell_type": "code",
   "execution_count": 13,
   "metadata": {
    "vscode": {
     "languageId": "sql"
    }
   },
   "outputs": [],
   "source": [
    "DROP TABLE IF EXISTS IngredientesNasReceitasRecipe;\n",
    "\n",
    "CREATE TABLE IngredientesNasReceitasRecipe (\n",
    "  IDReceita INT,\n",
    "  Quantidade DECIMAL(20,3),\n",
    "  Unidade VARCHAR(20),\n",
    "  Ingrediente VARCHAR(80),\n",
    "  PRIMARY KEY (IDReceita, Ingrediente)\n",
    ") AS SELECT\n",
    "  IDReceita, Quantidade, Unidade, Ingrediente\n",
    "-- Foram tentadas diferentes construções mas nenhuma delas terminava.\n",
    "-- A solução encontrada foi fazer um LEFT JOIN com as receitas erradas nos campos onde não há match\n",
    "FROM CSVREAD('../data/interim/recipenlg/ingredientesnasreceitas.csv') I LEFT JOIN ReceitasErradas R ON R.ID = I.IDReceita WHERE R.ID IS NULL;\n"
   ]
  },
  {
   "cell_type": "markdown",
   "metadata": {},
   "source": [
    "Visualizando:"
   ]
  },
  {
   "cell_type": "code",
   "execution_count": 14,
   "metadata": {
    "vscode": {
     "languageId": "sql"
    }
   },
   "outputs": [
    {
     "data": {
      "application/vnd.jupyter.widget-view+json": {
       "model_id": "05066ae9-a5b9-4637-b382-539ef65779c4",
       "version_major": 2,
       "version_minor": 0
      },
      "method": "display_data"
     },
     "metadata": {},
     "output_type": "display_data"
    }
   ],
   "source": [
    "SELECT * FROM IngredientesNasReceitasRecipe LIMIT 10;\n"
   ]
  },
  {
   "cell_type": "markdown",
   "metadata": {},
   "source": [
    "Caso a quantidade de um ingrediente seja 0, não se tem informação sobre a quantidade/unidade. Ajustando isso nos dados:"
   ]
  },
  {
   "cell_type": "code",
   "execution_count": 15,
   "metadata": {
    "vscode": {
     "languageId": "sql"
    }
   },
   "outputs": [],
   "source": [
    "UPDATE IngredientesNasReceitasRecipe\n",
    "SET Unidade = 'desconhecida'\n",
    "WHERE Quantidade = 0;\n"
   ]
  },
  {
   "cell_type": "markdown",
   "metadata": {},
   "source": [
    "Esses dados já são integráveis. Resta apenas ajustar ao modelo proposto, alterando os nomes dos ingredientes para os nomes na base do FooDB"
   ]
  },
  {
   "cell_type": "code",
   "execution_count": 16,
   "metadata": {
    "vscode": {
     "languageId": "sql"
    }
   },
   "outputs": [],
   "source": [
    "DROP VIEW IF EXISTS RelacaoFood;\n",
    "\n",
    "CREATE VIEW RelacaoFood AS\n",
    "    SELECT I.IDReceita, SUM(I.Quantidade) Quantidade, I.Unidade, A.FooDB\n",
    "    FROM IngredientesNasReceitasRecipe I, AssociacaoComFooDB A\n",
    "    WHERE I.Ingrediente = A.Nome\n",
    "    GROUP BY I.IDReceita, I.Unidade, A.FooDB\n",
    "    ORDER BY I.IDReceita;\n"
   ]
  },
  {
   "cell_type": "markdown",
   "metadata": {},
   "source": [
    "Visualizando:"
   ]
  },
  {
   "cell_type": "code",
   "execution_count": 17,
   "metadata": {
    "vscode": {
     "languageId": "sql"
    }
   },
   "outputs": [
    {
     "data": {
      "application/vnd.jupyter.widget-view+json": {
       "model_id": "b1ed39dd-dc4f-4b99-9506-d3b56cf99a2c",
       "version_major": 2,
       "version_minor": 0
      },
      "method": "display_data"
     },
     "metadata": {},
     "output_type": "display_data"
    }
   ],
   "source": [
    "SELECT * FROM RelacaoFood LIMIT 10;\n"
   ]
  },
  {
   "cell_type": "markdown",
   "metadata": {},
   "source": [
    "Exportando a associação nova (agora final, apenas com as receitas com ingredientes 100% integrados):"
   ]
  },
  {
   "cell_type": "code",
   "execution_count": 18,
   "metadata": {
    "vscode": {
     "languageId": "sql"
    }
   },
   "outputs": [
    {
     "data": {
      "text/plain": [
       "979780"
      ]
     },
     "execution_count": 18,
     "metadata": {},
     "output_type": "execute_result"
    }
   ],
   "source": [
    "CALL CSVWRITE('../data/interim/recipenlg/quantidadesfinais.csv',\n",
    "              'SELECT * FROM RelacaoFood');\n"
   ]
  }
 ],
 "metadata": {
  "kernelspec": {
   "display_name": "SQL",
   "language": "SQL",
   "name": "sql"
  },
  "language_info": {
   "codemirror_mode": "sql",
   "file_extension": ".sql",
   "mimetype": "",
   "name": "SQL",
   "nbconverter_exporter": "",
   "version": ""
  },
  "toc": {
   "base_numbering": 1,
   "nav_menu": {},
   "number_sections": false,
   "sideBar": false,
   "skip_h1_title": false,
   "title_cell": "Table of Contents",
   "title_sidebar": "Contents",
   "toc_cell": false,
   "toc_position": {},
   "toc_section_display": false,
   "toc_window_display": false
  }
 },
 "nbformat": 4,
 "nbformat_minor": 2
}
