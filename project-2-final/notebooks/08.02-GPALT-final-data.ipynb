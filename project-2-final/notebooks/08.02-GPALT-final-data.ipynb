{
 "cells": [
  {
   "cell_type": "markdown",
   "metadata": {},
   "source": [
    "# Construção da base final - Equipe GPALT (Analistas de Cardápios)"
   ]
  },
  {
   "cell_type": "markdown",
   "metadata": {},
   "source": [
    "Ativando uma conexão de banco de dados em memória usando o SGBD H2:"
   ]
  },
  {
   "cell_type": "code",
   "execution_count": 1,
   "metadata": {
    "vscode": {
     "languageId": "sql"
    }
   },
   "outputs": [],
   "source": [
    "%defaultDatasource jdbc:h2:mem:db\n"
   ]
  },
  {
   "cell_type": "markdown",
   "metadata": {},
   "source": [
    "# Importando dados processados"
   ]
  },
  {
   "cell_type": "markdown",
   "metadata": {},
   "source": [
    "Realizando as construções dos últimos dados finais do modelo."
   ]
  },
  {
   "cell_type": "markdown",
   "metadata": {},
   "source": [
    "### Componente"
   ]
  },
  {
   "cell_type": "markdown",
   "metadata": {},
   "source": [
    "Os componentes finais do modelo são os mesmos do FooDB. Nesse caso, eles sofreram uma alteração em relação ao modelo originalmente proposto de que agora o ID deles será usado. Como foi discuto, com o desenvolvimento do projeto, percebeu-se que um número para os ids seria mais fácil do que fazer associações pelo nome, porque os nomes são muitos extensos. Esses dados já foram exportados no Notebook do FooDB."
   ]
  },
  {
   "cell_type": "markdown",
   "metadata": {},
   "source": [
    "### OrgaoPublico"
   ]
  },
  {
   "cell_type": "markdown",
   "metadata": {},
   "source": [
    "Os dados de recomendações de nutrientes encontrados na base Dietary Reference Intakes (DRI) estão disponíveis online na forma de tabelas. Em relação à origem das recomendações, elas correspondem a apenas um órgão público, que é o NIH_US. Entretanto, separar essa informação das recomendações foi feito para manter os dados normalizados, pensando inclusive em possíveis integrações futuras com novos dados de recomendações."
   ]
  },
  {
   "cell_type": "markdown",
   "metadata": {},
   "source": [
    "Importando o único dado:"
   ]
  },
  {
   "cell_type": "code",
   "execution_count": 2,
   "metadata": {
    "vscode": {
     "languageId": "sql"
    }
   },
   "outputs": [],
   "source": [
    "DROP TABLE IF EXISTS Orgao;\n",
    "\n",
    "CREATE TABLE Orgao (\n",
    "  Nome VARCHAR(10),\n",
    "  PRIMARY KEY (Nome)\n",
    ") AS SELECT\n",
    "  Nome\n",
    "FROM CSVREAD('../data/external/orgaopublico.csv');\n"
   ]
  },
  {
   "cell_type": "markdown",
   "metadata": {},
   "source": [
    "Visualizando:"
   ]
  },
  {
   "cell_type": "code",
   "execution_count": 3,
   "metadata": {
    "vscode": {
     "languageId": "sql"
    }
   },
   "outputs": [
    {
     "data": {
      "text/plain": [
       "NIH_US"
      ]
     },
     "execution_count": 3,
     "metadata": {},
     "output_type": "execute_result"
    }
   ],
   "source": [
    "SELECT * FROM Orgao;\n"
   ]
  },
  {
   "cell_type": "markdown",
   "metadata": {},
   "source": [
    "Exportando para os dados finais:"
   ]
  },
  {
   "cell_type": "code",
   "execution_count": 4,
   "metadata": {
    "vscode": {
     "languageId": "sql"
    }
   },
   "outputs": [
    {
     "data": {
      "text/plain": [
       "1"
      ]
     },
     "execution_count": 4,
     "metadata": {},
     "output_type": "execute_result"
    }
   ],
   "source": [
    "CALL CSVWRITE('../data/processed/database/orgaopublico.csv',\n",
    "              'SELECT * FROM Orgao');\n"
   ]
  },
  {
   "cell_type": "markdown",
   "metadata": {},
   "source": [
    "### IngredientesDasReceitas"
   ]
  },
  {
   "cell_type": "markdown",
   "metadata": {},
   "source": [
    "Os ingredientes das receitas foram construídos nos notebooks referentes a cada base. Houve um cuidado em manter esses dados segundo o modelo proposto para que a construção final fosse mais fácil. Nesse caso, como todos os dados foram montados pensando no esquema final, basta apenas unir todos os dados em um único arquivo. Uma menção importante é que esse modelo também sofreu alterações. Devido a principalmente nomes de receitas muito extensos (alguns chegam a quase 300 caracteres), optou-se por utilizar o id das receitas como chave e não mais o nome."
   ]
  },
  {
   "cell_type": "markdown",
   "metadata": {},
   "source": [
    "Importando os dados de cada tabela"
   ]
  },
  {
   "cell_type": "code",
   "execution_count": 5,
   "metadata": {
    "vscode": {
     "languageId": "sql"
    }
   },
   "outputs": [],
   "source": [
    "DROP TABLE IF EXISTS IDRFlavor;\n",
    "DROP TABLE IF EXISTS IDRCulinary;\n",
    "DROP TABLE IF EXISTS IDRRecipe;\n",
    "\n",
    "CREATE TABLE IDRFlavor (\n",
    "  Id INT,\n",
    "  Banco VARCHAR(20),\n",
    "  Ingrediente VARCHAR(80),\n",
    "  Quantidade DECIMAL(10, 3),\n",
    "  Unidade VARCHAR(20),\n",
    "  PRIMARY KEY (Id, Banco, Ingrediente, Unidade)\n",
    ") AS SELECT\n",
    "  IDReceita, BANCO, INGREDIENTE, QUANTIDADE, UNIDADE\n",
    "FROM CSVREAD('../data/interim/flavor network/ingredientesdasreceitaspadronizados.csv');\n",
    "\n",
    "CREATE TABLE IDRCulinary (\n",
    "  Id INT,\n",
    "  Banco VARCHAR(20),\n",
    "  Ingrediente VARCHAR(80),\n",
    "  Quantidade DECIMAL(10, 3),\n",
    "  Unidade VARCHAR(20),\n",
    "  PRIMARY KEY (Id, Banco, Ingrediente, Unidade)\n",
    ") AS SELECT\n",
    "  IDRECEITA, BANCOORIGINAL, FOODB, QUANTIDADE, UNIDADE\n",
    "FROM CSVREAD('../data/interim/culinarydb/receitasfinais.csv');\n",
    "\n",
    "CREATE TABLE IDRRecipe (\n",
    "  Id INT,\n",
    "  Banco VARCHAR(20),\n",
    "  Ingrediente VARCHAR(80),\n",
    "  Quantidade DECIMAL(10, 3),\n",
    "  Unidade VARCHAR(20),\n",
    "  PRIMARY KEY (Id, Banco, Ingrediente, Unidade)\n",
    ") AS SELECT\n",
    "  IDRECEITA, 'RecipeNLG', FOODB, QUANTIDADE, UNIDADE\n",
    "FROM CSVREAD('../data/interim/recipenlg/quantidadesfinais.csv');\n"
   ]
  },
  {
   "cell_type": "markdown",
   "metadata": {},
   "source": [
    "Visualizando:"
   ]
  },
  {
   "cell_type": "code",
   "execution_count": 6,
   "metadata": {
    "vscode": {
     "languageId": "sql"
    }
   },
   "outputs": [
    {
     "data": {
      "application/vnd.jupyter.widget-view+json": {
       "model_id": "7acddf31-9b4d-4580-a1db-53e6d01406d4",
       "version_major": 2,
       "version_minor": 0
      },
      "method": "display_data"
     },
     "metadata": {},
     "output_type": "display_data"
    }
   ],
   "source": [
    "SELECT * FROM IDRFlavor LIMIT 10;\n"
   ]
  },
  {
   "cell_type": "code",
   "execution_count": 7,
   "metadata": {
    "vscode": {
     "languageId": "sql"
    }
   },
   "outputs": [
    {
     "data": {
      "application/vnd.jupyter.widget-view+json": {
       "model_id": "14908f31-40aa-407d-a773-6f025f6a31c2",
       "version_major": 2,
       "version_minor": 0
      },
      "method": "display_data"
     },
     "metadata": {},
     "output_type": "display_data"
    }
   ],
   "source": [
    "SELECT * FROM IDRCulinary LIMIT 10;\n"
   ]
  },
  {
   "cell_type": "code",
   "execution_count": 8,
   "metadata": {
    "vscode": {
     "languageId": "sql"
    }
   },
   "outputs": [
    {
     "data": {
      "application/vnd.jupyter.widget-view+json": {
       "model_id": "fb22f2e4-a766-46fd-ac16-7e2ed8610d17",
       "version_major": 2,
       "version_minor": 0
      },
      "method": "display_data"
     },
     "metadata": {},
     "output_type": "display_data"
    }
   ],
   "source": [
    "SELECT * FROM IDRRecipe LIMIT 10;\n"
   ]
  },
  {
   "cell_type": "markdown",
   "metadata": {},
   "source": [
    "Unindo todos os dados em uma única VIEW:"
   ]
  },
  {
   "cell_type": "code",
   "execution_count": 9,
   "metadata": {
    "vscode": {
     "languageId": "sql"
    }
   },
   "outputs": [],
   "source": [
    "DROP VIEW IF EXISTS IngredientesDasReceitas;\n",
    "\n",
    "CREATE VIEW IngredientesDasReceitas AS\n",
    "    SELECT * FROM IDRFlavor\n",
    "    UNION\n",
    "    SELECT * FROM IDRCulinary\n",
    "    UNION\n",
    "    SELECT * FROM IDRRecipe\n",
    "    ORDER BY Id;\n"
   ]
  },
  {
   "cell_type": "markdown",
   "metadata": {},
   "source": [
    "Visualizando:"
   ]
  },
  {
   "cell_type": "code",
   "execution_count": 10,
   "metadata": {
    "vscode": {
     "languageId": "sql"
    }
   },
   "outputs": [
    {
     "data": {
      "application/vnd.jupyter.widget-view+json": {
       "model_id": "2a817f7e-8ded-4690-a688-95d9488c51b7",
       "version_major": 2,
       "version_minor": 0
      },
      "method": "display_data"
     },
     "metadata": {},
     "output_type": "display_data"
    }
   ],
   "source": [
    "SELECT * FROM IngredientesDasReceitas LIMIT 10;\n"
   ]
  },
  {
   "cell_type": "markdown",
   "metadata": {},
   "source": [
    "Exportando os dados"
   ]
  },
  {
   "cell_type": "code",
   "execution_count": 11,
   "metadata": {
    "vscode": {
     "languageId": "sql"
    }
   },
   "outputs": [
    {
     "data": {
      "text/plain": [
       "1827932"
      ]
     },
     "execution_count": 11,
     "metadata": {},
     "output_type": "execute_result"
    }
   ],
   "source": [
    "CALL CSVWRITE('../data/processed/database/ingredientesdasreceitas.csv',\n",
    "              'SELECT * FROM IngredientesDasReceitas');\n"
   ]
  },
  {
   "cell_type": "markdown",
   "metadata": {},
   "source": [
    "### ComponentesDosIngredientes"
   ]
  },
  {
   "cell_type": "markdown",
   "metadata": {},
   "source": [
    "A associação entre componentes e ingredientes já foi feita no notebook de processamento dos dados do FooDB. Como foi explicado lá, os ingredientes novos criados não terão quantidades associadas porque o objetivo deles é servir apenas como base para integração de receitas. No entanto, optou-se por associar aos ingredientes compostos do CulinaryDB quantidades de componentes.\n",
    "\n",
    "Como os ingredientes compostos não estão divididos por quantidades de cada um, supõe-se que cada um corresponde a uma parte igual do ingrediente composto final. Com dados mais precisos, essa etapa poderia ser melhorada."
   ]
  },
  {
   "cell_type": "markdown",
   "metadata": {},
   "source": [
    "Importando os componentes de cada ingrediente composto, bem como os componentes dos alimentos."
   ]
  },
  {
   "cell_type": "code",
   "execution_count": 12,
   "metadata": {
    "vscode": {
     "languageId": "sql"
    }
   },
   "outputs": [],
   "source": [
    "DROP TABLE IF EXISTS ComposicaoCompostos;\n",
    "DROP TABLE IF EXISTS ComponentesDosIngredientes;\n",
    "\n",
    "CREATE TABLE ComposicaoCompostos (\n",
    "  Composto VARCHAR(80),\n",
    "  Original VARCHAR(80),\n",
    "  PRIMARY KEY (Composto, Original)\n",
    ") AS SELECT\n",
    "  INGREDIENTECOMPOSTO, INGREDIENTEORIGINAL\n",
    "FROM CSVREAD('../data/processed/database/ingredientecomposto.csv');\n",
    "\n",
    "CREATE TABLE ComponentesDosIngredientes (\n",
    "  Ingrediente VARCHAR(80),\n",
    "  Componente INT,\n",
    "  Tipo VARCHAR(30),\n",
    "  Quantidade DECIMAL(10, 3),\n",
    "  Unidade VARCHAR(30),\n",
    "  PRIMARY KEY (Ingrediente, Componente, Tipo, Unidade)\n",
    ") AS SELECT\n",
    "  NOME, IDCOMPONENTE, TIPOCOMPONENTE, QUANTIDADE, UNIDADE\n",
    "FROM CSVREAD('../data/interim/foodb/componentesdosingredientes.csv');\n"
   ]
  },
  {
   "cell_type": "markdown",
   "metadata": {},
   "source": [
    "Visualizando:"
   ]
  },
  {
   "cell_type": "code",
   "execution_count": 13,
   "metadata": {
    "vscode": {
     "languageId": "sql"
    }
   },
   "outputs": [
    {
     "data": {
      "application/vnd.jupyter.widget-view+json": {
       "model_id": "d540026b-139c-4772-8785-105601eab0e3",
       "version_major": 2,
       "version_minor": 0
      },
      "method": "display_data"
     },
     "metadata": {},
     "output_type": "display_data"
    }
   ],
   "source": [
    "SELECT * FROM ComposicaoCompostos LIMIT 10;\n"
   ]
  },
  {
   "cell_type": "code",
   "execution_count": 14,
   "metadata": {
    "vscode": {
     "languageId": "sql"
    }
   },
   "outputs": [
    {
     "data": {
      "application/vnd.jupyter.widget-view+json": {
       "model_id": "c2851ba0-80f8-445c-bc8c-27109245f92d",
       "version_major": 2,
       "version_minor": 0
      },
      "method": "display_data"
     },
     "metadata": {},
     "output_type": "display_data"
    }
   ],
   "source": [
    "SELECT * FROM ComponentesDosIngredientes LIMIT 10;\n"
   ]
  },
  {
   "cell_type": "markdown",
   "metadata": {},
   "source": [
    "Criando uma VIEW nova com os dados dos componentes dos ingredientes compostos:"
   ]
  },
  {
   "cell_type": "code",
   "execution_count": 15,
   "metadata": {
    "vscode": {
     "languageId": "sql"
    }
   },
   "outputs": [],
   "source": [
    "DROP VIEW IF EXISTS ComponentesCompostos;\n",
    "\n",
    "CREATE VIEW ComponentesCompostos AS\n",
    "    SELECT C.Composto, I.Componente, I.Tipo, AVG(I.Quantidade) Quantidade, I.Unidade\n",
    "    FROM ComposicaoCompostos C, ComponentesDosIngredientes I\n",
    "    WHERE C.Original = I.Ingrediente\n",
    "    GROUP BY C.Composto, I.Componente, I.Tipo, I.Unidade\n",
    "    ORDER BY C.Composto, I.Componente;\n"
   ]
  },
  {
   "cell_type": "markdown",
   "metadata": {},
   "source": [
    "Visualizando:"
   ]
  },
  {
   "cell_type": "code",
   "execution_count": 16,
   "metadata": {
    "vscode": {
     "languageId": "sql"
    }
   },
   "outputs": [
    {
     "data": {
      "application/vnd.jupyter.widget-view+json": {
       "model_id": "d14c0ab3-d314-405a-be7d-8abd2a5907b2",
       "version_major": 2,
       "version_minor": 0
      },
      "method": "display_data"
     },
     "metadata": {},
     "output_type": "display_data"
    }
   ],
   "source": [
    "SELECT * FROM ComponentesCompostos LIMIT 10;\n"
   ]
  },
  {
   "cell_type": "markdown",
   "metadata": {},
   "source": [
    "Adicionando esses dados aos dados dos componentes:"
   ]
  },
  {
   "cell_type": "code",
   "execution_count": 17,
   "metadata": {
    "vscode": {
     "languageId": "sql"
    }
   },
   "outputs": [],
   "source": [
    "INSERT INTO ComponentesDosIngredientes\n",
    "SELECT * FROM ComponentesCompostos;\n"
   ]
  },
  {
   "cell_type": "markdown",
   "metadata": {},
   "source": [
    "Exportando:"
   ]
  },
  {
   "cell_type": "code",
   "execution_count": 18,
   "metadata": {
    "vscode": {
     "languageId": "sql"
    }
   },
   "outputs": [
    {
     "data": {
      "text/plain": [
       "83665"
      ]
     },
     "execution_count": 18,
     "metadata": {},
     "output_type": "execute_result"
    }
   ],
   "source": [
    "CALL CSVWRITE('../data/processed/database/componentesdosingredientes.csv',\n",
    "              'SELECT * FROM ComponentesDosIngredientes');\n"
   ]
  },
  {
   "cell_type": "markdown",
   "metadata": {},
   "source": [
    "### Recomendacao"
   ]
  },
  {
   "cell_type": "markdown",
   "metadata": {},
   "source": [
    "Os dados das recomendações foram extraídos segundo o modelo proposto das tabelas disponíveis no site da base. O trabalho foi feito manualmente e, por isso, a integração já foi garantida de imediato com os nomes dos componentes na base do FooDB. Para isso, foi feita uma busca pelo nome do componente na base e o ajuste já foi feito diretamente no processo de extração dos dados da web."
   ]
  },
  {
   "cell_type": "markdown",
   "metadata": {},
   "source": [
    "Resta, entretanto, associar esses dados pelo id + tipo, ao invés de pelo nome (como fora proposto no modelo inicial). Isso pode ser feito da seguinte forma:"
   ]
  },
  {
   "cell_type": "code",
   "execution_count": 19,
   "metadata": {
    "vscode": {
     "languageId": "sql"
    }
   },
   "outputs": [],
   "source": [
    "DROP TABLE IF EXISTS Recomendacao;\n",
    "DROP TABLE IF EXISTS Componente;\n",
    "\n",
    "CREATE TABLE Recomendacao (\n",
    "  Orgao VARCHAR(20),\n",
    "  NomeComponente VARCHAR(100),\n",
    "  FaixaEtaria VARCHAR(10),\n",
    "  QuantidadeMg DECIMAL(10, 3),\n",
    "  PRIMARY KEY (Orgao, NomeComponente, FaixaEtaria)\n",
    ") AS SELECT\n",
    "  Orgao, Componente, FaixaEtaria, QuantidadeMg\n",
    "FROM CSVREAD('../data/external/recomendacao.csv');\n",
    "\n",
    "CREATE TABLE Componente (\n",
    "  ID INT,\n",
    "  Nome VARCHAR(300),\n",
    "  Tipo VARCHAR(20),\n",
    "  PRIMARY KEY (ID, Tipo)\n",
    ") AS SELECT\n",
    "  ID, NOME, TIPO\n",
    "FROM CSVREAD('../data/processed/database/componente.csv');\n"
   ]
  },
  {
   "cell_type": "markdown",
   "metadata": {},
   "source": [
    "Visualizando:"
   ]
  },
  {
   "cell_type": "code",
   "execution_count": 20,
   "metadata": {
    "vscode": {
     "languageId": "sql"
    }
   },
   "outputs": [
    {
     "data": {
      "application/vnd.jupyter.widget-view+json": {
       "model_id": "21bc0b2b-03ac-41e4-b4c7-5f84004d6326",
       "version_major": 2,
       "version_minor": 0
      },
      "method": "display_data"
     },
     "metadata": {},
     "output_type": "display_data"
    }
   ],
   "source": [
    "SELECT * FROM Recomendacao LIMIT 10;\n"
   ]
  },
  {
   "cell_type": "code",
   "execution_count": 21,
   "metadata": {
    "vscode": {
     "languageId": "sql"
    }
   },
   "outputs": [
    {
     "data": {
      "application/vnd.jupyter.widget-view+json": {
       "model_id": "1f45bf9d-1952-4581-8ecb-f74b563d66d8",
       "version_major": 2,
       "version_minor": 0
      },
      "method": "display_data"
     },
     "metadata": {},
     "output_type": "display_data"
    }
   ],
   "source": [
    "SELECT * FROM Componente LIMIT 10;\n"
   ]
  },
  {
   "cell_type": "markdown",
   "metadata": {},
   "source": [
    "Criando uma VIEW com a associação por id e tipo:"
   ]
  },
  {
   "cell_type": "code",
   "execution_count": 22,
   "metadata": {
    "vscode": {
     "languageId": "sql"
    }
   },
   "outputs": [],
   "source": [
    "DROP VIEW IF EXISTS RecomendacaoFinal;\n",
    "\n",
    "CREATE VIEW RecomendacaoFinal AS\n",
    "SELECT R.Orgao, C.ID, C.Tipo, R.FaixaEtaria, R.QuantidadeMg\n",
    "FROM Recomendacao R, Componente C\n",
    "WHERE R.NomeComponente = C.Nome;\n"
   ]
  },
  {
   "cell_type": "markdown",
   "metadata": {},
   "source": [
    "Visualizando:"
   ]
  },
  {
   "cell_type": "code",
   "execution_count": 23,
   "metadata": {
    "vscode": {
     "languageId": "sql"
    }
   },
   "outputs": [
    {
     "data": {
      "application/vnd.jupyter.widget-view+json": {
       "model_id": "1acefaa1-8aa8-43d5-891b-af586706c583",
       "version_major": 2,
       "version_minor": 0
      },
      "method": "display_data"
     },
     "metadata": {},
     "output_type": "display_data"
    }
   ],
   "source": [
    "SELECT * FROM RecomendacaoFinal LIMIT 10;\n"
   ]
  },
  {
   "cell_type": "markdown",
   "metadata": {},
   "source": [
    "Exportando:"
   ]
  },
  {
   "cell_type": "code",
   "execution_count": 24,
   "metadata": {
    "vscode": {
     "languageId": "sql"
    }
   },
   "outputs": [
    {
     "data": {
      "text/plain": [
       "320"
      ]
     },
     "execution_count": 24,
     "metadata": {},
     "output_type": "execute_result"
    }
   ],
   "source": [
    "CALL CSVWRITE('../data/processed/database/recomendacao.csv',\n",
    "              'SELECT * FROM RecomendacaoFinal');\n"
   ]
  }
 ],
 "metadata": {
  "kernelspec": {
   "display_name": "SQL",
   "language": "SQL",
   "name": "sql"
  },
  "language_info": {
   "codemirror_mode": "sql",
   "file_extension": ".sql",
   "mimetype": "",
   "name": "SQL",
   "nbconverter_exporter": "",
   "version": ""
  },
  "toc": {
   "base_numbering": 1,
   "nav_menu": {},
   "number_sections": false,
   "sideBar": false,
   "skip_h1_title": false,
   "title_cell": "Table of Contents",
   "title_sidebar": "Contents",
   "toc_cell": false,
   "toc_position": {},
   "toc_section_display": false,
   "toc_window_display": false
  }
 },
 "nbformat": 4,
 "nbformat_minor": 2
}
