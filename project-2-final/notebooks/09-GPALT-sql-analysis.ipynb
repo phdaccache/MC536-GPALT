{
 "cells": [
  {
   "cell_type": "markdown",
   "metadata": {},
   "source": [
    "# Análises em SQL - Equipe GPALT (Analistas de Cardápios)"
   ]
  },
  {
   "cell_type": "markdown",
   "metadata": {},
   "source": [
    "Ativando uma conexão de banco de dados em memória usando o SGBD H2:"
   ]
  },
  {
   "cell_type": "code",
   "execution_count": 1,
   "metadata": {
    "vscode": {
     "languageId": "sql"
    }
   },
   "outputs": [],
   "source": [
    "%defaultDatasource jdbc:h2:mem:db\n"
   ]
  },
  {
   "cell_type": "markdown",
   "metadata": {},
   "source": [
    "### Importando Database final"
   ]
  },
  {
   "cell_type": "code",
   "execution_count": 2,
   "metadata": {
    "vscode": {
     "languageId": "sql"
    }
   },
   "outputs": [],
   "source": [
    "DROP TABLE IF EXISTS Origem;\n",
    "DROP TABLE IF EXISTS Receita;\n",
    "DROP TABLE IF EXISTS Ingrediente;\n",
    "DROP TABLE IF EXISTS IngredienteComposto;\n",
    "DROP TABLE IF EXISTS Sabor;\n",
    "DROP TABLE IF EXISTS Classificacao;\n",
    "DROP TABLE IF EXISTS Componente;\n",
    "DROP TABLE IF EXISTS OrgaoPublico;\n",
    "DROP TABLE IF EXISTS IngredientesDasReceitas;\n",
    "DROP TABLE IF EXISTS ComponentesDosIngredientes;\n",
    "DROP TABLE IF EXISTS Recomendacao;\n",
    "\n",
    "CREATE TABLE Origem (\n",
    "  Nome VARCHAR(30),\n",
    "  Tipo VARCHAR(20),\n",
    "  PRIMARY KEY (Nome)\n",
    ") AS SELECT\n",
    "  ORIGEM, TIPO\n",
    "FROM CSVREAD('../data/processed/database/origem.csv');\n",
    "\n",
    "CREATE TABLE Receita (\n",
    "  Id INT,\n",
    "  Nome VARCHAR(200),\n",
    "  BancoOriginal VARCHAR(20),\n",
    "  Origem VARCHAR(30),\n",
    "  PRIMARY KEY (Id, BancoOriginal),\n",
    "  FOREIGN KEY (Origem)\n",
    "    REFERENCES Origem(Nome)\n",
    "      ON DELETE NO ACTION\n",
    "      ON UPDATE NO ACTION\n",
    ") AS SELECT\n",
    "  IDRECEITA, NOMERECEITA, BANCOORIGINAL, ORIGEM\n",
    "FROM CSVREAD('../data/processed/database/receita.csv');\n",
    "\n",
    "CREATE TABLE Classificacao (\n",
    "  Nome VARCHAR(50),\n",
    "  CategoriaSuperior VARCHAR(50),\n",
    "  PRIMARY KEY (Nome)\n",
    ") AS SELECT\n",
    "  NOME, CATEGORIASUPERIOR\n",
    "FROM CSVREAD('../data/processed/database/classificacao.csv');\n",
    "\n",
    "CREATE TABLE Ingrediente (\n",
    "  Nome VARCHAR(80),\n",
    "  Classificacao VARCHAR(50),\n",
    "  PRIMARY KEY (Nome),\n",
    "  FOREIGN KEY (Classificacao)\n",
    "    REFERENCES Classificacao(Nome)\n",
    "      ON DELETE NO ACTION\n",
    "      ON UPDATE NO ACTION\n",
    ") AS SELECT\n",
    "  NOME, CLASSIFICACAO\n",
    "FROM CSVREAD('../data/processed/database/ingrediente.csv');\n",
    "\n",
    "CREATE TABLE IngredienteComposto (\n",
    "  IngredienteComposto VARCHAR(80),\n",
    "  IngredienteOriginal VARCHAR(80),\n",
    "  PRIMARY KEY (IngredienteComposto, IngredienteOriginal),\n",
    "  FOREIGN KEY (IngredienteComposto)\n",
    "    REFERENCES Ingrediente(Nome)\n",
    "      ON DELETE NO ACTION\n",
    "      ON UPDATE NO ACTION,\n",
    "  FOREIGN KEY (IngredienteOriginal)\n",
    "    REFERENCES Ingrediente(Nome)\n",
    "      ON DELETE NO ACTION\n",
    "      ON UPDATE NO ACTION\n",
    ") AS SELECT\n",
    "  INGREDIENTECOMPOSTO, INGREDIENTEORIGINAL\n",
    "FROM CSVREAD('../data/processed/database/ingredientecomposto.csv');\n",
    "\n",
    "CREATE TABLE Sabor (\n",
    "  Id INT,\n",
    "  Ingrediente1 VARCHAR(80),\n",
    "  Ingrediente2 VARCHAR(80),\n",
    "  Quantidade INT,\n",
    "  PRIMARY KEY (Id),\n",
    "  FOREIGN KEY (Ingrediente1)\n",
    "    REFERENCES Ingrediente(Nome)\n",
    "      ON DELETE NO ACTION\n",
    "      ON UPDATE NO ACTION,\n",
    "  FOREIGN KEY (Ingrediente2)\n",
    "    REFERENCES Ingrediente(Nome)\n",
    "      ON DELETE NO ACTION\n",
    "      ON UPDATE NO ACTION\n",
    ") AS SELECT\n",
    "  ID, A, B, QUANTIDADE\n",
    "  FROM CSVREAD('../data/processed/database/sabor.csv');\n",
    "\n",
    "CREATE TABLE Componente (\n",
    "  Id INT,\n",
    "  Nome VARCHAR(300),\n",
    "  Tipo VARCHAR(20),\n",
    "  PRIMARY KEY (Id, Tipo)\n",
    ") AS SELECT\n",
    "  ID, NOME, TIPO\n",
    "FROM CSVREAD('../data/processed/database/componente.csv');\n",
    "\n",
    "CREATE TABLE OrgaoPublico (\n",
    "  Nome VARCHAR(20),\n",
    "  PRIMARY KEY (Nome)\n",
    ") AS SELECT\n",
    "  NOME\n",
    "FROM CSVREAD('../data/processed/database/orgaopublico.csv');\n",
    "\n",
    "CREATE TABLE IngredientesDasReceitas (\n",
    "  IdReceita INT,\n",
    "  Banco VARCHAR(20),\n",
    "  Ingrediente VARCHAR(80),\n",
    "  Quantidade DECIMAL(10, 3),\n",
    "  Unidade VARCHAR(20),\n",
    "  PRIMARY KEY (IdReceita, Banco, Ingrediente, Unidade),\n",
    "  FOREIGN KEY (IdReceita, Banco)\n",
    "    REFERENCES Receita(Id, BancoOriginal)\n",
    "      ON DELETE NO ACTION\n",
    "      ON UPDATE NO ACTION,\n",
    "  FOREIGN KEY (Ingrediente)\n",
    "    REFERENCES Ingrediente(Nome)\n",
    "      ON DELETE NO ACTION\n",
    "      ON UPDATE NO ACTION\n",
    ") AS SELECT\n",
    "  ID, BANCO, INGREDIENTE, QUANTIDADE, UNIDADE\n",
    "FROM CSVREAD('../data/processed/database/ingredientesdasreceitas.csv') \n",
    "-- Muitos dados para importar. Utilizando menos para visualizar os comandos\n",
    "-- As análises podem não ficar 100% precisas. Recomendamos importar todos os dados\n",
    "-- para análises melhores, se a máquina aguentar milhões de entradas (apagar a prox. linha).\n",
    "WHERE UNIDADE <> 'desconhecida' AND UNIDADE <> 'unidade' AND ID < 25000;\n",
    "\n",
    "CREATE TABLE ComponentesDosIngredientes (\n",
    "  Ingrediente VARCHAR(80),\n",
    "  IdComponente INT,\n",
    "  Tipo VARCHAR(15),\n",
    "  Quantidade DECIMAL(10, 3),\n",
    "  Unidade VARCHAR(30),\n",
    "  PRIMARY KEY (Ingrediente, IdComponente, Tipo, Unidade),\n",
    "  FOREIGN KEY (Ingrediente)\n",
    "    REFERENCES Ingrediente(Nome)\n",
    "      ON UPDATE NO ACTION\n",
    "      ON DELETE NO ACTION,\n",
    "  FOREIGN KEY (IdComponente, Tipo)\n",
    "    REFERENCES Componente(Id, Tipo)\n",
    "      ON UPDATE NO ACTION\n",
    "      ON DELETE NO ACTION\n",
    ") AS SELECT\n",
    "  INGREDIENTE, COMPONENTE, TIPO, QUANTIDADE, UNIDADE\n",
    "FROM CSVREAD('../data/processed/database/componentesdosingredientes.csv');\n",
    "\n",
    "CREATE TABLE Recomendacao (\n",
    "  Orgao VARCHAR(20),\n",
    "  IdComponente INT,\n",
    "  Tipo VARCHAR(15),\n",
    "  FaixaEtaria VARCHAR(20),\n",
    "  QuantidadeMg DECIMAL(20, 10),\n",
    "  PRIMARY KEY (Orgao, IdComponente, FaixaEtaria, Tipo),\n",
    "  FOREIGN KEY (Orgao)\n",
    "    REFERENCES OrgaoPublico(Nome)\n",
    "      ON UPDATE NO ACTION\n",
    "      ON DELETE NO ACTION,\n",
    "  FOREIGN KEY (IdComponente, Tipo)\n",
    "    REFERENCES Componente(Id, Tipo)\n",
    "      ON UPDATE NO ACTION\n",
    "      ON DELETE NO ACTION\n",
    ") AS SELECT\n",
    "  ORGAO, ID, TIPO, FAIXAETARIA, QUANTIDADEMG\n",
    "FROM CSVREAD('../data/processed/database/recomendacao.csv');\n"
   ]
  },
  {
   "cell_type": "markdown",
   "metadata": {},
   "source": [
    "### Visualizando as Tabelas"
   ]
  },
  {
   "cell_type": "code",
   "execution_count": 3,
   "metadata": {
    "vscode": {
     "languageId": "sql"
    }
   },
   "outputs": [
    {
     "data": {
      "application/vnd.code.notebook.error": {
       "message": "INVALID mime type: method. Must be in the format \"type/subtype[;optionalparameter]\"",
       "name": "Error",
       "stack": "Error: INVALID mime type: method. Must be in the format \"type/subtype[;optionalparameter]\"\n\tat new Yt (/usr/share/code/resources/app/out/vs/workbench/api/node/extensionHostProcess.js:121:45111)\n\tat Yt.text (/usr/share/code/resources/app/out/vs/workbench/api/node/extensionHostProcess.js:121:44923)\n\tat c (/usr/share/code/resources/app/extensions/ipynb/dist/ipynbMain.js:1:147680)\n\tat f (/usr/share/code/resources/app/extensions/ipynb/dist/ipynbMain.js:1:148456)\n\tat h (/usr/share/code/resources/app/extensions/ipynb/dist/ipynbMain.js:1:149195)\n\tat Array.map (<anonymous>)\n\tat /usr/share/code/resources/app/extensions/ipynb/dist/ipynbMain.js:1:150304\n\tat /usr/share/code/resources/app/extensions/ipynb/dist/ipynbMain.js:1:150621\n\tat /usr/share/code/resources/app/extensions/ipynb/dist/ipynbMain.js:1:150628\n\tat Array.map (<anonymous>)\n\tat e.$d (/usr/share/code/resources/app/extensions/ipynb/dist/ipynbMain.js:1:149880)\n\tat e.$m.deserializeNotebook (/usr/share/code/resources/app/extensions/ipynb/dist/ipynbMain.js:1:161467)\n\tat t.$dataToNotebook (/usr/share/code/resources/app/out/vs/workbench/api/node/extensionHostProcess.js:127:93269)\n\tat n.S (/usr/share/code/resources/app/out/vs/workbench/api/node/extensionHostProcess.js:134:10836)\n\tat n.Q (/usr/share/code/resources/app/out/vs/workbench/api/node/extensionHostProcess.js:134:10602)\n\tat n.M (/usr/share/code/resources/app/out/vs/workbench/api/node/extensionHostProcess.js:134:9647)\n\tat n.L (/usr/share/code/resources/app/out/vs/workbench/api/node/extensionHostProcess.js:134:8901)\n\tat h.value (/usr/share/code/resources/app/out/vs/workbench/api/node/extensionHostProcess.js:134:7565)\n\tat c.y (/usr/share/code/resources/app/out/vs/workbench/api/node/extensionHostProcess.js:80:1902)\n\tat c.fire (/usr/share/code/resources/app/out/vs/workbench/api/node/extensionHostProcess.js:80:2119)\n\tat d.fire (/usr/share/code/resources/app/out/vs/workbench/api/node/extensionHostProcess.js:96:14047)\n\tat h.value (/usr/share/code/resources/app/out/vs/workbench/api/node/extensionHostProcess.js:153:7918)\n\tat c.y (/usr/share/code/resources/app/out/vs/workbench/api/node/extensionHostProcess.js:80:1902)\n\tat c.fire (/usr/share/code/resources/app/out/vs/workbench/api/node/extensionHostProcess.js:80:2119)\n\tat d.fire (/usr/share/code/resources/app/out/vs/workbench/api/node/extensionHostProcess.js:96:14047)\n\tat MessagePortMain.<anonymous> (/usr/share/code/resources/app/out/vs/workbench/api/node/extensionHostProcess.js:153:6198)\n\tat MessagePortMain.emit (node:events:513:28)\n\tat MessagePortMain._internalPort.emit (node:electron/js2c/utility_init:2:367)"
      },
      "application/vnd.jupyter.widget-view+json": {
       "model_id": "c9b9dbd4-3e7d-4c0f-96bb-69da5d73a6f0",
       "version_major": 2,
       "version_minor": 0
      }
     },
     "metadata": {},
     "output_type": "display_data"
    }
   ],
   "source": [
    "SELECT * FROM Origem;\n"
   ]
  },
  {
   "cell_type": "code",
   "execution_count": 4,
   "metadata": {
    "vscode": {
     "languageId": "sql"
    }
   },
   "outputs": [
    {
     "data": {
      "application/vnd.code.notebook.error": {
       "message": "INVALID mime type: method. Must be in the format \"type/subtype[;optionalparameter]\"",
       "name": "Error",
       "stack": "Error: INVALID mime type: method. Must be in the format \"type/subtype[;optionalparameter]\"\n\tat new Yt (/usr/share/code/resources/app/out/vs/workbench/api/node/extensionHostProcess.js:121:45111)\n\tat Yt.text (/usr/share/code/resources/app/out/vs/workbench/api/node/extensionHostProcess.js:121:44923)\n\tat c (/usr/share/code/resources/app/extensions/ipynb/dist/ipynbMain.js:1:147680)\n\tat f (/usr/share/code/resources/app/extensions/ipynb/dist/ipynbMain.js:1:148456)\n\tat h (/usr/share/code/resources/app/extensions/ipynb/dist/ipynbMain.js:1:149195)\n\tat Array.map (<anonymous>)\n\tat /usr/share/code/resources/app/extensions/ipynb/dist/ipynbMain.js:1:150304\n\tat /usr/share/code/resources/app/extensions/ipynb/dist/ipynbMain.js:1:150621\n\tat /usr/share/code/resources/app/extensions/ipynb/dist/ipynbMain.js:1:150628\n\tat Array.map (<anonymous>)\n\tat e.$d (/usr/share/code/resources/app/extensions/ipynb/dist/ipynbMain.js:1:149880)\n\tat e.$m.deserializeNotebook (/usr/share/code/resources/app/extensions/ipynb/dist/ipynbMain.js:1:161467)\n\tat t.$dataToNotebook (/usr/share/code/resources/app/out/vs/workbench/api/node/extensionHostProcess.js:127:93269)\n\tat n.S (/usr/share/code/resources/app/out/vs/workbench/api/node/extensionHostProcess.js:134:10836)\n\tat n.Q (/usr/share/code/resources/app/out/vs/workbench/api/node/extensionHostProcess.js:134:10602)\n\tat n.M (/usr/share/code/resources/app/out/vs/workbench/api/node/extensionHostProcess.js:134:9647)\n\tat n.L (/usr/share/code/resources/app/out/vs/workbench/api/node/extensionHostProcess.js:134:8901)\n\tat h.value (/usr/share/code/resources/app/out/vs/workbench/api/node/extensionHostProcess.js:134:7565)\n\tat c.y (/usr/share/code/resources/app/out/vs/workbench/api/node/extensionHostProcess.js:80:1902)\n\tat c.fire (/usr/share/code/resources/app/out/vs/workbench/api/node/extensionHostProcess.js:80:2119)\n\tat d.fire (/usr/share/code/resources/app/out/vs/workbench/api/node/extensionHostProcess.js:96:14047)\n\tat h.value (/usr/share/code/resources/app/out/vs/workbench/api/node/extensionHostProcess.js:153:7918)\n\tat c.y (/usr/share/code/resources/app/out/vs/workbench/api/node/extensionHostProcess.js:80:1902)\n\tat c.fire (/usr/share/code/resources/app/out/vs/workbench/api/node/extensionHostProcess.js:80:2119)\n\tat d.fire (/usr/share/code/resources/app/out/vs/workbench/api/node/extensionHostProcess.js:96:14047)\n\tat MessagePortMain.<anonymous> (/usr/share/code/resources/app/out/vs/workbench/api/node/extensionHostProcess.js:153:6198)\n\tat MessagePortMain.emit (node:events:513:28)\n\tat MessagePortMain._internalPort.emit (node:electron/js2c/utility_init:2:367)"
      },
      "application/vnd.jupyter.widget-view+json": {
       "model_id": "93240feb-7dc8-41de-9a56-765970dd04f1",
       "version_major": 2,
       "version_minor": 0
      }
     },
     "metadata": {},
     "output_type": "display_data"
    }
   ],
   "source": [
    "SELECT * FROM Receita LIMIT 10;\n"
   ]
  },
  {
   "cell_type": "code",
   "execution_count": 5,
   "metadata": {
    "vscode": {
     "languageId": "sql"
    }
   },
   "outputs": [
    {
     "data": {
      "application/vnd.code.notebook.error": {
       "message": "INVALID mime type: method. Must be in the format \"type/subtype[;optionalparameter]\"",
       "name": "Error",
       "stack": "Error: INVALID mime type: method. Must be in the format \"type/subtype[;optionalparameter]\"\n\tat new Yt (/usr/share/code/resources/app/out/vs/workbench/api/node/extensionHostProcess.js:121:45111)\n\tat Yt.text (/usr/share/code/resources/app/out/vs/workbench/api/node/extensionHostProcess.js:121:44923)\n\tat c (/usr/share/code/resources/app/extensions/ipynb/dist/ipynbMain.js:1:147680)\n\tat f (/usr/share/code/resources/app/extensions/ipynb/dist/ipynbMain.js:1:148456)\n\tat h (/usr/share/code/resources/app/extensions/ipynb/dist/ipynbMain.js:1:149195)\n\tat Array.map (<anonymous>)\n\tat /usr/share/code/resources/app/extensions/ipynb/dist/ipynbMain.js:1:150304\n\tat /usr/share/code/resources/app/extensions/ipynb/dist/ipynbMain.js:1:150621\n\tat /usr/share/code/resources/app/extensions/ipynb/dist/ipynbMain.js:1:150628\n\tat Array.map (<anonymous>)\n\tat e.$d (/usr/share/code/resources/app/extensions/ipynb/dist/ipynbMain.js:1:149880)\n\tat e.$m.deserializeNotebook (/usr/share/code/resources/app/extensions/ipynb/dist/ipynbMain.js:1:161467)\n\tat t.$dataToNotebook (/usr/share/code/resources/app/out/vs/workbench/api/node/extensionHostProcess.js:127:93269)\n\tat n.S (/usr/share/code/resources/app/out/vs/workbench/api/node/extensionHostProcess.js:134:10836)\n\tat n.Q (/usr/share/code/resources/app/out/vs/workbench/api/node/extensionHostProcess.js:134:10602)\n\tat n.M (/usr/share/code/resources/app/out/vs/workbench/api/node/extensionHostProcess.js:134:9647)\n\tat n.L (/usr/share/code/resources/app/out/vs/workbench/api/node/extensionHostProcess.js:134:8901)\n\tat h.value (/usr/share/code/resources/app/out/vs/workbench/api/node/extensionHostProcess.js:134:7565)\n\tat c.y (/usr/share/code/resources/app/out/vs/workbench/api/node/extensionHostProcess.js:80:1902)\n\tat c.fire (/usr/share/code/resources/app/out/vs/workbench/api/node/extensionHostProcess.js:80:2119)\n\tat d.fire (/usr/share/code/resources/app/out/vs/workbench/api/node/extensionHostProcess.js:96:14047)\n\tat h.value (/usr/share/code/resources/app/out/vs/workbench/api/node/extensionHostProcess.js:153:7918)\n\tat c.y (/usr/share/code/resources/app/out/vs/workbench/api/node/extensionHostProcess.js:80:1902)\n\tat c.fire (/usr/share/code/resources/app/out/vs/workbench/api/node/extensionHostProcess.js:80:2119)\n\tat d.fire (/usr/share/code/resources/app/out/vs/workbench/api/node/extensionHostProcess.js:96:14047)\n\tat MessagePortMain.<anonymous> (/usr/share/code/resources/app/out/vs/workbench/api/node/extensionHostProcess.js:153:6198)\n\tat MessagePortMain.emit (node:events:513:28)\n\tat MessagePortMain._internalPort.emit (node:electron/js2c/utility_init:2:367)"
      },
      "application/vnd.jupyter.widget-view+json": {
       "model_id": "71ef91e1-74dd-46f6-8ede-dc40debd0bfa",
       "version_major": 2,
       "version_minor": 0
      }
     },
     "metadata": {},
     "output_type": "display_data"
    }
   ],
   "source": [
    "SELECT * FROM Ingrediente LIMIT 10;\n"
   ]
  },
  {
   "cell_type": "code",
   "execution_count": 6,
   "metadata": {
    "vscode": {
     "languageId": "sql"
    }
   },
   "outputs": [
    {
     "data": {
      "application/vnd.code.notebook.error": {
       "message": "INVALID mime type: method. Must be in the format \"type/subtype[;optionalparameter]\"",
       "name": "Error",
       "stack": "Error: INVALID mime type: method. Must be in the format \"type/subtype[;optionalparameter]\"\n\tat new Yt (/usr/share/code/resources/app/out/vs/workbench/api/node/extensionHostProcess.js:121:45111)\n\tat Yt.text (/usr/share/code/resources/app/out/vs/workbench/api/node/extensionHostProcess.js:121:44923)\n\tat c (/usr/share/code/resources/app/extensions/ipynb/dist/ipynbMain.js:1:147680)\n\tat f (/usr/share/code/resources/app/extensions/ipynb/dist/ipynbMain.js:1:148456)\n\tat h (/usr/share/code/resources/app/extensions/ipynb/dist/ipynbMain.js:1:149195)\n\tat Array.map (<anonymous>)\n\tat /usr/share/code/resources/app/extensions/ipynb/dist/ipynbMain.js:1:150304\n\tat /usr/share/code/resources/app/extensions/ipynb/dist/ipynbMain.js:1:150621\n\tat /usr/share/code/resources/app/extensions/ipynb/dist/ipynbMain.js:1:150628\n\tat Array.map (<anonymous>)\n\tat e.$d (/usr/share/code/resources/app/extensions/ipynb/dist/ipynbMain.js:1:149880)\n\tat e.$m.deserializeNotebook (/usr/share/code/resources/app/extensions/ipynb/dist/ipynbMain.js:1:161467)\n\tat t.$dataToNotebook (/usr/share/code/resources/app/out/vs/workbench/api/node/extensionHostProcess.js:127:93269)\n\tat n.S (/usr/share/code/resources/app/out/vs/workbench/api/node/extensionHostProcess.js:134:10836)\n\tat n.Q (/usr/share/code/resources/app/out/vs/workbench/api/node/extensionHostProcess.js:134:10602)\n\tat n.M (/usr/share/code/resources/app/out/vs/workbench/api/node/extensionHostProcess.js:134:9647)\n\tat n.L (/usr/share/code/resources/app/out/vs/workbench/api/node/extensionHostProcess.js:134:8901)\n\tat h.value (/usr/share/code/resources/app/out/vs/workbench/api/node/extensionHostProcess.js:134:7565)\n\tat c.y (/usr/share/code/resources/app/out/vs/workbench/api/node/extensionHostProcess.js:80:1902)\n\tat c.fire (/usr/share/code/resources/app/out/vs/workbench/api/node/extensionHostProcess.js:80:2119)\n\tat d.fire (/usr/share/code/resources/app/out/vs/workbench/api/node/extensionHostProcess.js:96:14047)\n\tat h.value (/usr/share/code/resources/app/out/vs/workbench/api/node/extensionHostProcess.js:153:7918)\n\tat c.y (/usr/share/code/resources/app/out/vs/workbench/api/node/extensionHostProcess.js:80:1902)\n\tat c.fire (/usr/share/code/resources/app/out/vs/workbench/api/node/extensionHostProcess.js:80:2119)\n\tat d.fire (/usr/share/code/resources/app/out/vs/workbench/api/node/extensionHostProcess.js:96:14047)\n\tat MessagePortMain.<anonymous> (/usr/share/code/resources/app/out/vs/workbench/api/node/extensionHostProcess.js:153:6198)\n\tat MessagePortMain.emit (node:events:513:28)\n\tat MessagePortMain._internalPort.emit (node:electron/js2c/utility_init:2:367)"
      },
      "application/vnd.jupyter.widget-view+json": {
       "model_id": "ed5afcf4-c2e4-4f85-b7fc-137d52739d9f",
       "version_major": 2,
       "version_minor": 0
      }
     },
     "metadata": {},
     "output_type": "display_data"
    }
   ],
   "source": [
    "SELECT * FROM IngredienteComposto LIMIT 10;\n"
   ]
  },
  {
   "cell_type": "code",
   "execution_count": 7,
   "metadata": {
    "vscode": {
     "languageId": "sql"
    }
   },
   "outputs": [
    {
     "data": {
      "application/vnd.code.notebook.error": {
       "message": "INVALID mime type: method. Must be in the format \"type/subtype[;optionalparameter]\"",
       "name": "Error",
       "stack": "Error: INVALID mime type: method. Must be in the format \"type/subtype[;optionalparameter]\"\n\tat new Yt (/usr/share/code/resources/app/out/vs/workbench/api/node/extensionHostProcess.js:121:45111)\n\tat Yt.text (/usr/share/code/resources/app/out/vs/workbench/api/node/extensionHostProcess.js:121:44923)\n\tat c (/usr/share/code/resources/app/extensions/ipynb/dist/ipynbMain.js:1:147680)\n\tat f (/usr/share/code/resources/app/extensions/ipynb/dist/ipynbMain.js:1:148456)\n\tat h (/usr/share/code/resources/app/extensions/ipynb/dist/ipynbMain.js:1:149195)\n\tat Array.map (<anonymous>)\n\tat /usr/share/code/resources/app/extensions/ipynb/dist/ipynbMain.js:1:150304\n\tat /usr/share/code/resources/app/extensions/ipynb/dist/ipynbMain.js:1:150621\n\tat /usr/share/code/resources/app/extensions/ipynb/dist/ipynbMain.js:1:150628\n\tat Array.map (<anonymous>)\n\tat e.$d (/usr/share/code/resources/app/extensions/ipynb/dist/ipynbMain.js:1:149880)\n\tat e.$m.deserializeNotebook (/usr/share/code/resources/app/extensions/ipynb/dist/ipynbMain.js:1:161467)\n\tat t.$dataToNotebook (/usr/share/code/resources/app/out/vs/workbench/api/node/extensionHostProcess.js:127:93269)\n\tat n.S (/usr/share/code/resources/app/out/vs/workbench/api/node/extensionHostProcess.js:134:10836)\n\tat n.Q (/usr/share/code/resources/app/out/vs/workbench/api/node/extensionHostProcess.js:134:10602)\n\tat n.M (/usr/share/code/resources/app/out/vs/workbench/api/node/extensionHostProcess.js:134:9647)\n\tat n.L (/usr/share/code/resources/app/out/vs/workbench/api/node/extensionHostProcess.js:134:8901)\n\tat h.value (/usr/share/code/resources/app/out/vs/workbench/api/node/extensionHostProcess.js:134:7565)\n\tat c.y (/usr/share/code/resources/app/out/vs/workbench/api/node/extensionHostProcess.js:80:1902)\n\tat c.fire (/usr/share/code/resources/app/out/vs/workbench/api/node/extensionHostProcess.js:80:2119)\n\tat d.fire (/usr/share/code/resources/app/out/vs/workbench/api/node/extensionHostProcess.js:96:14047)\n\tat h.value (/usr/share/code/resources/app/out/vs/workbench/api/node/extensionHostProcess.js:153:7918)\n\tat c.y (/usr/share/code/resources/app/out/vs/workbench/api/node/extensionHostProcess.js:80:1902)\n\tat c.fire (/usr/share/code/resources/app/out/vs/workbench/api/node/extensionHostProcess.js:80:2119)\n\tat d.fire (/usr/share/code/resources/app/out/vs/workbench/api/node/extensionHostProcess.js:96:14047)\n\tat MessagePortMain.<anonymous> (/usr/share/code/resources/app/out/vs/workbench/api/node/extensionHostProcess.js:153:6198)\n\tat MessagePortMain.emit (node:events:513:28)\n\tat MessagePortMain._internalPort.emit (node:electron/js2c/utility_init:2:367)"
      },
      "application/vnd.jupyter.widget-view+json": {
       "model_id": "633686bd-8fa3-407e-9d4f-794497c9da4b",
       "version_major": 2,
       "version_minor": 0
      }
     },
     "metadata": {},
     "output_type": "display_data"
    }
   ],
   "source": [
    "SELECT * FROM Sabor LIMIT 10;\n"
   ]
  },
  {
   "cell_type": "code",
   "execution_count": 8,
   "metadata": {
    "vscode": {
     "languageId": "sql"
    }
   },
   "outputs": [
    {
     "data": {
      "application/vnd.code.notebook.error": {
       "message": "INVALID mime type: method. Must be in the format \"type/subtype[;optionalparameter]\"",
       "name": "Error",
       "stack": "Error: INVALID mime type: method. Must be in the format \"type/subtype[;optionalparameter]\"\n\tat new Yt (/usr/share/code/resources/app/out/vs/workbench/api/node/extensionHostProcess.js:121:45111)\n\tat Yt.text (/usr/share/code/resources/app/out/vs/workbench/api/node/extensionHostProcess.js:121:44923)\n\tat c (/usr/share/code/resources/app/extensions/ipynb/dist/ipynbMain.js:1:147680)\n\tat f (/usr/share/code/resources/app/extensions/ipynb/dist/ipynbMain.js:1:148456)\n\tat h (/usr/share/code/resources/app/extensions/ipynb/dist/ipynbMain.js:1:149195)\n\tat Array.map (<anonymous>)\n\tat /usr/share/code/resources/app/extensions/ipynb/dist/ipynbMain.js:1:150304\n\tat /usr/share/code/resources/app/extensions/ipynb/dist/ipynbMain.js:1:150621\n\tat /usr/share/code/resources/app/extensions/ipynb/dist/ipynbMain.js:1:150628\n\tat Array.map (<anonymous>)\n\tat e.$d (/usr/share/code/resources/app/extensions/ipynb/dist/ipynbMain.js:1:149880)\n\tat e.$m.deserializeNotebook (/usr/share/code/resources/app/extensions/ipynb/dist/ipynbMain.js:1:161467)\n\tat t.$dataToNotebook (/usr/share/code/resources/app/out/vs/workbench/api/node/extensionHostProcess.js:127:93269)\n\tat n.S (/usr/share/code/resources/app/out/vs/workbench/api/node/extensionHostProcess.js:134:10836)\n\tat n.Q (/usr/share/code/resources/app/out/vs/workbench/api/node/extensionHostProcess.js:134:10602)\n\tat n.M (/usr/share/code/resources/app/out/vs/workbench/api/node/extensionHostProcess.js:134:9647)\n\tat n.L (/usr/share/code/resources/app/out/vs/workbench/api/node/extensionHostProcess.js:134:8901)\n\tat h.value (/usr/share/code/resources/app/out/vs/workbench/api/node/extensionHostProcess.js:134:7565)\n\tat c.y (/usr/share/code/resources/app/out/vs/workbench/api/node/extensionHostProcess.js:80:1902)\n\tat c.fire (/usr/share/code/resources/app/out/vs/workbench/api/node/extensionHostProcess.js:80:2119)\n\tat d.fire (/usr/share/code/resources/app/out/vs/workbench/api/node/extensionHostProcess.js:96:14047)\n\tat h.value (/usr/share/code/resources/app/out/vs/workbench/api/node/extensionHostProcess.js:153:7918)\n\tat c.y (/usr/share/code/resources/app/out/vs/workbench/api/node/extensionHostProcess.js:80:1902)\n\tat c.fire (/usr/share/code/resources/app/out/vs/workbench/api/node/extensionHostProcess.js:80:2119)\n\tat d.fire (/usr/share/code/resources/app/out/vs/workbench/api/node/extensionHostProcess.js:96:14047)\n\tat MessagePortMain.<anonymous> (/usr/share/code/resources/app/out/vs/workbench/api/node/extensionHostProcess.js:153:6198)\n\tat MessagePortMain.emit (node:events:513:28)\n\tat MessagePortMain._internalPort.emit (node:electron/js2c/utility_init:2:367)"
      },
      "application/vnd.jupyter.widget-view+json": {
       "model_id": "aadbbf47-48c9-4571-a711-9accf3820083",
       "version_major": 2,
       "version_minor": 0
      }
     },
     "metadata": {},
     "output_type": "display_data"
    }
   ],
   "source": [
    "SELECT * FROM Classificacao LIMIT 10;\n"
   ]
  },
  {
   "cell_type": "code",
   "execution_count": 9,
   "metadata": {
    "vscode": {
     "languageId": "sql"
    }
   },
   "outputs": [
    {
     "data": {
      "application/vnd.code.notebook.error": {
       "message": "INVALID mime type: method. Must be in the format \"type/subtype[;optionalparameter]\"",
       "name": "Error",
       "stack": "Error: INVALID mime type: method. Must be in the format \"type/subtype[;optionalparameter]\"\n\tat new Yt (/usr/share/code/resources/app/out/vs/workbench/api/node/extensionHostProcess.js:121:45111)\n\tat Yt.text (/usr/share/code/resources/app/out/vs/workbench/api/node/extensionHostProcess.js:121:44923)\n\tat c (/usr/share/code/resources/app/extensions/ipynb/dist/ipynbMain.js:1:147680)\n\tat f (/usr/share/code/resources/app/extensions/ipynb/dist/ipynbMain.js:1:148456)\n\tat h (/usr/share/code/resources/app/extensions/ipynb/dist/ipynbMain.js:1:149195)\n\tat Array.map (<anonymous>)\n\tat /usr/share/code/resources/app/extensions/ipynb/dist/ipynbMain.js:1:150304\n\tat /usr/share/code/resources/app/extensions/ipynb/dist/ipynbMain.js:1:150621\n\tat /usr/share/code/resources/app/extensions/ipynb/dist/ipynbMain.js:1:150628\n\tat Array.map (<anonymous>)\n\tat e.$d (/usr/share/code/resources/app/extensions/ipynb/dist/ipynbMain.js:1:149880)\n\tat e.$m.deserializeNotebook (/usr/share/code/resources/app/extensions/ipynb/dist/ipynbMain.js:1:161467)\n\tat t.$dataToNotebook (/usr/share/code/resources/app/out/vs/workbench/api/node/extensionHostProcess.js:127:93269)\n\tat n.S (/usr/share/code/resources/app/out/vs/workbench/api/node/extensionHostProcess.js:134:10836)\n\tat n.Q (/usr/share/code/resources/app/out/vs/workbench/api/node/extensionHostProcess.js:134:10602)\n\tat n.M (/usr/share/code/resources/app/out/vs/workbench/api/node/extensionHostProcess.js:134:9647)\n\tat n.L (/usr/share/code/resources/app/out/vs/workbench/api/node/extensionHostProcess.js:134:8901)\n\tat h.value (/usr/share/code/resources/app/out/vs/workbench/api/node/extensionHostProcess.js:134:7565)\n\tat c.y (/usr/share/code/resources/app/out/vs/workbench/api/node/extensionHostProcess.js:80:1902)\n\tat c.fire (/usr/share/code/resources/app/out/vs/workbench/api/node/extensionHostProcess.js:80:2119)\n\tat d.fire (/usr/share/code/resources/app/out/vs/workbench/api/node/extensionHostProcess.js:96:14047)\n\tat h.value (/usr/share/code/resources/app/out/vs/workbench/api/node/extensionHostProcess.js:153:7918)\n\tat c.y (/usr/share/code/resources/app/out/vs/workbench/api/node/extensionHostProcess.js:80:1902)\n\tat c.fire (/usr/share/code/resources/app/out/vs/workbench/api/node/extensionHostProcess.js:80:2119)\n\tat d.fire (/usr/share/code/resources/app/out/vs/workbench/api/node/extensionHostProcess.js:96:14047)\n\tat MessagePortMain.<anonymous> (/usr/share/code/resources/app/out/vs/workbench/api/node/extensionHostProcess.js:153:6198)\n\tat MessagePortMain.emit (node:events:513:28)\n\tat MessagePortMain._internalPort.emit (node:electron/js2c/utility_init:2:367)"
      },
      "application/vnd.jupyter.widget-view+json": {
       "model_id": "885f46ec-d3d5-4869-ab46-27b825f21ad5",
       "version_major": 2,
       "version_minor": 0
      }
     },
     "metadata": {},
     "output_type": "display_data"
    }
   ],
   "source": [
    "SELECT * FROM Componente LIMIT 10;\n"
   ]
  },
  {
   "cell_type": "code",
   "execution_count": 10,
   "metadata": {
    "vscode": {
     "languageId": "sql"
    }
   },
   "outputs": [
    {
     "data": {
      "text/plain": [
       "NIH_US"
      ]
     },
     "execution_count": 10,
     "metadata": {},
     "output_type": "execute_result"
    }
   ],
   "source": [
    "SELECT * FROM OrgaoPublico LIMIT 10;\n"
   ]
  },
  {
   "cell_type": "code",
   "execution_count": 11,
   "metadata": {
    "vscode": {
     "languageId": "sql"
    }
   },
   "outputs": [
    {
     "data": {
      "application/vnd.code.notebook.error": {
       "message": "INVALID mime type: method. Must be in the format \"type/subtype[;optionalparameter]\"",
       "name": "Error",
       "stack": "Error: INVALID mime type: method. Must be in the format \"type/subtype[;optionalparameter]\"\n\tat new Yt (/usr/share/code/resources/app/out/vs/workbench/api/node/extensionHostProcess.js:121:45111)\n\tat Yt.text (/usr/share/code/resources/app/out/vs/workbench/api/node/extensionHostProcess.js:121:44923)\n\tat c (/usr/share/code/resources/app/extensions/ipynb/dist/ipynbMain.js:1:147680)\n\tat f (/usr/share/code/resources/app/extensions/ipynb/dist/ipynbMain.js:1:148456)\n\tat h (/usr/share/code/resources/app/extensions/ipynb/dist/ipynbMain.js:1:149195)\n\tat Array.map (<anonymous>)\n\tat /usr/share/code/resources/app/extensions/ipynb/dist/ipynbMain.js:1:150304\n\tat /usr/share/code/resources/app/extensions/ipynb/dist/ipynbMain.js:1:150621\n\tat /usr/share/code/resources/app/extensions/ipynb/dist/ipynbMain.js:1:150628\n\tat Array.map (<anonymous>)\n\tat e.$d (/usr/share/code/resources/app/extensions/ipynb/dist/ipynbMain.js:1:149880)\n\tat e.$m.deserializeNotebook (/usr/share/code/resources/app/extensions/ipynb/dist/ipynbMain.js:1:161467)\n\tat t.$dataToNotebook (/usr/share/code/resources/app/out/vs/workbench/api/node/extensionHostProcess.js:127:93269)\n\tat n.S (/usr/share/code/resources/app/out/vs/workbench/api/node/extensionHostProcess.js:134:10836)\n\tat n.Q (/usr/share/code/resources/app/out/vs/workbench/api/node/extensionHostProcess.js:134:10602)\n\tat n.M (/usr/share/code/resources/app/out/vs/workbench/api/node/extensionHostProcess.js:134:9647)\n\tat n.L (/usr/share/code/resources/app/out/vs/workbench/api/node/extensionHostProcess.js:134:8901)\n\tat h.value (/usr/share/code/resources/app/out/vs/workbench/api/node/extensionHostProcess.js:134:7565)\n\tat c.y (/usr/share/code/resources/app/out/vs/workbench/api/node/extensionHostProcess.js:80:1902)\n\tat c.fire (/usr/share/code/resources/app/out/vs/workbench/api/node/extensionHostProcess.js:80:2119)\n\tat d.fire (/usr/share/code/resources/app/out/vs/workbench/api/node/extensionHostProcess.js:96:14047)\n\tat h.value (/usr/share/code/resources/app/out/vs/workbench/api/node/extensionHostProcess.js:153:7918)\n\tat c.y (/usr/share/code/resources/app/out/vs/workbench/api/node/extensionHostProcess.js:80:1902)\n\tat c.fire (/usr/share/code/resources/app/out/vs/workbench/api/node/extensionHostProcess.js:80:2119)\n\tat d.fire (/usr/share/code/resources/app/out/vs/workbench/api/node/extensionHostProcess.js:96:14047)\n\tat MessagePortMain.<anonymous> (/usr/share/code/resources/app/out/vs/workbench/api/node/extensionHostProcess.js:153:6198)\n\tat MessagePortMain.emit (node:events:513:28)\n\tat MessagePortMain._internalPort.emit (node:electron/js2c/utility_init:2:367)"
      },
      "application/vnd.jupyter.widget-view+json": {
       "model_id": "6df14ed6-7d2b-4403-a567-d640800fad42",
       "version_major": 2,
       "version_minor": 0
      }
     },
     "metadata": {},
     "output_type": "display_data"
    }
   ],
   "source": [
    "SELECT * FROM IngredientesDasReceitas LIMIT 10;\n"
   ]
  },
  {
   "cell_type": "code",
   "execution_count": 12,
   "metadata": {
    "vscode": {
     "languageId": "sql"
    }
   },
   "outputs": [
    {
     "data": {
      "application/vnd.code.notebook.error": {
       "message": "INVALID mime type: method. Must be in the format \"type/subtype[;optionalparameter]\"",
       "name": "Error",
       "stack": "Error: INVALID mime type: method. Must be in the format \"type/subtype[;optionalparameter]\"\n\tat new Yt (/usr/share/code/resources/app/out/vs/workbench/api/node/extensionHostProcess.js:121:45111)\n\tat Yt.text (/usr/share/code/resources/app/out/vs/workbench/api/node/extensionHostProcess.js:121:44923)\n\tat c (/usr/share/code/resources/app/extensions/ipynb/dist/ipynbMain.js:1:147680)\n\tat f (/usr/share/code/resources/app/extensions/ipynb/dist/ipynbMain.js:1:148456)\n\tat h (/usr/share/code/resources/app/extensions/ipynb/dist/ipynbMain.js:1:149195)\n\tat Array.map (<anonymous>)\n\tat /usr/share/code/resources/app/extensions/ipynb/dist/ipynbMain.js:1:150304\n\tat /usr/share/code/resources/app/extensions/ipynb/dist/ipynbMain.js:1:150621\n\tat /usr/share/code/resources/app/extensions/ipynb/dist/ipynbMain.js:1:150628\n\tat Array.map (<anonymous>)\n\tat e.$d (/usr/share/code/resources/app/extensions/ipynb/dist/ipynbMain.js:1:149880)\n\tat e.$m.deserializeNotebook (/usr/share/code/resources/app/extensions/ipynb/dist/ipynbMain.js:1:161467)\n\tat t.$dataToNotebook (/usr/share/code/resources/app/out/vs/workbench/api/node/extensionHostProcess.js:127:93269)\n\tat n.S (/usr/share/code/resources/app/out/vs/workbench/api/node/extensionHostProcess.js:134:10836)\n\tat n.Q (/usr/share/code/resources/app/out/vs/workbench/api/node/extensionHostProcess.js:134:10602)\n\tat n.M (/usr/share/code/resources/app/out/vs/workbench/api/node/extensionHostProcess.js:134:9647)\n\tat n.L (/usr/share/code/resources/app/out/vs/workbench/api/node/extensionHostProcess.js:134:8901)\n\tat h.value (/usr/share/code/resources/app/out/vs/workbench/api/node/extensionHostProcess.js:134:7565)\n\tat c.y (/usr/share/code/resources/app/out/vs/workbench/api/node/extensionHostProcess.js:80:1902)\n\tat c.fire (/usr/share/code/resources/app/out/vs/workbench/api/node/extensionHostProcess.js:80:2119)\n\tat d.fire (/usr/share/code/resources/app/out/vs/workbench/api/node/extensionHostProcess.js:96:14047)\n\tat h.value (/usr/share/code/resources/app/out/vs/workbench/api/node/extensionHostProcess.js:153:7918)\n\tat c.y (/usr/share/code/resources/app/out/vs/workbench/api/node/extensionHostProcess.js:80:1902)\n\tat c.fire (/usr/share/code/resources/app/out/vs/workbench/api/node/extensionHostProcess.js:80:2119)\n\tat d.fire (/usr/share/code/resources/app/out/vs/workbench/api/node/extensionHostProcess.js:96:14047)\n\tat MessagePortMain.<anonymous> (/usr/share/code/resources/app/out/vs/workbench/api/node/extensionHostProcess.js:153:6198)\n\tat MessagePortMain.emit (node:events:513:28)\n\tat MessagePortMain._internalPort.emit (node:electron/js2c/utility_init:2:367)"
      },
      "application/vnd.jupyter.widget-view+json": {
       "model_id": "9db63c7d-79dd-4550-9264-4e0b8a90dc1b",
       "version_major": 2,
       "version_minor": 0
      }
     },
     "metadata": {},
     "output_type": "display_data"
    }
   ],
   "source": [
    "SELECT * FROM ComponentesDosIngredientes LIMIT 10;\n"
   ]
  },
  {
   "cell_type": "code",
   "execution_count": 13,
   "metadata": {
    "vscode": {
     "languageId": "sql"
    }
   },
   "outputs": [
    {
     "data": {
      "application/vnd.code.notebook.error": {
       "message": "INVALID mime type: method. Must be in the format \"type/subtype[;optionalparameter]\"",
       "name": "Error",
       "stack": "Error: INVALID mime type: method. Must be in the format \"type/subtype[;optionalparameter]\"\n\tat new Yt (/usr/share/code/resources/app/out/vs/workbench/api/node/extensionHostProcess.js:121:45111)\n\tat Yt.text (/usr/share/code/resources/app/out/vs/workbench/api/node/extensionHostProcess.js:121:44923)\n\tat c (/usr/share/code/resources/app/extensions/ipynb/dist/ipynbMain.js:1:147680)\n\tat f (/usr/share/code/resources/app/extensions/ipynb/dist/ipynbMain.js:1:148456)\n\tat h (/usr/share/code/resources/app/extensions/ipynb/dist/ipynbMain.js:1:149195)\n\tat Array.map (<anonymous>)\n\tat /usr/share/code/resources/app/extensions/ipynb/dist/ipynbMain.js:1:150304\n\tat /usr/share/code/resources/app/extensions/ipynb/dist/ipynbMain.js:1:150621\n\tat /usr/share/code/resources/app/extensions/ipynb/dist/ipynbMain.js:1:150628\n\tat Array.map (<anonymous>)\n\tat e.$d (/usr/share/code/resources/app/extensions/ipynb/dist/ipynbMain.js:1:149880)\n\tat e.$m.deserializeNotebook (/usr/share/code/resources/app/extensions/ipynb/dist/ipynbMain.js:1:161467)\n\tat t.$dataToNotebook (/usr/share/code/resources/app/out/vs/workbench/api/node/extensionHostProcess.js:127:93269)\n\tat n.S (/usr/share/code/resources/app/out/vs/workbench/api/node/extensionHostProcess.js:134:10836)\n\tat n.Q (/usr/share/code/resources/app/out/vs/workbench/api/node/extensionHostProcess.js:134:10602)\n\tat n.M (/usr/share/code/resources/app/out/vs/workbench/api/node/extensionHostProcess.js:134:9647)\n\tat n.L (/usr/share/code/resources/app/out/vs/workbench/api/node/extensionHostProcess.js:134:8901)\n\tat h.value (/usr/share/code/resources/app/out/vs/workbench/api/node/extensionHostProcess.js:134:7565)\n\tat c.y (/usr/share/code/resources/app/out/vs/workbench/api/node/extensionHostProcess.js:80:1902)\n\tat c.fire (/usr/share/code/resources/app/out/vs/workbench/api/node/extensionHostProcess.js:80:2119)\n\tat d.fire (/usr/share/code/resources/app/out/vs/workbench/api/node/extensionHostProcess.js:96:14047)\n\tat h.value (/usr/share/code/resources/app/out/vs/workbench/api/node/extensionHostProcess.js:153:7918)\n\tat c.y (/usr/share/code/resources/app/out/vs/workbench/api/node/extensionHostProcess.js:80:1902)\n\tat c.fire (/usr/share/code/resources/app/out/vs/workbench/api/node/extensionHostProcess.js:80:2119)\n\tat d.fire (/usr/share/code/resources/app/out/vs/workbench/api/node/extensionHostProcess.js:96:14047)\n\tat MessagePortMain.<anonymous> (/usr/share/code/resources/app/out/vs/workbench/api/node/extensionHostProcess.js:153:6198)\n\tat MessagePortMain.emit (node:events:513:28)\n\tat MessagePortMain._internalPort.emit (node:electron/js2c/utility_init:2:367)"
      },
      "application/vnd.jupyter.widget-view+json": {
       "model_id": "0e83577b-ef57-4b40-b636-6a9502968f00",
       "version_major": 2,
       "version_minor": 0
      }
     },
     "metadata": {},
     "output_type": "display_data"
    }
   ],
   "source": [
    "SELECT * FROM Recomendacao LIMIT 10;\n"
   ]
  },
  {
   "cell_type": "markdown",
   "metadata": {},
   "source": [
    "# Implementações das Perguntas de Pesquisa/Análise"
   ]
  },
  {
   "cell_type": "markdown",
   "metadata": {},
   "source": [
    "### Relacionando ingredientes das receitas e componentes químicos"
   ]
  },
  {
   "cell_type": "markdown",
   "metadata": {},
   "source": [
    "Em algumas questões de análise, relações entre receitas e componentes são feitas. Para fazer essas associações, é necessário relacionar os ingredientes de cada receita com os componentes a partir das unidades de medida. Analisando os valores possíveis:"
   ]
  },
  {
   "cell_type": "code",
   "execution_count": 14,
   "metadata": {
    "vscode": {
     "languageId": "sql"
    }
   },
   "outputs": [
    {
     "data": {
      "application/vnd.code.notebook.error": {
       "message": "INVALID mime type: method. Must be in the format \"type/subtype[;optionalparameter]\"",
       "name": "Error",
       "stack": "Error: INVALID mime type: method. Must be in the format \"type/subtype[;optionalparameter]\"\n\tat new Yt (/usr/share/code/resources/app/out/vs/workbench/api/node/extensionHostProcess.js:121:45111)\n\tat Yt.text (/usr/share/code/resources/app/out/vs/workbench/api/node/extensionHostProcess.js:121:44923)\n\tat c (/usr/share/code/resources/app/extensions/ipynb/dist/ipynbMain.js:1:147680)\n\tat f (/usr/share/code/resources/app/extensions/ipynb/dist/ipynbMain.js:1:148456)\n\tat h (/usr/share/code/resources/app/extensions/ipynb/dist/ipynbMain.js:1:149195)\n\tat Array.map (<anonymous>)\n\tat /usr/share/code/resources/app/extensions/ipynb/dist/ipynbMain.js:1:150304\n\tat /usr/share/code/resources/app/extensions/ipynb/dist/ipynbMain.js:1:150621\n\tat /usr/share/code/resources/app/extensions/ipynb/dist/ipynbMain.js:1:150628\n\tat Array.map (<anonymous>)\n\tat e.$d (/usr/share/code/resources/app/extensions/ipynb/dist/ipynbMain.js:1:149880)\n\tat e.$m.deserializeNotebook (/usr/share/code/resources/app/extensions/ipynb/dist/ipynbMain.js:1:161467)\n\tat t.$dataToNotebook (/usr/share/code/resources/app/out/vs/workbench/api/node/extensionHostProcess.js:127:93269)\n\tat n.S (/usr/share/code/resources/app/out/vs/workbench/api/node/extensionHostProcess.js:134:10836)\n\tat n.Q (/usr/share/code/resources/app/out/vs/workbench/api/node/extensionHostProcess.js:134:10602)\n\tat n.M (/usr/share/code/resources/app/out/vs/workbench/api/node/extensionHostProcess.js:134:9647)\n\tat n.L (/usr/share/code/resources/app/out/vs/workbench/api/node/extensionHostProcess.js:134:8901)\n\tat h.value (/usr/share/code/resources/app/out/vs/workbench/api/node/extensionHostProcess.js:134:7565)\n\tat c.y (/usr/share/code/resources/app/out/vs/workbench/api/node/extensionHostProcess.js:80:1902)\n\tat c.fire (/usr/share/code/resources/app/out/vs/workbench/api/node/extensionHostProcess.js:80:2119)\n\tat d.fire (/usr/share/code/resources/app/out/vs/workbench/api/node/extensionHostProcess.js:96:14047)\n\tat h.value (/usr/share/code/resources/app/out/vs/workbench/api/node/extensionHostProcess.js:153:7918)\n\tat c.y (/usr/share/code/resources/app/out/vs/workbench/api/node/extensionHostProcess.js:80:1902)\n\tat c.fire (/usr/share/code/resources/app/out/vs/workbench/api/node/extensionHostProcess.js:80:2119)\n\tat d.fire (/usr/share/code/resources/app/out/vs/workbench/api/node/extensionHostProcess.js:96:14047)\n\tat MessagePortMain.<anonymous> (/usr/share/code/resources/app/out/vs/workbench/api/node/extensionHostProcess.js:153:6198)\n\tat MessagePortMain.emit (node:events:513:28)\n\tat MessagePortMain._internalPort.emit (node:electron/js2c/utility_init:2:367)"
      },
      "application/vnd.jupyter.widget-view+json": {
       "model_id": "f050cc9b-2ffc-4a32-9a81-a55229440605",
       "version_major": 2,
       "version_minor": 0
      }
     },
     "metadata": {},
     "output_type": "display_data"
    }
   ],
   "source": [
    "SELECT DISTINCT Unidade\n",
    "FROM ComponentesDosIngredientes;\n"
   ]
  },
  {
   "cell_type": "code",
   "execution_count": 15,
   "metadata": {
    "vscode": {
     "languageId": "sql"
    }
   },
   "outputs": [
    {
     "data": {
      "application/vnd.code.notebook.error": {
       "message": "INVALID mime type: method. Must be in the format \"type/subtype[;optionalparameter]\"",
       "name": "Error",
       "stack": "Error: INVALID mime type: method. Must be in the format \"type/subtype[;optionalparameter]\"\n\tat new Yt (/usr/share/code/resources/app/out/vs/workbench/api/node/extensionHostProcess.js:121:45111)\n\tat Yt.text (/usr/share/code/resources/app/out/vs/workbench/api/node/extensionHostProcess.js:121:44923)\n\tat c (/usr/share/code/resources/app/extensions/ipynb/dist/ipynbMain.js:1:147680)\n\tat f (/usr/share/code/resources/app/extensions/ipynb/dist/ipynbMain.js:1:148456)\n\tat h (/usr/share/code/resources/app/extensions/ipynb/dist/ipynbMain.js:1:149195)\n\tat Array.map (<anonymous>)\n\tat /usr/share/code/resources/app/extensions/ipynb/dist/ipynbMain.js:1:150304\n\tat /usr/share/code/resources/app/extensions/ipynb/dist/ipynbMain.js:1:150621\n\tat /usr/share/code/resources/app/extensions/ipynb/dist/ipynbMain.js:1:150628\n\tat Array.map (<anonymous>)\n\tat e.$d (/usr/share/code/resources/app/extensions/ipynb/dist/ipynbMain.js:1:149880)\n\tat e.$m.deserializeNotebook (/usr/share/code/resources/app/extensions/ipynb/dist/ipynbMain.js:1:161467)\n\tat t.$dataToNotebook (/usr/share/code/resources/app/out/vs/workbench/api/node/extensionHostProcess.js:127:93269)\n\tat n.S (/usr/share/code/resources/app/out/vs/workbench/api/node/extensionHostProcess.js:134:10836)\n\tat n.Q (/usr/share/code/resources/app/out/vs/workbench/api/node/extensionHostProcess.js:134:10602)\n\tat n.M (/usr/share/code/resources/app/out/vs/workbench/api/node/extensionHostProcess.js:134:9647)\n\tat n.L (/usr/share/code/resources/app/out/vs/workbench/api/node/extensionHostProcess.js:134:8901)\n\tat h.value (/usr/share/code/resources/app/out/vs/workbench/api/node/extensionHostProcess.js:134:7565)\n\tat c.y (/usr/share/code/resources/app/out/vs/workbench/api/node/extensionHostProcess.js:80:1902)\n\tat c.fire (/usr/share/code/resources/app/out/vs/workbench/api/node/extensionHostProcess.js:80:2119)\n\tat d.fire (/usr/share/code/resources/app/out/vs/workbench/api/node/extensionHostProcess.js:96:14047)\n\tat h.value (/usr/share/code/resources/app/out/vs/workbench/api/node/extensionHostProcess.js:153:7918)\n\tat c.y (/usr/share/code/resources/app/out/vs/workbench/api/node/extensionHostProcess.js:80:1902)\n\tat c.fire (/usr/share/code/resources/app/out/vs/workbench/api/node/extensionHostProcess.js:80:2119)\n\tat d.fire (/usr/share/code/resources/app/out/vs/workbench/api/node/extensionHostProcess.js:96:14047)\n\tat MessagePortMain.<anonymous> (/usr/share/code/resources/app/out/vs/workbench/api/node/extensionHostProcess.js:153:6198)\n\tat MessagePortMain.emit (node:events:513:28)\n\tat MessagePortMain._internalPort.emit (node:electron/js2c/utility_init:2:367)"
      },
      "application/vnd.jupyter.widget-view+json": {
       "model_id": "3f9fe2b5-3fd8-466e-a10a-024486c1a140",
       "version_major": 2,
       "version_minor": 0
      }
     },
     "metadata": {},
     "output_type": "display_data"
    }
   ],
   "source": [
    "SELECT DISTINCT Unidade\n",
    "FROM IngredientesDasReceitas;\n"
   ]
  },
  {
   "cell_type": "markdown",
   "metadata": {},
   "source": [
    "Assim, as unidades de medidas dos ingredientes, conforme criado nos notebooks anteriores base são `unidade`, para ingredientes com quantidades definidas pelo próprio ingrediente (por exemplo, 1 ovo), `grama`, para medidas em gramas, `mililitro`, para medidas em mililitros e `desconhecida` para medidas desconhecidas.\n",
    "\n",
    "Relacionando essas unidades com as unidades dos componentes dos ingredientes do FooDB, foi possível identificar, resumidamente, as seguintes unidades:\n",
    "\n",
    "* ug/g\n",
    "* ug/kg\n",
    "* ug/L\n",
    "* mg/100g\n",
    "* g/kg\n",
    "* mg/kg\n",
    "* mg/l\n",
    "* ug/100g\n",
    "\n",
    "Essas medidas podem ser associadas aos ingredientes nas receitas individualmente, respeitando a unidade (em gramas ou em mililitros) do componente e a unidade do componente. Expressões regulares podem ser usadas para identificar os padrões acima e, na construção dos dados dessa relação, todas as unidades dos componentes podem ser consideradas em miligramas por simplificação."
   ]
  },
  {
   "cell_type": "code",
   "execution_count": 16,
   "metadata": {
    "vscode": {
     "languageId": "sql"
    }
   },
   "outputs": [],
   "source": [
    "DROP VIEW IF EXISTS ComponentesUgG;\n",
    "DROP VIEW IF EXISTS ComponentesUgKg;\n",
    "DROP VIEW IF EXISTS ComponentesUgL;\n",
    "DROP VIEW IF EXISTS ComponentesMg100G;\n",
    "DROP VIEW IF EXISTS ComponentesGKg;\n",
    "DROP VIEW IF EXISTS ComponentesMgKg;\n",
    "DROP VIEW IF EXISTS ComponentesMgL;\n",
    "DROP VIEW IF EXISTS ComponentesUg100G;\n",
    "\n",
    "CREATE VIEW ComponentesUgG AS\n",
    "    SELECT IR.IdReceita, IR.Banco, IR.Ingrediente, CI.IdComponente, CI.Tipo, (CI.Quantidade * IR.Quantidade / 1000000000) QuantidadeMg\n",
    "    FROM IngredientesDasReceitas IR, ComponentesDosIngredientes CI\n",
    "    WHERE IR.Ingrediente = CI.Ingrediente\n",
    "        AND IR.Unidade = 'grama'\n",
    "        AND (CI.Unidade LIKE 'ug/g%' OR CI.Unidade LIKE 'ug/ 100g%');\n",
    "\n",
    "CREATE VIEW ComponentesUgKg AS\n",
    "    SELECT IR.IdReceita, IR.Banco, IR.Ingrediente, CI.IdComponente, CI.Tipo, (CI.Quantidade * IR.Quantidade / 1000000000000) QuantidadeMg\n",
    "    FROM IngredientesDasReceitas IR, ComponentesDosIngredientes CI\n",
    "    WHERE IR.Ingrediente = CI.Ingrediente\n",
    "        AND IR.Unidade = 'grama'\n",
    "        AND CI.Unidade LIKE 'ug/kg%';\n",
    "\n",
    "CREATE VIEW ComponentesUgL AS\n",
    "    SELECT IR.IdReceita, IR.Banco, IR.Ingrediente, CI.IdComponente, CI.Tipo, (CI.Quantidade * IR.Quantidade / 1000000000000) QuantidadeMg\n",
    "    FROM IngredientesDasReceitas IR, ComponentesDosIngredientes CI\n",
    "    WHERE IR.Ingrediente = CI.Ingrediente\n",
    "        AND IR.Unidade = 'mililitro'\n",
    "        AND CI.Unidade LIKE 'ug/L';\n",
    "\n",
    "CREATE VIEW ComponentesMg100G AS\n",
    "    SELECT IR.IdReceita, IR.Banco, IR.Ingrediente, CI.IdComponente, CI.Tipo, (CI.Quantidade * IR.Quantidade / 100) QuantidadeMg\n",
    "    FROM IngredientesDasReceitas IR, ComponentesDosIngredientes CI\n",
    "    WHERE IR.Ingrediente = CI.Ingrediente\n",
    "        AND IR.Unidade = 'grama'\n",
    "        AND (CI.Unidade LIKE 'mg/100 g%' OR CI.Unidade LIKE 'mg/100g');\n",
    "\n",
    "CREATE VIEW ComponentesGKg AS\n",
    "    SELECT IR.IdReceita, IR.Banco, IR.Ingrediente, CI.IdComponente, CI.Tipo, (CI.Quantidade * IR.Quantidade) QuantidadeMg\n",
    "    FROM IngredientesDasReceitas IR, ComponentesDosIngredientes CI\n",
    "    WHERE IR.Ingrediente = CI.Ingrediente\n",
    "        AND IR.Unidade = 'grama'\n",
    "        AND CI.Unidade LIKE 'g/kg%';\n",
    "\n",
    "CREATE VIEW ComponentesMgKg AS\n",
    "    SELECT IR.IdReceita, IR.Banco, IR.Ingrediente, CI.IdComponente, CI.Tipo, (CI.Quantidade * IR.Quantidade / 1000) QuantidadeMg\n",
    "    FROM IngredientesDasReceitas IR, ComponentesDosIngredientes CI\n",
    "    WHERE IR.Ingrediente = CI.Ingrediente\n",
    "        AND IR.Unidade = 'grama'\n",
    "        AND CI.Unidade LIKE 'mg/kg%';\n",
    "\n",
    "CREATE VIEW ComponentesMgL AS\n",
    "    SELECT IR.IdReceita, IR.Banco, IR.Ingrediente, CI.IdComponente, CI.Tipo, (CI.Quantidade * IR.Quantidade / 1000) QuantidadeMg\n",
    "    FROM IngredientesDasReceitas IR, ComponentesDosIngredientes CI\n",
    "    WHERE IR.Ingrediente = CI.Ingrediente\n",
    "        AND IR.Unidade = 'mililitro'\n",
    "        AND CI.Unidade LIKE 'mg/l';\n",
    "\n",
    "CREATE VIEW ComponentesUg100G AS\n",
    "    SELECT IR.IdReceita, IR.Banco, IR.Ingrediente, CI.IdComponente, CI.Tipo, (CI.Quantidade * IR.Quantidade / 100000000000) QuantidadeMg\n",
    "    FROM IngredientesDasReceitas IR, ComponentesDosIngredientes CI\n",
    "    WHERE IR.Ingrediente = CI.Ingrediente\n",
    "        AND IR.Unidade = 'grama'\n",
    "        AND CI.Unidade LIKE 'ug/ 100g%';\n"
   ]
  },
  {
   "cell_type": "markdown",
   "metadata": {},
   "source": [
    "Visualizando:"
   ]
  },
  {
   "cell_type": "code",
   "execution_count": 17,
   "metadata": {
    "vscode": {
     "languageId": "sql"
    }
   },
   "outputs": [
    {
     "data": {
      "application/vnd.code.notebook.error": {
       "message": "INVALID mime type: method. Must be in the format \"type/subtype[;optionalparameter]\"",
       "name": "Error",
       "stack": "Error: INVALID mime type: method. Must be in the format \"type/subtype[;optionalparameter]\"\n\tat new Yt (/usr/share/code/resources/app/out/vs/workbench/api/node/extensionHostProcess.js:121:45111)\n\tat Yt.text (/usr/share/code/resources/app/out/vs/workbench/api/node/extensionHostProcess.js:121:44923)\n\tat c (/usr/share/code/resources/app/extensions/ipynb/dist/ipynbMain.js:1:147680)\n\tat f (/usr/share/code/resources/app/extensions/ipynb/dist/ipynbMain.js:1:148456)\n\tat h (/usr/share/code/resources/app/extensions/ipynb/dist/ipynbMain.js:1:149195)\n\tat Array.map (<anonymous>)\n\tat /usr/share/code/resources/app/extensions/ipynb/dist/ipynbMain.js:1:150304\n\tat /usr/share/code/resources/app/extensions/ipynb/dist/ipynbMain.js:1:150621\n\tat /usr/share/code/resources/app/extensions/ipynb/dist/ipynbMain.js:1:150628\n\tat Array.map (<anonymous>)\n\tat e.$d (/usr/share/code/resources/app/extensions/ipynb/dist/ipynbMain.js:1:149880)\n\tat e.$m.deserializeNotebook (/usr/share/code/resources/app/extensions/ipynb/dist/ipynbMain.js:1:161467)\n\tat t.$dataToNotebook (/usr/share/code/resources/app/out/vs/workbench/api/node/extensionHostProcess.js:127:93269)\n\tat n.S (/usr/share/code/resources/app/out/vs/workbench/api/node/extensionHostProcess.js:134:10836)\n\tat n.Q (/usr/share/code/resources/app/out/vs/workbench/api/node/extensionHostProcess.js:134:10602)\n\tat n.M (/usr/share/code/resources/app/out/vs/workbench/api/node/extensionHostProcess.js:134:9647)\n\tat n.L (/usr/share/code/resources/app/out/vs/workbench/api/node/extensionHostProcess.js:134:8901)\n\tat h.value (/usr/share/code/resources/app/out/vs/workbench/api/node/extensionHostProcess.js:134:7565)\n\tat c.y (/usr/share/code/resources/app/out/vs/workbench/api/node/extensionHostProcess.js:80:1902)\n\tat c.fire (/usr/share/code/resources/app/out/vs/workbench/api/node/extensionHostProcess.js:80:2119)\n\tat d.fire (/usr/share/code/resources/app/out/vs/workbench/api/node/extensionHostProcess.js:96:14047)\n\tat h.value (/usr/share/code/resources/app/out/vs/workbench/api/node/extensionHostProcess.js:153:7918)\n\tat c.y (/usr/share/code/resources/app/out/vs/workbench/api/node/extensionHostProcess.js:80:1902)\n\tat c.fire (/usr/share/code/resources/app/out/vs/workbench/api/node/extensionHostProcess.js:80:2119)\n\tat d.fire (/usr/share/code/resources/app/out/vs/workbench/api/node/extensionHostProcess.js:96:14047)\n\tat MessagePortMain.<anonymous> (/usr/share/code/resources/app/out/vs/workbench/api/node/extensionHostProcess.js:153:6198)\n\tat MessagePortMain.emit (node:events:513:28)\n\tat MessagePortMain._internalPort.emit (node:electron/js2c/utility_init:2:367)"
      },
      "application/vnd.jupyter.widget-view+json": {
       "model_id": "d250c9ac-eb97-4d48-b1c0-fd5fcdcfb82a",
       "version_major": 2,
       "version_minor": 0
      }
     },
     "metadata": {},
     "output_type": "display_data"
    }
   ],
   "source": [
    "SELECT * FROM ComponentesUgG LIMIT 10;\n"
   ]
  },
  {
   "cell_type": "code",
   "execution_count": 18,
   "metadata": {
    "vscode": {
     "languageId": "sql"
    }
   },
   "outputs": [
    {
     "data": {
      "application/vnd.code.notebook.error": {
       "message": "INVALID mime type: method. Must be in the format \"type/subtype[;optionalparameter]\"",
       "name": "Error",
       "stack": "Error: INVALID mime type: method. Must be in the format \"type/subtype[;optionalparameter]\"\n\tat new Yt (/usr/share/code/resources/app/out/vs/workbench/api/node/extensionHostProcess.js:121:45111)\n\tat Yt.text (/usr/share/code/resources/app/out/vs/workbench/api/node/extensionHostProcess.js:121:44923)\n\tat c (/usr/share/code/resources/app/extensions/ipynb/dist/ipynbMain.js:1:147680)\n\tat f (/usr/share/code/resources/app/extensions/ipynb/dist/ipynbMain.js:1:148456)\n\tat h (/usr/share/code/resources/app/extensions/ipynb/dist/ipynbMain.js:1:149195)\n\tat Array.map (<anonymous>)\n\tat /usr/share/code/resources/app/extensions/ipynb/dist/ipynbMain.js:1:150304\n\tat /usr/share/code/resources/app/extensions/ipynb/dist/ipynbMain.js:1:150621\n\tat /usr/share/code/resources/app/extensions/ipynb/dist/ipynbMain.js:1:150628\n\tat Array.map (<anonymous>)\n\tat e.$d (/usr/share/code/resources/app/extensions/ipynb/dist/ipynbMain.js:1:149880)\n\tat e.$m.deserializeNotebook (/usr/share/code/resources/app/extensions/ipynb/dist/ipynbMain.js:1:161467)\n\tat t.$dataToNotebook (/usr/share/code/resources/app/out/vs/workbench/api/node/extensionHostProcess.js:127:93269)\n\tat n.S (/usr/share/code/resources/app/out/vs/workbench/api/node/extensionHostProcess.js:134:10836)\n\tat n.Q (/usr/share/code/resources/app/out/vs/workbench/api/node/extensionHostProcess.js:134:10602)\n\tat n.M (/usr/share/code/resources/app/out/vs/workbench/api/node/extensionHostProcess.js:134:9647)\n\tat n.L (/usr/share/code/resources/app/out/vs/workbench/api/node/extensionHostProcess.js:134:8901)\n\tat h.value (/usr/share/code/resources/app/out/vs/workbench/api/node/extensionHostProcess.js:134:7565)\n\tat c.y (/usr/share/code/resources/app/out/vs/workbench/api/node/extensionHostProcess.js:80:1902)\n\tat c.fire (/usr/share/code/resources/app/out/vs/workbench/api/node/extensionHostProcess.js:80:2119)\n\tat d.fire (/usr/share/code/resources/app/out/vs/workbench/api/node/extensionHostProcess.js:96:14047)\n\tat h.value (/usr/share/code/resources/app/out/vs/workbench/api/node/extensionHostProcess.js:153:7918)\n\tat c.y (/usr/share/code/resources/app/out/vs/workbench/api/node/extensionHostProcess.js:80:1902)\n\tat c.fire (/usr/share/code/resources/app/out/vs/workbench/api/node/extensionHostProcess.js:80:2119)\n\tat d.fire (/usr/share/code/resources/app/out/vs/workbench/api/node/extensionHostProcess.js:96:14047)\n\tat MessagePortMain.<anonymous> (/usr/share/code/resources/app/out/vs/workbench/api/node/extensionHostProcess.js:153:6198)\n\tat MessagePortMain.emit (node:events:513:28)\n\tat MessagePortMain._internalPort.emit (node:electron/js2c/utility_init:2:367)"
      },
      "application/vnd.jupyter.widget-view+json": {
       "model_id": "d1c671d9-0c9f-4a62-92f5-08581cfc5f19",
       "version_major": 2,
       "version_minor": 0
      }
     },
     "metadata": {},
     "output_type": "display_data"
    }
   ],
   "source": [
    "SELECT * FROM ComponentesUgKg LIMIT 10;\n"
   ]
  },
  {
   "cell_type": "code",
   "execution_count": 19,
   "metadata": {
    "vscode": {
     "languageId": "sql"
    }
   },
   "outputs": [
    {
     "data": {
      "application/vnd.code.notebook.error": {
       "message": "INVALID mime type: method. Must be in the format \"type/subtype[;optionalparameter]\"",
       "name": "Error",
       "stack": "Error: INVALID mime type: method. Must be in the format \"type/subtype[;optionalparameter]\"\n\tat new Yt (/usr/share/code/resources/app/out/vs/workbench/api/node/extensionHostProcess.js:121:45111)\n\tat Yt.text (/usr/share/code/resources/app/out/vs/workbench/api/node/extensionHostProcess.js:121:44923)\n\tat c (/usr/share/code/resources/app/extensions/ipynb/dist/ipynbMain.js:1:147680)\n\tat f (/usr/share/code/resources/app/extensions/ipynb/dist/ipynbMain.js:1:148456)\n\tat h (/usr/share/code/resources/app/extensions/ipynb/dist/ipynbMain.js:1:149195)\n\tat Array.map (<anonymous>)\n\tat /usr/share/code/resources/app/extensions/ipynb/dist/ipynbMain.js:1:150304\n\tat /usr/share/code/resources/app/extensions/ipynb/dist/ipynbMain.js:1:150621\n\tat /usr/share/code/resources/app/extensions/ipynb/dist/ipynbMain.js:1:150628\n\tat Array.map (<anonymous>)\n\tat e.$d (/usr/share/code/resources/app/extensions/ipynb/dist/ipynbMain.js:1:149880)\n\tat e.$m.deserializeNotebook (/usr/share/code/resources/app/extensions/ipynb/dist/ipynbMain.js:1:161467)\n\tat t.$dataToNotebook (/usr/share/code/resources/app/out/vs/workbench/api/node/extensionHostProcess.js:127:93269)\n\tat n.S (/usr/share/code/resources/app/out/vs/workbench/api/node/extensionHostProcess.js:134:10836)\n\tat n.Q (/usr/share/code/resources/app/out/vs/workbench/api/node/extensionHostProcess.js:134:10602)\n\tat n.M (/usr/share/code/resources/app/out/vs/workbench/api/node/extensionHostProcess.js:134:9647)\n\tat n.L (/usr/share/code/resources/app/out/vs/workbench/api/node/extensionHostProcess.js:134:8901)\n\tat h.value (/usr/share/code/resources/app/out/vs/workbench/api/node/extensionHostProcess.js:134:7565)\n\tat c.y (/usr/share/code/resources/app/out/vs/workbench/api/node/extensionHostProcess.js:80:1902)\n\tat c.fire (/usr/share/code/resources/app/out/vs/workbench/api/node/extensionHostProcess.js:80:2119)\n\tat d.fire (/usr/share/code/resources/app/out/vs/workbench/api/node/extensionHostProcess.js:96:14047)\n\tat h.value (/usr/share/code/resources/app/out/vs/workbench/api/node/extensionHostProcess.js:153:7918)\n\tat c.y (/usr/share/code/resources/app/out/vs/workbench/api/node/extensionHostProcess.js:80:1902)\n\tat c.fire (/usr/share/code/resources/app/out/vs/workbench/api/node/extensionHostProcess.js:80:2119)\n\tat d.fire (/usr/share/code/resources/app/out/vs/workbench/api/node/extensionHostProcess.js:96:14047)\n\tat MessagePortMain.<anonymous> (/usr/share/code/resources/app/out/vs/workbench/api/node/extensionHostProcess.js:153:6198)\n\tat MessagePortMain.emit (node:events:513:28)\n\tat MessagePortMain._internalPort.emit (node:electron/js2c/utility_init:2:367)"
      },
      "application/vnd.jupyter.widget-view+json": {
       "model_id": "58c6d31e-a070-4b85-a733-903925e7e467",
       "version_major": 2,
       "version_minor": 0
      }
     },
     "metadata": {},
     "output_type": "display_data"
    }
   ],
   "source": [
    "SELECT * FROM ComponentesUgL LIMIT 10;\n"
   ]
  },
  {
   "cell_type": "code",
   "execution_count": 20,
   "metadata": {
    "vscode": {
     "languageId": "sql"
    }
   },
   "outputs": [
    {
     "data": {
      "application/vnd.code.notebook.error": {
       "message": "INVALID mime type: method. Must be in the format \"type/subtype[;optionalparameter]\"",
       "name": "Error",
       "stack": "Error: INVALID mime type: method. Must be in the format \"type/subtype[;optionalparameter]\"\n\tat new Yt (/usr/share/code/resources/app/out/vs/workbench/api/node/extensionHostProcess.js:121:45111)\n\tat Yt.text (/usr/share/code/resources/app/out/vs/workbench/api/node/extensionHostProcess.js:121:44923)\n\tat c (/usr/share/code/resources/app/extensions/ipynb/dist/ipynbMain.js:1:147680)\n\tat f (/usr/share/code/resources/app/extensions/ipynb/dist/ipynbMain.js:1:148456)\n\tat h (/usr/share/code/resources/app/extensions/ipynb/dist/ipynbMain.js:1:149195)\n\tat Array.map (<anonymous>)\n\tat /usr/share/code/resources/app/extensions/ipynb/dist/ipynbMain.js:1:150304\n\tat /usr/share/code/resources/app/extensions/ipynb/dist/ipynbMain.js:1:150621\n\tat /usr/share/code/resources/app/extensions/ipynb/dist/ipynbMain.js:1:150628\n\tat Array.map (<anonymous>)\n\tat e.$d (/usr/share/code/resources/app/extensions/ipynb/dist/ipynbMain.js:1:149880)\n\tat e.$m.deserializeNotebook (/usr/share/code/resources/app/extensions/ipynb/dist/ipynbMain.js:1:161467)\n\tat t.$dataToNotebook (/usr/share/code/resources/app/out/vs/workbench/api/node/extensionHostProcess.js:127:93269)\n\tat n.S (/usr/share/code/resources/app/out/vs/workbench/api/node/extensionHostProcess.js:134:10836)\n\tat n.Q (/usr/share/code/resources/app/out/vs/workbench/api/node/extensionHostProcess.js:134:10602)\n\tat n.M (/usr/share/code/resources/app/out/vs/workbench/api/node/extensionHostProcess.js:134:9647)\n\tat n.L (/usr/share/code/resources/app/out/vs/workbench/api/node/extensionHostProcess.js:134:8901)\n\tat h.value (/usr/share/code/resources/app/out/vs/workbench/api/node/extensionHostProcess.js:134:7565)\n\tat c.y (/usr/share/code/resources/app/out/vs/workbench/api/node/extensionHostProcess.js:80:1902)\n\tat c.fire (/usr/share/code/resources/app/out/vs/workbench/api/node/extensionHostProcess.js:80:2119)\n\tat d.fire (/usr/share/code/resources/app/out/vs/workbench/api/node/extensionHostProcess.js:96:14047)\n\tat h.value (/usr/share/code/resources/app/out/vs/workbench/api/node/extensionHostProcess.js:153:7918)\n\tat c.y (/usr/share/code/resources/app/out/vs/workbench/api/node/extensionHostProcess.js:80:1902)\n\tat c.fire (/usr/share/code/resources/app/out/vs/workbench/api/node/extensionHostProcess.js:80:2119)\n\tat d.fire (/usr/share/code/resources/app/out/vs/workbench/api/node/extensionHostProcess.js:96:14047)\n\tat MessagePortMain.<anonymous> (/usr/share/code/resources/app/out/vs/workbench/api/node/extensionHostProcess.js:153:6198)\n\tat MessagePortMain.emit (node:events:513:28)\n\tat MessagePortMain._internalPort.emit (node:electron/js2c/utility_init:2:367)"
      },
      "application/vnd.jupyter.widget-view+json": {
       "model_id": "32bbbc7e-7304-492a-9b1f-a2a0be5a0cb9",
       "version_major": 2,
       "version_minor": 0
      }
     },
     "metadata": {},
     "output_type": "display_data"
    }
   ],
   "source": [
    "SELECT * FROM ComponentesMg100G LIMIT 10;\n"
   ]
  },
  {
   "cell_type": "code",
   "execution_count": 21,
   "metadata": {
    "vscode": {
     "languageId": "sql"
    }
   },
   "outputs": [],
   "source": [
    "SELECT * FROM ComponentesGKg LIMIT 10;\n"
   ]
  },
  {
   "cell_type": "code",
   "execution_count": 22,
   "metadata": {
    "vscode": {
     "languageId": "sql"
    }
   },
   "outputs": [
    {
     "data": {
      "application/vnd.code.notebook.error": {
       "message": "INVALID mime type: method. Must be in the format \"type/subtype[;optionalparameter]\"",
       "name": "Error",
       "stack": "Error: INVALID mime type: method. Must be in the format \"type/subtype[;optionalparameter]\"\n\tat new Yt (/usr/share/code/resources/app/out/vs/workbench/api/node/extensionHostProcess.js:121:45111)\n\tat Yt.text (/usr/share/code/resources/app/out/vs/workbench/api/node/extensionHostProcess.js:121:44923)\n\tat c (/usr/share/code/resources/app/extensions/ipynb/dist/ipynbMain.js:1:147680)\n\tat f (/usr/share/code/resources/app/extensions/ipynb/dist/ipynbMain.js:1:148456)\n\tat h (/usr/share/code/resources/app/extensions/ipynb/dist/ipynbMain.js:1:149195)\n\tat Array.map (<anonymous>)\n\tat /usr/share/code/resources/app/extensions/ipynb/dist/ipynbMain.js:1:150304\n\tat /usr/share/code/resources/app/extensions/ipynb/dist/ipynbMain.js:1:150621\n\tat /usr/share/code/resources/app/extensions/ipynb/dist/ipynbMain.js:1:150628\n\tat Array.map (<anonymous>)\n\tat e.$d (/usr/share/code/resources/app/extensions/ipynb/dist/ipynbMain.js:1:149880)\n\tat e.$m.deserializeNotebook (/usr/share/code/resources/app/extensions/ipynb/dist/ipynbMain.js:1:161467)\n\tat t.$dataToNotebook (/usr/share/code/resources/app/out/vs/workbench/api/node/extensionHostProcess.js:127:93269)\n\tat n.S (/usr/share/code/resources/app/out/vs/workbench/api/node/extensionHostProcess.js:134:10836)\n\tat n.Q (/usr/share/code/resources/app/out/vs/workbench/api/node/extensionHostProcess.js:134:10602)\n\tat n.M (/usr/share/code/resources/app/out/vs/workbench/api/node/extensionHostProcess.js:134:9647)\n\tat n.L (/usr/share/code/resources/app/out/vs/workbench/api/node/extensionHostProcess.js:134:8901)\n\tat h.value (/usr/share/code/resources/app/out/vs/workbench/api/node/extensionHostProcess.js:134:7565)\n\tat c.y (/usr/share/code/resources/app/out/vs/workbench/api/node/extensionHostProcess.js:80:1902)\n\tat c.fire (/usr/share/code/resources/app/out/vs/workbench/api/node/extensionHostProcess.js:80:2119)\n\tat d.fire (/usr/share/code/resources/app/out/vs/workbench/api/node/extensionHostProcess.js:96:14047)\n\tat h.value (/usr/share/code/resources/app/out/vs/workbench/api/node/extensionHostProcess.js:153:7918)\n\tat c.y (/usr/share/code/resources/app/out/vs/workbench/api/node/extensionHostProcess.js:80:1902)\n\tat c.fire (/usr/share/code/resources/app/out/vs/workbench/api/node/extensionHostProcess.js:80:2119)\n\tat d.fire (/usr/share/code/resources/app/out/vs/workbench/api/node/extensionHostProcess.js:96:14047)\n\tat MessagePortMain.<anonymous> (/usr/share/code/resources/app/out/vs/workbench/api/node/extensionHostProcess.js:153:6198)\n\tat MessagePortMain.emit (node:events:513:28)\n\tat MessagePortMain._internalPort.emit (node:electron/js2c/utility_init:2:367)"
      },
      "application/vnd.jupyter.widget-view+json": {
       "model_id": "9d29ba50-680e-442e-9813-f6a504a14cff",
       "version_major": 2,
       "version_minor": 0
      }
     },
     "metadata": {},
     "output_type": "display_data"
    }
   ],
   "source": [
    "SELECT * FROM ComponentesMgKg LIMIT 10;\n"
   ]
  },
  {
   "cell_type": "code",
   "execution_count": 23,
   "metadata": {
    "vscode": {
     "languageId": "sql"
    }
   },
   "outputs": [
    {
     "data": {
      "application/vnd.code.notebook.error": {
       "message": "INVALID mime type: method. Must be in the format \"type/subtype[;optionalparameter]\"",
       "name": "Error",
       "stack": "Error: INVALID mime type: method. Must be in the format \"type/subtype[;optionalparameter]\"\n\tat new Yt (/usr/share/code/resources/app/out/vs/workbench/api/node/extensionHostProcess.js:121:45111)\n\tat Yt.text (/usr/share/code/resources/app/out/vs/workbench/api/node/extensionHostProcess.js:121:44923)\n\tat c (/usr/share/code/resources/app/extensions/ipynb/dist/ipynbMain.js:1:147680)\n\tat f (/usr/share/code/resources/app/extensions/ipynb/dist/ipynbMain.js:1:148456)\n\tat h (/usr/share/code/resources/app/extensions/ipynb/dist/ipynbMain.js:1:149195)\n\tat Array.map (<anonymous>)\n\tat /usr/share/code/resources/app/extensions/ipynb/dist/ipynbMain.js:1:150304\n\tat /usr/share/code/resources/app/extensions/ipynb/dist/ipynbMain.js:1:150621\n\tat /usr/share/code/resources/app/extensions/ipynb/dist/ipynbMain.js:1:150628\n\tat Array.map (<anonymous>)\n\tat e.$d (/usr/share/code/resources/app/extensions/ipynb/dist/ipynbMain.js:1:149880)\n\tat e.$m.deserializeNotebook (/usr/share/code/resources/app/extensions/ipynb/dist/ipynbMain.js:1:161467)\n\tat t.$dataToNotebook (/usr/share/code/resources/app/out/vs/workbench/api/node/extensionHostProcess.js:127:93269)\n\tat n.S (/usr/share/code/resources/app/out/vs/workbench/api/node/extensionHostProcess.js:134:10836)\n\tat n.Q (/usr/share/code/resources/app/out/vs/workbench/api/node/extensionHostProcess.js:134:10602)\n\tat n.M (/usr/share/code/resources/app/out/vs/workbench/api/node/extensionHostProcess.js:134:9647)\n\tat n.L (/usr/share/code/resources/app/out/vs/workbench/api/node/extensionHostProcess.js:134:8901)\n\tat h.value (/usr/share/code/resources/app/out/vs/workbench/api/node/extensionHostProcess.js:134:7565)\n\tat c.y (/usr/share/code/resources/app/out/vs/workbench/api/node/extensionHostProcess.js:80:1902)\n\tat c.fire (/usr/share/code/resources/app/out/vs/workbench/api/node/extensionHostProcess.js:80:2119)\n\tat d.fire (/usr/share/code/resources/app/out/vs/workbench/api/node/extensionHostProcess.js:96:14047)\n\tat h.value (/usr/share/code/resources/app/out/vs/workbench/api/node/extensionHostProcess.js:153:7918)\n\tat c.y (/usr/share/code/resources/app/out/vs/workbench/api/node/extensionHostProcess.js:80:1902)\n\tat c.fire (/usr/share/code/resources/app/out/vs/workbench/api/node/extensionHostProcess.js:80:2119)\n\tat d.fire (/usr/share/code/resources/app/out/vs/workbench/api/node/extensionHostProcess.js:96:14047)\n\tat MessagePortMain.<anonymous> (/usr/share/code/resources/app/out/vs/workbench/api/node/extensionHostProcess.js:153:6198)\n\tat MessagePortMain.emit (node:events:513:28)\n\tat MessagePortMain._internalPort.emit (node:electron/js2c/utility_init:2:367)"
      },
      "application/vnd.jupyter.widget-view+json": {
       "model_id": "0e8f809b-a7da-47db-aedc-585a2cf36a6a",
       "version_major": 2,
       "version_minor": 0
      }
     },
     "metadata": {},
     "output_type": "display_data"
    }
   ],
   "source": [
    "SELECT * FROM ComponentesMgL LIMIT 10;\n"
   ]
  },
  {
   "cell_type": "code",
   "execution_count": 24,
   "metadata": {
    "vscode": {
     "languageId": "sql"
    }
   },
   "outputs": [
    {
     "data": {
      "application/vnd.code.notebook.error": {
       "message": "INVALID mime type: method. Must be in the format \"type/subtype[;optionalparameter]\"",
       "name": "Error",
       "stack": "Error: INVALID mime type: method. Must be in the format \"type/subtype[;optionalparameter]\"\n\tat new Yt (/usr/share/code/resources/app/out/vs/workbench/api/node/extensionHostProcess.js:121:45111)\n\tat Yt.text (/usr/share/code/resources/app/out/vs/workbench/api/node/extensionHostProcess.js:121:44923)\n\tat c (/usr/share/code/resources/app/extensions/ipynb/dist/ipynbMain.js:1:147680)\n\tat f (/usr/share/code/resources/app/extensions/ipynb/dist/ipynbMain.js:1:148456)\n\tat h (/usr/share/code/resources/app/extensions/ipynb/dist/ipynbMain.js:1:149195)\n\tat Array.map (<anonymous>)\n\tat /usr/share/code/resources/app/extensions/ipynb/dist/ipynbMain.js:1:150304\n\tat /usr/share/code/resources/app/extensions/ipynb/dist/ipynbMain.js:1:150621\n\tat /usr/share/code/resources/app/extensions/ipynb/dist/ipynbMain.js:1:150628\n\tat Array.map (<anonymous>)\n\tat e.$d (/usr/share/code/resources/app/extensions/ipynb/dist/ipynbMain.js:1:149880)\n\tat e.$m.deserializeNotebook (/usr/share/code/resources/app/extensions/ipynb/dist/ipynbMain.js:1:161467)\n\tat t.$dataToNotebook (/usr/share/code/resources/app/out/vs/workbench/api/node/extensionHostProcess.js:127:93269)\n\tat n.S (/usr/share/code/resources/app/out/vs/workbench/api/node/extensionHostProcess.js:134:10836)\n\tat n.Q (/usr/share/code/resources/app/out/vs/workbench/api/node/extensionHostProcess.js:134:10602)\n\tat n.M (/usr/share/code/resources/app/out/vs/workbench/api/node/extensionHostProcess.js:134:9647)\n\tat n.L (/usr/share/code/resources/app/out/vs/workbench/api/node/extensionHostProcess.js:134:8901)\n\tat h.value (/usr/share/code/resources/app/out/vs/workbench/api/node/extensionHostProcess.js:134:7565)\n\tat c.y (/usr/share/code/resources/app/out/vs/workbench/api/node/extensionHostProcess.js:80:1902)\n\tat c.fire (/usr/share/code/resources/app/out/vs/workbench/api/node/extensionHostProcess.js:80:2119)\n\tat d.fire (/usr/share/code/resources/app/out/vs/workbench/api/node/extensionHostProcess.js:96:14047)\n\tat h.value (/usr/share/code/resources/app/out/vs/workbench/api/node/extensionHostProcess.js:153:7918)\n\tat c.y (/usr/share/code/resources/app/out/vs/workbench/api/node/extensionHostProcess.js:80:1902)\n\tat c.fire (/usr/share/code/resources/app/out/vs/workbench/api/node/extensionHostProcess.js:80:2119)\n\tat d.fire (/usr/share/code/resources/app/out/vs/workbench/api/node/extensionHostProcess.js:96:14047)\n\tat MessagePortMain.<anonymous> (/usr/share/code/resources/app/out/vs/workbench/api/node/extensionHostProcess.js:153:6198)\n\tat MessagePortMain.emit (node:events:513:28)\n\tat MessagePortMain._internalPort.emit (node:electron/js2c/utility_init:2:367)"
      },
      "application/vnd.jupyter.widget-view+json": {
       "model_id": "fc5fe8f0-dccc-44a6-9a3b-8aa704e71c08",
       "version_major": 2,
       "version_minor": 0
      }
     },
     "metadata": {},
     "output_type": "display_data"
    }
   ],
   "source": [
    "SELECT * FROM ComponentesUg100G LIMIT 10;\n"
   ]
  },
  {
   "cell_type": "markdown",
   "metadata": {},
   "source": [
    "Agora, é possível unir todas essas VIEWs em uma única, que contém a quantidade em miligramas de cada componente para cada ingrediente de cada receita:"
   ]
  },
  {
   "cell_type": "code",
   "execution_count": 25,
   "metadata": {
    "vscode": {
     "languageId": "sql"
    }
   },
   "outputs": [],
   "source": [
    "DROP VIEW IF EXISTS ComponentesDosIngredientesDasReceitas;\n",
    "\n",
    "CREATE VIEW ComponentesDosIngredientesDasReceitas AS\n",
    "    SELECT * FROM ComponentesUgG\n",
    "    UNION\n",
    "    SELECT * FROM ComponentesUgKg\n",
    "    UNION\n",
    "    SELECT * FROM ComponentesUgL\n",
    "    UNION\n",
    "    SELECT * FROM ComponentesMg100G\n",
    "    UNION\n",
    "    SELECT * FROM ComponentesGKg\n",
    "    UNION\n",
    "    SELECT * FROM ComponentesMgKg\n",
    "    UNION\n",
    "    SELECT * FROM ComponentesMgL\n",
    "    UNION\n",
    "    SELECT * FROM ComponentesUg100G;\n"
   ]
  },
  {
   "cell_type": "markdown",
   "metadata": {},
   "source": [
    "Visualizando:"
   ]
  },
  {
   "cell_type": "code",
   "execution_count": 26,
   "metadata": {
    "vscode": {
     "languageId": "sql"
    }
   },
   "outputs": [
    {
     "data": {
      "application/vnd.code.notebook.error": {
       "message": "INVALID mime type: method. Must be in the format \"type/subtype[;optionalparameter]\"",
       "name": "Error",
       "stack": "Error: INVALID mime type: method. Must be in the format \"type/subtype[;optionalparameter]\"\n\tat new Yt (/usr/share/code/resources/app/out/vs/workbench/api/node/extensionHostProcess.js:121:45111)\n\tat Yt.text (/usr/share/code/resources/app/out/vs/workbench/api/node/extensionHostProcess.js:121:44923)\n\tat c (/usr/share/code/resources/app/extensions/ipynb/dist/ipynbMain.js:1:147680)\n\tat f (/usr/share/code/resources/app/extensions/ipynb/dist/ipynbMain.js:1:148456)\n\tat h (/usr/share/code/resources/app/extensions/ipynb/dist/ipynbMain.js:1:149195)\n\tat Array.map (<anonymous>)\n\tat /usr/share/code/resources/app/extensions/ipynb/dist/ipynbMain.js:1:150304\n\tat /usr/share/code/resources/app/extensions/ipynb/dist/ipynbMain.js:1:150621\n\tat /usr/share/code/resources/app/extensions/ipynb/dist/ipynbMain.js:1:150628\n\tat Array.map (<anonymous>)\n\tat e.$d (/usr/share/code/resources/app/extensions/ipynb/dist/ipynbMain.js:1:149880)\n\tat e.$m.deserializeNotebook (/usr/share/code/resources/app/extensions/ipynb/dist/ipynbMain.js:1:161467)\n\tat t.$dataToNotebook (/usr/share/code/resources/app/out/vs/workbench/api/node/extensionHostProcess.js:127:93269)\n\tat n.S (/usr/share/code/resources/app/out/vs/workbench/api/node/extensionHostProcess.js:134:10836)\n\tat n.Q (/usr/share/code/resources/app/out/vs/workbench/api/node/extensionHostProcess.js:134:10602)\n\tat n.M (/usr/share/code/resources/app/out/vs/workbench/api/node/extensionHostProcess.js:134:9647)\n\tat n.L (/usr/share/code/resources/app/out/vs/workbench/api/node/extensionHostProcess.js:134:8901)\n\tat h.value (/usr/share/code/resources/app/out/vs/workbench/api/node/extensionHostProcess.js:134:7565)\n\tat c.y (/usr/share/code/resources/app/out/vs/workbench/api/node/extensionHostProcess.js:80:1902)\n\tat c.fire (/usr/share/code/resources/app/out/vs/workbench/api/node/extensionHostProcess.js:80:2119)\n\tat d.fire (/usr/share/code/resources/app/out/vs/workbench/api/node/extensionHostProcess.js:96:14047)\n\tat h.value (/usr/share/code/resources/app/out/vs/workbench/api/node/extensionHostProcess.js:153:7918)\n\tat c.y (/usr/share/code/resources/app/out/vs/workbench/api/node/extensionHostProcess.js:80:1902)\n\tat c.fire (/usr/share/code/resources/app/out/vs/workbench/api/node/extensionHostProcess.js:80:2119)\n\tat d.fire (/usr/share/code/resources/app/out/vs/workbench/api/node/extensionHostProcess.js:96:14047)\n\tat MessagePortMain.<anonymous> (/usr/share/code/resources/app/out/vs/workbench/api/node/extensionHostProcess.js:153:6198)\n\tat MessagePortMain.emit (node:events:513:28)\n\tat MessagePortMain._internalPort.emit (node:electron/js2c/utility_init:2:367)"
      },
      "application/vnd.jupyter.widget-view+json": {
       "model_id": "a51ef2be-1ae7-4f18-a46d-c8430a6df63a",
       "version_major": 2,
       "version_minor": 0
      }
     },
     "metadata": {},
     "output_type": "display_data"
    }
   ],
   "source": [
    "SELECT * FROM ComponentesDosIngredientesDasReceitas LIMIT 10;\n"
   ]
  },
  {
   "cell_type": "markdown",
   "metadata": {},
   "source": [
    "Exportando esses dados:"
   ]
  },
  {
   "cell_type": "code",
   "execution_count": 27,
   "metadata": {
    "vscode": {
     "languageId": "sql"
    }
   },
   "outputs": [],
   "source": [
    "-- Operação custosa\n",
    "-- CALL CSVWRITE('../data/processed/componentesingredientesreceitas.csv',\n",
    "-- 'SELECT * FROM ComponentesDosIngredientesDasReceitas');\n"
   ]
  },
  {
   "cell_type": "markdown",
   "metadata": {},
   "source": [
    "### 1) Quais os componentes químicos mais presentes nas receitas em cada região do mundo?\n",
    "\n",
    "##### Analisando as receitas das regiões do mundo, buscamos descobrir quais componentes químicos são prevalecentes na culinária da região.\n",
    "\n",
    "Para essa análise, primeiramente criaremos uma VIEW com tuplas (País/RegiãoDoMundo, Componente, QtdEmGramas), considerando todas as receitas que existem naquela região. A partir da VIEW criada ComponentesDosIngredientesDasReceitas, é possível agrupar pela chave primária dos componentes e pela região, para termos exatamente as tuplas que queremos."
   ]
  },
  {
   "cell_type": "code",
   "execution_count": 28,
   "metadata": {
    "vscode": {
     "languageId": "sql"
    }
   },
   "outputs": [],
   "source": [
    "DROP VIEW IF EXISTS QtdComponentesPorRegiao;\n",
    "\n",
    "CREATE VIEW QtdComponentesPorRegiao AS\n",
    "    SELECT RE.Origem, C.Nome, SUM(CO.quantidadeMg) Qtd\n",
    "    FROM Receita RE\n",
    "    JOIN ComponentesDosIngredientesDasReceitas CO\n",
    "        ON RE.Id = CO.IdReceita AND RE.BancoOriginal = CO.Banco\n",
    "    JOIN Componente C\n",
    "        ON C.Id = CO.IdComponente AND C.Tipo = CO.Tipo\n",
    "    JOIN Origem O\n",
    "        ON O.Nome = RE.Origem\n",
    "    WHERE O.Tipo = 'Regiao' AND C.Tipo = 'Compound'\n",
    "    GROUP BY RE.Origem, C.Nome;\n"
   ]
  },
  {
   "cell_type": "markdown",
   "metadata": {},
   "source": [
    "Visualizando:"
   ]
  },
  {
   "cell_type": "code",
   "execution_count": 29,
   "metadata": {
    "vscode": {
     "languageId": "sql"
    }
   },
   "outputs": [
    {
     "data": {
      "application/vnd.code.notebook.error": {
       "message": "INVALID mime type: method. Must be in the format \"type/subtype[;optionalparameter]\"",
       "name": "Error",
       "stack": "Error: INVALID mime type: method. Must be in the format \"type/subtype[;optionalparameter]\"\n\tat new Yt (/usr/share/code/resources/app/out/vs/workbench/api/node/extensionHostProcess.js:121:45111)\n\tat Yt.text (/usr/share/code/resources/app/out/vs/workbench/api/node/extensionHostProcess.js:121:44923)\n\tat c (/usr/share/code/resources/app/extensions/ipynb/dist/ipynbMain.js:1:147680)\n\tat f (/usr/share/code/resources/app/extensions/ipynb/dist/ipynbMain.js:1:148456)\n\tat h (/usr/share/code/resources/app/extensions/ipynb/dist/ipynbMain.js:1:149195)\n\tat Array.map (<anonymous>)\n\tat /usr/share/code/resources/app/extensions/ipynb/dist/ipynbMain.js:1:150304\n\tat /usr/share/code/resources/app/extensions/ipynb/dist/ipynbMain.js:1:150621\n\tat /usr/share/code/resources/app/extensions/ipynb/dist/ipynbMain.js:1:150628\n\tat Array.map (<anonymous>)\n\tat e.$d (/usr/share/code/resources/app/extensions/ipynb/dist/ipynbMain.js:1:149880)\n\tat e.$m.deserializeNotebook (/usr/share/code/resources/app/extensions/ipynb/dist/ipynbMain.js:1:161467)\n\tat t.$dataToNotebook (/usr/share/code/resources/app/out/vs/workbench/api/node/extensionHostProcess.js:127:93269)\n\tat n.S (/usr/share/code/resources/app/out/vs/workbench/api/node/extensionHostProcess.js:134:10836)\n\tat n.Q (/usr/share/code/resources/app/out/vs/workbench/api/node/extensionHostProcess.js:134:10602)\n\tat n.M (/usr/share/code/resources/app/out/vs/workbench/api/node/extensionHostProcess.js:134:9647)\n\tat n.L (/usr/share/code/resources/app/out/vs/workbench/api/node/extensionHostProcess.js:134:8901)\n\tat h.value (/usr/share/code/resources/app/out/vs/workbench/api/node/extensionHostProcess.js:134:7565)\n\tat c.y (/usr/share/code/resources/app/out/vs/workbench/api/node/extensionHostProcess.js:80:1902)\n\tat c.fire (/usr/share/code/resources/app/out/vs/workbench/api/node/extensionHostProcess.js:80:2119)\n\tat d.fire (/usr/share/code/resources/app/out/vs/workbench/api/node/extensionHostProcess.js:96:14047)\n\tat h.value (/usr/share/code/resources/app/out/vs/workbench/api/node/extensionHostProcess.js:153:7918)\n\tat c.y (/usr/share/code/resources/app/out/vs/workbench/api/node/extensionHostProcess.js:80:1902)\n\tat c.fire (/usr/share/code/resources/app/out/vs/workbench/api/node/extensionHostProcess.js:80:2119)\n\tat d.fire (/usr/share/code/resources/app/out/vs/workbench/api/node/extensionHostProcess.js:96:14047)\n\tat MessagePortMain.<anonymous> (/usr/share/code/resources/app/out/vs/workbench/api/node/extensionHostProcess.js:153:6198)\n\tat MessagePortMain.emit (node:events:513:28)\n\tat MessagePortMain._internalPort.emit (node:electron/js2c/utility_init:2:367)"
      },
      "application/vnd.jupyter.widget-view+json": {
       "model_id": "b96373dc-6bbd-4e05-ba30-10b89e57b08f",
       "version_major": 2,
       "version_minor": 0
      }
     },
     "metadata": {},
     "output_type": "display_data"
    }
   ],
   "source": [
    "SELECT * FROM QtdComponentesPorRegiao ORDER BY Origem LIMIT 10;\n"
   ]
  },
  {
   "cell_type": "markdown",
   "metadata": {},
   "source": [
    "Agora, para cada região do mundo, podemos visualizar, por exemplo, os 5 componentes químicos mais presentes em receitas daquela região."
   ]
  },
  {
   "cell_type": "code",
   "execution_count": 71,
   "metadata": {
    "vscode": {
     "languageId": "sql"
    }
   },
   "outputs": [
    {
     "data": {
      "application/vnd.code.notebook.error": {
       "message": "INVALID mime type: method. Must be in the format \"type/subtype[;optionalparameter]\"",
       "name": "Error",
       "stack": "Error: INVALID mime type: method. Must be in the format \"type/subtype[;optionalparameter]\"\n\tat new Yt (/usr/share/code/resources/app/out/vs/workbench/api/node/extensionHostProcess.js:121:45111)\n\tat Yt.text (/usr/share/code/resources/app/out/vs/workbench/api/node/extensionHostProcess.js:121:44923)\n\tat c (/usr/share/code/resources/app/extensions/ipynb/dist/ipynbMain.js:1:147680)\n\tat f (/usr/share/code/resources/app/extensions/ipynb/dist/ipynbMain.js:1:148456)\n\tat h (/usr/share/code/resources/app/extensions/ipynb/dist/ipynbMain.js:1:149195)\n\tat Array.map (<anonymous>)\n\tat /usr/share/code/resources/app/extensions/ipynb/dist/ipynbMain.js:1:150304\n\tat /usr/share/code/resources/app/extensions/ipynb/dist/ipynbMain.js:1:150621\n\tat /usr/share/code/resources/app/extensions/ipynb/dist/ipynbMain.js:1:150628\n\tat Array.map (<anonymous>)\n\tat e.$d (/usr/share/code/resources/app/extensions/ipynb/dist/ipynbMain.js:1:149880)\n\tat e.$m.deserializeNotebook (/usr/share/code/resources/app/extensions/ipynb/dist/ipynbMain.js:1:161467)\n\tat t.$dataToNotebook (/usr/share/code/resources/app/out/vs/workbench/api/node/extensionHostProcess.js:127:93269)\n\tat n.S (/usr/share/code/resources/app/out/vs/workbench/api/node/extensionHostProcess.js:134:10836)\n\tat n.Q (/usr/share/code/resources/app/out/vs/workbench/api/node/extensionHostProcess.js:134:10602)\n\tat n.M (/usr/share/code/resources/app/out/vs/workbench/api/node/extensionHostProcess.js:134:9647)\n\tat n.L (/usr/share/code/resources/app/out/vs/workbench/api/node/extensionHostProcess.js:134:8901)\n\tat h.value (/usr/share/code/resources/app/out/vs/workbench/api/node/extensionHostProcess.js:134:7565)\n\tat c.y (/usr/share/code/resources/app/out/vs/workbench/api/node/extensionHostProcess.js:80:1902)\n\tat c.fire (/usr/share/code/resources/app/out/vs/workbench/api/node/extensionHostProcess.js:80:2119)\n\tat d.fire (/usr/share/code/resources/app/out/vs/workbench/api/node/extensionHostProcess.js:96:14047)\n\tat h.value (/usr/share/code/resources/app/out/vs/workbench/api/node/extensionHostProcess.js:153:7918)\n\tat c.y (/usr/share/code/resources/app/out/vs/workbench/api/node/extensionHostProcess.js:80:1902)\n\tat c.fire (/usr/share/code/resources/app/out/vs/workbench/api/node/extensionHostProcess.js:80:2119)\n\tat d.fire (/usr/share/code/resources/app/out/vs/workbench/api/node/extensionHostProcess.js:96:14047)\n\tat MessagePortMain.<anonymous> (/usr/share/code/resources/app/out/vs/workbench/api/node/extensionHostProcess.js:153:6198)\n\tat MessagePortMain.emit (node:events:513:28)\n\tat MessagePortMain._internalPort.emit (node:electron/js2c/utility_init:2:367)"
      },
      "application/vnd.jupyter.widget-view+json": {
       "model_id": "4933e5fe-dd55-4eb0-b0df-b8d1c5a604aa",
       "version_major": 2,
       "version_minor": 0
      }
     },
     "metadata": {},
     "output_type": "display_data"
    }
   ],
   "source": [
    "SELECT Nome, Qtd\n",
    "FROM QtdComponentesPorRegiao\n",
    "WHERE Origem = 'Korea'\n",
    "ORDER BY Qtd DESC\n",
    "LIMIT 10;\n"
   ]
  },
  {
   "cell_type": "markdown",
   "metadata": {},
   "source": [
    "É possível também criar uma VIEW com o componente mais usado para cada região. Quando a região de uma receita é NULL, isso significa que a origem dela é desconhecida."
   ]
  },
  {
   "cell_type": "code",
   "execution_count": 31,
   "metadata": {
    "vscode": {
     "languageId": "sql"
    }
   },
   "outputs": [],
   "source": [
    "DROP VIEW IF EXISTS MaiorUsoPorRegiao;\n",
    "\n",
    "CREATE VIEW MaiorUsoPorRegiao AS\n",
    "  SELECT Q1.Origem, Q1.Nome\n",
    "  FROM QtdComponentesPorRegiao Q1,\n",
    "       (SELECT Origem, MAX(Qtd) Qtd\n",
    "        FROM QtdComponentesPorRegiao\n",
    "        GROUP BY Origem) Q2\n",
    "  WHERE Q1.Origem = Q2.Origem AND Q1.Qtd = Q2.Qtd;\n"
   ]
  },
  {
   "cell_type": "markdown",
   "metadata": {},
   "source": [
    "Visualizando:"
   ]
  },
  {
   "cell_type": "code",
   "execution_count": 32,
   "metadata": {
    "vscode": {
     "languageId": "sql"
    }
   },
   "outputs": [],
   "source": [
    "-- SELECT * FROM MaiorUsoPorRegiao LIMIT 10;\n"
   ]
  },
  {
   "cell_type": "markdown",
   "metadata": {},
   "source": [
    "### 2) Quais são as regiões do mundo que utilizam mais de um certo ingrediente?\n",
    "\n",
    "##### Dado um ingrediente específico, buscamos analisar que região utiliza esse ingrediente com mais frequência\n",
    "\n",
    "Analisaremos a frequência do dado ingrediente para todas as receitas de determinada região do mundo. Realizaremos um SELECT para obtermos uma tabela com tuplas na forma (RegiaoDoMundo, Freq), em que Freq é a frequência com que o ingrediente aparece nas receitas dessa região, e ordenaremos as tuplas.\n",
    "\n",
    "* Realizamos um JOIN para alinharmos corretamente as tuplas das tabelas e para selecionarmos o ingrediente específico\n",
    "* Agrupamos as tuplas por Região do Mundo e ordenamos os resultados"
   ]
  },
  {
   "cell_type": "code",
   "execution_count": 33,
   "metadata": {
    "vscode": {
     "languageId": "sql"
    }
   },
   "outputs": [],
   "source": [
    "DROP VIEW IF EXISTS MaiorUsoAlhoRegioes;\n",
    "\n",
    "CREATE VIEW MaiorUsoAlhoRegioes AS\n",
    "    SELECT RE.Origem, IR.Ingrediente, COUNT(*) Freq\n",
    "    FROM Receita RE\n",
    "    JOIN IngredientesDasReceitas IR\n",
    "       ON RE.Id = IR.IdReceita AND Re.BancoOriginal = IR.Banco\n",
    "    JOIN Origem O\n",
    "       ON O.Nome = RE.Origem\n",
    "    WHERE IR.Ingrediente = 'Garlic' AND O.Tipo = 'Regiao'\n",
    "    GROUP BY RE.Origem\n",
    "    ORDER BY Freq DESC;\n"
   ]
  },
  {
   "cell_type": "markdown",
   "metadata": {},
   "source": [
    "Visualizando:"
   ]
  },
  {
   "cell_type": "code",
   "execution_count": 34,
   "metadata": {
    "vscode": {
     "languageId": "sql"
    }
   },
   "outputs": [
    {
     "data": {
      "application/vnd.code.notebook.error": {
       "message": "INVALID mime type: method. Must be in the format \"type/subtype[;optionalparameter]\"",
       "name": "Error",
       "stack": "Error: INVALID mime type: method. Must be in the format \"type/subtype[;optionalparameter]\"\n\tat new Yt (/usr/share/code/resources/app/out/vs/workbench/api/node/extensionHostProcess.js:121:45111)\n\tat Yt.text (/usr/share/code/resources/app/out/vs/workbench/api/node/extensionHostProcess.js:121:44923)\n\tat c (/usr/share/code/resources/app/extensions/ipynb/dist/ipynbMain.js:1:147680)\n\tat f (/usr/share/code/resources/app/extensions/ipynb/dist/ipynbMain.js:1:148456)\n\tat h (/usr/share/code/resources/app/extensions/ipynb/dist/ipynbMain.js:1:149195)\n\tat Array.map (<anonymous>)\n\tat /usr/share/code/resources/app/extensions/ipynb/dist/ipynbMain.js:1:150304\n\tat /usr/share/code/resources/app/extensions/ipynb/dist/ipynbMain.js:1:150621\n\tat /usr/share/code/resources/app/extensions/ipynb/dist/ipynbMain.js:1:150628\n\tat Array.map (<anonymous>)\n\tat e.$d (/usr/share/code/resources/app/extensions/ipynb/dist/ipynbMain.js:1:149880)\n\tat e.$m.deserializeNotebook (/usr/share/code/resources/app/extensions/ipynb/dist/ipynbMain.js:1:161467)\n\tat t.$dataToNotebook (/usr/share/code/resources/app/out/vs/workbench/api/node/extensionHostProcess.js:127:93269)\n\tat n.S (/usr/share/code/resources/app/out/vs/workbench/api/node/extensionHostProcess.js:134:10836)\n\tat n.Q (/usr/share/code/resources/app/out/vs/workbench/api/node/extensionHostProcess.js:134:10602)\n\tat n.M (/usr/share/code/resources/app/out/vs/workbench/api/node/extensionHostProcess.js:134:9647)\n\tat n.L (/usr/share/code/resources/app/out/vs/workbench/api/node/extensionHostProcess.js:134:8901)\n\tat h.value (/usr/share/code/resources/app/out/vs/workbench/api/node/extensionHostProcess.js:134:7565)\n\tat c.y (/usr/share/code/resources/app/out/vs/workbench/api/node/extensionHostProcess.js:80:1902)\n\tat c.fire (/usr/share/code/resources/app/out/vs/workbench/api/node/extensionHostProcess.js:80:2119)\n\tat d.fire (/usr/share/code/resources/app/out/vs/workbench/api/node/extensionHostProcess.js:96:14047)\n\tat h.value (/usr/share/code/resources/app/out/vs/workbench/api/node/extensionHostProcess.js:153:7918)\n\tat c.y (/usr/share/code/resources/app/out/vs/workbench/api/node/extensionHostProcess.js:80:1902)\n\tat c.fire (/usr/share/code/resources/app/out/vs/workbench/api/node/extensionHostProcess.js:80:2119)\n\tat d.fire (/usr/share/code/resources/app/out/vs/workbench/api/node/extensionHostProcess.js:96:14047)\n\tat MessagePortMain.<anonymous> (/usr/share/code/resources/app/out/vs/workbench/api/node/extensionHostProcess.js:153:6198)\n\tat MessagePortMain.emit (node:events:513:28)\n\tat MessagePortMain._internalPort.emit (node:electron/js2c/utility_init:2:367)"
      },
      "application/vnd.jupyter.widget-view+json": {
       "model_id": "06363ba0-dae6-497f-91f8-b2ca75c44494",
       "version_major": 2,
       "version_minor": 0
      }
     },
     "metadata": {},
     "output_type": "display_data"
    }
   ],
   "source": [
    "SELECT * FROM MaiorUsoAlhoRegioes LIMIT 10;\n"
   ]
  },
  {
   "cell_type": "markdown",
   "metadata": {},
   "source": [
    "### 3) A partir de uma necessidade alimentar de componentes químicos, quais são os pratos que têm ingredientes com as maiores quantidades de todos eles?\n",
    "\n",
    "##### Dado componentes químicos específicos, buscamos descobrir quais receitas suprem melhor uma necessidade alimentar desse componente.\n",
    "\n",
    "Analisaremos a quantidade de cada componente para cada receita. Depois, verificaremos quais receitas suprem as quantidades dos seguintes componentes:\n",
    "\n",
    "* Menos de 2000 mg de Sodium\n",
    "* De 0.01 mg a 0.03 mg de Vitamin D"
   ]
  },
  {
   "cell_type": "code",
   "execution_count": 35,
   "metadata": {
    "vscode": {
     "languageId": "sql"
    }
   },
   "outputs": [],
   "source": [
    "DROP VIEW IF EXISTS ComponentesDasReceitas;\n",
    "\n",
    "CREATE VIEW ComponentesDasReceitas AS\n",
    "    SELECT CIR.IDReceita, CIR.Banco, CIR.IdComponente, CIR.Tipo, SUM(CIR.QuantidadeMg) Quantidade\n",
    "    FROM ComponentesDosIngredientesDasReceitas CIR\n",
    "    GROUP BY CIR.IDReceita, CIR.Banco, CIR.IdComponente, CIR.Tipo;\n"
   ]
  },
  {
   "cell_type": "markdown",
   "metadata": {},
   "source": [
    "Visualizando:"
   ]
  },
  {
   "cell_type": "code",
   "execution_count": 36,
   "metadata": {
    "vscode": {
     "languageId": "sql"
    }
   },
   "outputs": [
    {
     "data": {
      "application/vnd.code.notebook.error": {
       "message": "INVALID mime type: method. Must be in the format \"type/subtype[;optionalparameter]\"",
       "name": "Error",
       "stack": "Error: INVALID mime type: method. Must be in the format \"type/subtype[;optionalparameter]\"\n\tat new Yt (/usr/share/code/resources/app/out/vs/workbench/api/node/extensionHostProcess.js:121:45111)\n\tat Yt.text (/usr/share/code/resources/app/out/vs/workbench/api/node/extensionHostProcess.js:121:44923)\n\tat c (/usr/share/code/resources/app/extensions/ipynb/dist/ipynbMain.js:1:147680)\n\tat f (/usr/share/code/resources/app/extensions/ipynb/dist/ipynbMain.js:1:148456)\n\tat h (/usr/share/code/resources/app/extensions/ipynb/dist/ipynbMain.js:1:149195)\n\tat Array.map (<anonymous>)\n\tat /usr/share/code/resources/app/extensions/ipynb/dist/ipynbMain.js:1:150304\n\tat /usr/share/code/resources/app/extensions/ipynb/dist/ipynbMain.js:1:150621\n\tat /usr/share/code/resources/app/extensions/ipynb/dist/ipynbMain.js:1:150628\n\tat Array.map (<anonymous>)\n\tat e.$d (/usr/share/code/resources/app/extensions/ipynb/dist/ipynbMain.js:1:149880)\n\tat e.$m.deserializeNotebook (/usr/share/code/resources/app/extensions/ipynb/dist/ipynbMain.js:1:161467)\n\tat t.$dataToNotebook (/usr/share/code/resources/app/out/vs/workbench/api/node/extensionHostProcess.js:127:93269)\n\tat n.S (/usr/share/code/resources/app/out/vs/workbench/api/node/extensionHostProcess.js:134:10836)\n\tat n.Q (/usr/share/code/resources/app/out/vs/workbench/api/node/extensionHostProcess.js:134:10602)\n\tat n.M (/usr/share/code/resources/app/out/vs/workbench/api/node/extensionHostProcess.js:134:9647)\n\tat n.L (/usr/share/code/resources/app/out/vs/workbench/api/node/extensionHostProcess.js:134:8901)\n\tat h.value (/usr/share/code/resources/app/out/vs/workbench/api/node/extensionHostProcess.js:134:7565)\n\tat c.y (/usr/share/code/resources/app/out/vs/workbench/api/node/extensionHostProcess.js:80:1902)\n\tat c.fire (/usr/share/code/resources/app/out/vs/workbench/api/node/extensionHostProcess.js:80:2119)\n\tat d.fire (/usr/share/code/resources/app/out/vs/workbench/api/node/extensionHostProcess.js:96:14047)\n\tat h.value (/usr/share/code/resources/app/out/vs/workbench/api/node/extensionHostProcess.js:153:7918)\n\tat c.y (/usr/share/code/resources/app/out/vs/workbench/api/node/extensionHostProcess.js:80:1902)\n\tat c.fire (/usr/share/code/resources/app/out/vs/workbench/api/node/extensionHostProcess.js:80:2119)\n\tat d.fire (/usr/share/code/resources/app/out/vs/workbench/api/node/extensionHostProcess.js:96:14047)\n\tat MessagePortMain.<anonymous> (/usr/share/code/resources/app/out/vs/workbench/api/node/extensionHostProcess.js:153:6198)\n\tat MessagePortMain.emit (node:events:513:28)\n\tat MessagePortMain._internalPort.emit (node:electron/js2c/utility_init:2:367)"
      },
      "application/vnd.jupyter.widget-view+json": {
       "model_id": "54dcfa25-ca6e-4252-8b4b-4857c6794410",
       "version_major": 2,
       "version_minor": 0
      }
     },
     "metadata": {},
     "output_type": "display_data"
    }
   ],
   "source": [
    "SELECT * FROM ComponentesDasReceitas LIMIT 10;\n"
   ]
  },
  {
   "cell_type": "markdown",
   "metadata": {},
   "source": [
    "Criando VIEWS para representar as receitas com quantidades desejadas dos componentes:"
   ]
  },
  {
   "cell_type": "code",
   "execution_count": 37,
   "metadata": {
    "vscode": {
     "languageId": "sql"
    }
   },
   "outputs": [],
   "source": [
    "DROP VIEW IF EXISTS ReceitaSodio;\n",
    "DROP VIEW IF EXISTS ReceitaVitaminaD;\n",
    "\n",
    "CREATE VIEW ReceitaSodio AS\n",
    "    SELECT CR.IdReceita, CR.Banco\n",
    "    FROM ComponentesDasReceitas CR, Componente C\n",
    "    WHERE CR.IdComponente = C.Id AND CR.Tipo = C.Tipo\n",
    "        AND C.Nome = 'Sodium' AND CR.Quantidade < 2000;\n",
    "\n",
    "CREATE VIEW ReceitaVitaminaD AS\n",
    "    SELECT CR.IdReceita, CR.Banco\n",
    "    FROM ComponentesDasReceitas CR, Componente C\n",
    "    WHERE CR.IdComponente = C.Id AND CR.Tipo = C.Tipo\n",
    "        AND C.Nome = 'Vitamin D' AND CR.Quantidade > 0.01 AND CR.Quantidade < 0.03;\n"
   ]
  },
  {
   "cell_type": "markdown",
   "metadata": {},
   "source": [
    "Visualizando:"
   ]
  },
  {
   "cell_type": "code",
   "execution_count": 38,
   "metadata": {
    "vscode": {
     "languageId": "sql"
    }
   },
   "outputs": [
    {
     "data": {
      "application/vnd.code.notebook.error": {
       "message": "INVALID mime type: method. Must be in the format \"type/subtype[;optionalparameter]\"",
       "name": "Error",
       "stack": "Error: INVALID mime type: method. Must be in the format \"type/subtype[;optionalparameter]\"\n\tat new Yt (/usr/share/code/resources/app/out/vs/workbench/api/node/extensionHostProcess.js:121:45111)\n\tat Yt.text (/usr/share/code/resources/app/out/vs/workbench/api/node/extensionHostProcess.js:121:44923)\n\tat c (/usr/share/code/resources/app/extensions/ipynb/dist/ipynbMain.js:1:147680)\n\tat f (/usr/share/code/resources/app/extensions/ipynb/dist/ipynbMain.js:1:148456)\n\tat h (/usr/share/code/resources/app/extensions/ipynb/dist/ipynbMain.js:1:149195)\n\tat Array.map (<anonymous>)\n\tat /usr/share/code/resources/app/extensions/ipynb/dist/ipynbMain.js:1:150304\n\tat /usr/share/code/resources/app/extensions/ipynb/dist/ipynbMain.js:1:150621\n\tat /usr/share/code/resources/app/extensions/ipynb/dist/ipynbMain.js:1:150628\n\tat Array.map (<anonymous>)\n\tat e.$d (/usr/share/code/resources/app/extensions/ipynb/dist/ipynbMain.js:1:149880)\n\tat e.$m.deserializeNotebook (/usr/share/code/resources/app/extensions/ipynb/dist/ipynbMain.js:1:161467)\n\tat t.$dataToNotebook (/usr/share/code/resources/app/out/vs/workbench/api/node/extensionHostProcess.js:127:93269)\n\tat n.S (/usr/share/code/resources/app/out/vs/workbench/api/node/extensionHostProcess.js:134:10836)\n\tat n.Q (/usr/share/code/resources/app/out/vs/workbench/api/node/extensionHostProcess.js:134:10602)\n\tat n.M (/usr/share/code/resources/app/out/vs/workbench/api/node/extensionHostProcess.js:134:9647)\n\tat n.L (/usr/share/code/resources/app/out/vs/workbench/api/node/extensionHostProcess.js:134:8901)\n\tat h.value (/usr/share/code/resources/app/out/vs/workbench/api/node/extensionHostProcess.js:134:7565)\n\tat c.y (/usr/share/code/resources/app/out/vs/workbench/api/node/extensionHostProcess.js:80:1902)\n\tat c.fire (/usr/share/code/resources/app/out/vs/workbench/api/node/extensionHostProcess.js:80:2119)\n\tat d.fire (/usr/share/code/resources/app/out/vs/workbench/api/node/extensionHostProcess.js:96:14047)\n\tat h.value (/usr/share/code/resources/app/out/vs/workbench/api/node/extensionHostProcess.js:153:7918)\n\tat c.y (/usr/share/code/resources/app/out/vs/workbench/api/node/extensionHostProcess.js:80:1902)\n\tat c.fire (/usr/share/code/resources/app/out/vs/workbench/api/node/extensionHostProcess.js:80:2119)\n\tat d.fire (/usr/share/code/resources/app/out/vs/workbench/api/node/extensionHostProcess.js:96:14047)\n\tat MessagePortMain.<anonymous> (/usr/share/code/resources/app/out/vs/workbench/api/node/extensionHostProcess.js:153:6198)\n\tat MessagePortMain.emit (node:events:513:28)\n\tat MessagePortMain._internalPort.emit (node:electron/js2c/utility_init:2:367)"
      },
      "application/vnd.jupyter.widget-view+json": {
       "model_id": "044420c1-5b0f-43b9-a09e-25fd75666465",
       "version_major": 2,
       "version_minor": 0
      }
     },
     "metadata": {},
     "output_type": "display_data"
    }
   ],
   "source": [
    "SELECT * FROM ReceitaSodio LIMIT 10;\n"
   ]
  },
  {
   "cell_type": "code",
   "execution_count": 39,
   "metadata": {
    "vscode": {
     "languageId": "sql"
    }
   },
   "outputs": [
    {
     "data": {
      "application/vnd.code.notebook.error": {
       "message": "INVALID mime type: method. Must be in the format \"type/subtype[;optionalparameter]\"",
       "name": "Error",
       "stack": "Error: INVALID mime type: method. Must be in the format \"type/subtype[;optionalparameter]\"\n\tat new Yt (/usr/share/code/resources/app/out/vs/workbench/api/node/extensionHostProcess.js:121:45111)\n\tat Yt.text (/usr/share/code/resources/app/out/vs/workbench/api/node/extensionHostProcess.js:121:44923)\n\tat c (/usr/share/code/resources/app/extensions/ipynb/dist/ipynbMain.js:1:147680)\n\tat f (/usr/share/code/resources/app/extensions/ipynb/dist/ipynbMain.js:1:148456)\n\tat h (/usr/share/code/resources/app/extensions/ipynb/dist/ipynbMain.js:1:149195)\n\tat Array.map (<anonymous>)\n\tat /usr/share/code/resources/app/extensions/ipynb/dist/ipynbMain.js:1:150304\n\tat /usr/share/code/resources/app/extensions/ipynb/dist/ipynbMain.js:1:150621\n\tat /usr/share/code/resources/app/extensions/ipynb/dist/ipynbMain.js:1:150628\n\tat Array.map (<anonymous>)\n\tat e.$d (/usr/share/code/resources/app/extensions/ipynb/dist/ipynbMain.js:1:149880)\n\tat e.$m.deserializeNotebook (/usr/share/code/resources/app/extensions/ipynb/dist/ipynbMain.js:1:161467)\n\tat t.$dataToNotebook (/usr/share/code/resources/app/out/vs/workbench/api/node/extensionHostProcess.js:127:93269)\n\tat n.S (/usr/share/code/resources/app/out/vs/workbench/api/node/extensionHostProcess.js:134:10836)\n\tat n.Q (/usr/share/code/resources/app/out/vs/workbench/api/node/extensionHostProcess.js:134:10602)\n\tat n.M (/usr/share/code/resources/app/out/vs/workbench/api/node/extensionHostProcess.js:134:9647)\n\tat n.L (/usr/share/code/resources/app/out/vs/workbench/api/node/extensionHostProcess.js:134:8901)\n\tat h.value (/usr/share/code/resources/app/out/vs/workbench/api/node/extensionHostProcess.js:134:7565)\n\tat c.y (/usr/share/code/resources/app/out/vs/workbench/api/node/extensionHostProcess.js:80:1902)\n\tat c.fire (/usr/share/code/resources/app/out/vs/workbench/api/node/extensionHostProcess.js:80:2119)\n\tat d.fire (/usr/share/code/resources/app/out/vs/workbench/api/node/extensionHostProcess.js:96:14047)\n\tat h.value (/usr/share/code/resources/app/out/vs/workbench/api/node/extensionHostProcess.js:153:7918)\n\tat c.y (/usr/share/code/resources/app/out/vs/workbench/api/node/extensionHostProcess.js:80:1902)\n\tat c.fire (/usr/share/code/resources/app/out/vs/workbench/api/node/extensionHostProcess.js:80:2119)\n\tat d.fire (/usr/share/code/resources/app/out/vs/workbench/api/node/extensionHostProcess.js:96:14047)\n\tat MessagePortMain.<anonymous> (/usr/share/code/resources/app/out/vs/workbench/api/node/extensionHostProcess.js:153:6198)\n\tat MessagePortMain.emit (node:events:513:28)\n\tat MessagePortMain._internalPort.emit (node:electron/js2c/utility_init:2:367)"
      },
      "application/vnd.jupyter.widget-view+json": {
       "model_id": "921babb2-c144-451d-af12-b8ccd40e8475",
       "version_major": 2,
       "version_minor": 0
      }
     },
     "metadata": {},
     "output_type": "display_data"
    }
   ],
   "source": [
    "SELECT * FROM ReceitaVitaminaD LIMIT 10;\n"
   ]
  },
  {
   "cell_type": "markdown",
   "metadata": {},
   "source": [
    "Encontrando as receitas que respeitam as categorias:"
   ]
  },
  {
   "cell_type": "code",
   "execution_count": 40,
   "metadata": {
    "vscode": {
     "languageId": "sql"
    }
   },
   "outputs": [
    {
     "data": {
      "application/vnd.code.notebook.error": {
       "message": "INVALID mime type: method. Must be in the format \"type/subtype[;optionalparameter]\"",
       "name": "Error",
       "stack": "Error: INVALID mime type: method. Must be in the format \"type/subtype[;optionalparameter]\"\n\tat new Yt (/usr/share/code/resources/app/out/vs/workbench/api/node/extensionHostProcess.js:121:45111)\n\tat Yt.text (/usr/share/code/resources/app/out/vs/workbench/api/node/extensionHostProcess.js:121:44923)\n\tat c (/usr/share/code/resources/app/extensions/ipynb/dist/ipynbMain.js:1:147680)\n\tat f (/usr/share/code/resources/app/extensions/ipynb/dist/ipynbMain.js:1:148456)\n\tat h (/usr/share/code/resources/app/extensions/ipynb/dist/ipynbMain.js:1:149195)\n\tat Array.map (<anonymous>)\n\tat /usr/share/code/resources/app/extensions/ipynb/dist/ipynbMain.js:1:150304\n\tat /usr/share/code/resources/app/extensions/ipynb/dist/ipynbMain.js:1:150621\n\tat /usr/share/code/resources/app/extensions/ipynb/dist/ipynbMain.js:1:150628\n\tat Array.map (<anonymous>)\n\tat e.$d (/usr/share/code/resources/app/extensions/ipynb/dist/ipynbMain.js:1:149880)\n\tat e.$m.deserializeNotebook (/usr/share/code/resources/app/extensions/ipynb/dist/ipynbMain.js:1:161467)\n\tat t.$dataToNotebook (/usr/share/code/resources/app/out/vs/workbench/api/node/extensionHostProcess.js:127:93269)\n\tat n.S (/usr/share/code/resources/app/out/vs/workbench/api/node/extensionHostProcess.js:134:10836)\n\tat n.Q (/usr/share/code/resources/app/out/vs/workbench/api/node/extensionHostProcess.js:134:10602)\n\tat n.M (/usr/share/code/resources/app/out/vs/workbench/api/node/extensionHostProcess.js:134:9647)\n\tat n.L (/usr/share/code/resources/app/out/vs/workbench/api/node/extensionHostProcess.js:134:8901)\n\tat h.value (/usr/share/code/resources/app/out/vs/workbench/api/node/extensionHostProcess.js:134:7565)\n\tat c.y (/usr/share/code/resources/app/out/vs/workbench/api/node/extensionHostProcess.js:80:1902)\n\tat c.fire (/usr/share/code/resources/app/out/vs/workbench/api/node/extensionHostProcess.js:80:2119)\n\tat d.fire (/usr/share/code/resources/app/out/vs/workbench/api/node/extensionHostProcess.js:96:14047)\n\tat h.value (/usr/share/code/resources/app/out/vs/workbench/api/node/extensionHostProcess.js:153:7918)\n\tat c.y (/usr/share/code/resources/app/out/vs/workbench/api/node/extensionHostProcess.js:80:1902)\n\tat c.fire (/usr/share/code/resources/app/out/vs/workbench/api/node/extensionHostProcess.js:80:2119)\n\tat d.fire (/usr/share/code/resources/app/out/vs/workbench/api/node/extensionHostProcess.js:96:14047)\n\tat MessagePortMain.<anonymous> (/usr/share/code/resources/app/out/vs/workbench/api/node/extensionHostProcess.js:153:6198)\n\tat MessagePortMain.emit (node:events:513:28)\n\tat MessagePortMain._internalPort.emit (node:electron/js2c/utility_init:2:367)"
      },
      "application/vnd.jupyter.widget-view+json": {
       "model_id": "b2813609-82fd-43a1-9578-ea9077455cfc",
       "version_major": 2,
       "version_minor": 0
      }
     },
     "metadata": {},
     "output_type": "display_data"
    }
   ],
   "source": [
    "SELECT *\n",
    "FROM (\n",
    "    SELECT * FROM ReceitaSodio\n",
    "    INTERSECT\n",
    "    SELECT * FROM ReceitaVitaminaD\n",
    ")\n",
    "LIMIT 10;\n"
   ]
  },
  {
   "cell_type": "markdown",
   "metadata": {},
   "source": [
    "### 4) Quanto é necessário consumir de um alimento X para conseguir uma quantidade Y de um nutriente?\n",
    "\n",
    "##### Analisando os dados buscamos saber a quantidade de uma receita que será necessário para atingir uma meta nutricional.\n",
    "\n",
    "Os dados dos componentes de cada receita estão disponíveis na VIEW ComponentesDasReceitas. Assim, basta definir um nutriente Y e sua quantidade e uma receita X. Considerando o nutriente \"Proteins\" e uma quantidade de 10000 mg, bem como a receita de ID 6220 original do RecipeNLG:"
   ]
  },
  {
   "cell_type": "code",
   "execution_count": 41,
   "metadata": {
    "vscode": {
     "languageId": "sql"
    }
   },
   "outputs": [
    {
     "data": {
      "text/plain": [
       "7.813079374506159356087336"
      ]
     },
     "execution_count": 41,
     "metadata": {},
     "output_type": "execute_result"
    }
   ],
   "source": [
    "SELECT (10000 / CIR.Quantidade) Quantidade\n",
    "FROM ComponentesDasReceitas CIR, Componente C\n",
    "WHERE CIR.IdComponente = C.Id AND CIR.Tipo = C.Tipo\n",
    "      AND C.Nome = 'Proteins'\n",
    "      AND CIR.IDReceita = 6220 AND CIR.Banco = 'RecipeNLG';\n"
   ]
  },
  {
   "cell_type": "markdown",
   "metadata": {},
   "source": [
    "### 5) Dado um grupo de classificação de ingredientes, qual país tem mais receitas com ingredientes desse grupo?\n",
    "\n",
    "##### Com a análise de dados buscamos descobrir que pais utiliza mais de um grupo de alimentos em suas receitas.\n",
    "\n",
    "Realizaremos um SELECT para criarmos uma tabela com tuplas no formato (PaísDoMundo, GrupoIngrediente, Freq), em que Freq é a frequência com que um determinado grupo de classificação de ingredientes aparece em todas as receitas daquele país.\n",
    "* Realizamos um JOIN para alinharmos corretamente as tuplas das tabelas\n",
    "* Passo a passo"
   ]
  },
  {
   "cell_type": "code",
   "execution_count": 55,
   "metadata": {
    "vscode": {
     "languageId": "sql"
    }
   },
   "outputs": [],
   "source": [
    "DROP VIEW IF EXISTS FreqGrupoIngredientesPorRegiao;\n",
    "\n",
    "CREATE VIEW FreqGrupoIngredientesPorRegiao AS\n",
    "    SELECT RE.Origem, IG.Classificacao, COUNT(DISTINCT(RE.Id, RE.BancoOriginal)) Freq\n",
    "    FROM Receita RE\n",
    "    JOIN IngredientesDasReceitas IR\n",
    "        ON RE.Id = IR.IdReceita AND RE.BancoOriginal = IR.Banco\n",
    "    JOIN Ingrediente IG\n",
    "        ON IR.Ingrediente = IG.Nome\n",
    "    JOIN Origem ORI\n",
    "        ON RE.Origem = ORI.Nome AND ORI.Tipo = 'Pais'\n",
    "    GROUP BY RE.Origem, IG.Classificacao;\n"
   ]
  },
  {
   "cell_type": "markdown",
   "metadata": {},
   "source": [
    "Visualizando:"
   ]
  },
  {
   "cell_type": "code",
   "execution_count": 56,
   "metadata": {
    "vscode": {
     "languageId": "sql"
    }
   },
   "outputs": [
    {
     "data": {
      "application/vnd.code.notebook.error": {
       "message": "INVALID mime type: method. Must be in the format \"type/subtype[;optionalparameter]\"",
       "name": "Error",
       "stack": "Error: INVALID mime type: method. Must be in the format \"type/subtype[;optionalparameter]\"\n\tat new Yt (/usr/share/code/resources/app/out/vs/workbench/api/node/extensionHostProcess.js:121:45111)\n\tat Yt.text (/usr/share/code/resources/app/out/vs/workbench/api/node/extensionHostProcess.js:121:44923)\n\tat c (/usr/share/code/resources/app/extensions/ipynb/dist/ipynbMain.js:1:147680)\n\tat f (/usr/share/code/resources/app/extensions/ipynb/dist/ipynbMain.js:1:148456)\n\tat h (/usr/share/code/resources/app/extensions/ipynb/dist/ipynbMain.js:1:149195)\n\tat Array.map (<anonymous>)\n\tat /usr/share/code/resources/app/extensions/ipynb/dist/ipynbMain.js:1:150304\n\tat /usr/share/code/resources/app/extensions/ipynb/dist/ipynbMain.js:1:150621\n\tat /usr/share/code/resources/app/extensions/ipynb/dist/ipynbMain.js:1:150628\n\tat Array.map (<anonymous>)\n\tat e.$d (/usr/share/code/resources/app/extensions/ipynb/dist/ipynbMain.js:1:149880)\n\tat e.$m.deserializeNotebook (/usr/share/code/resources/app/extensions/ipynb/dist/ipynbMain.js:1:161467)\n\tat t.$dataToNotebook (/usr/share/code/resources/app/out/vs/workbench/api/node/extensionHostProcess.js:127:93269)\n\tat n.S (/usr/share/code/resources/app/out/vs/workbench/api/node/extensionHostProcess.js:134:10836)\n\tat n.Q (/usr/share/code/resources/app/out/vs/workbench/api/node/extensionHostProcess.js:134:10602)\n\tat n.M (/usr/share/code/resources/app/out/vs/workbench/api/node/extensionHostProcess.js:134:9647)\n\tat n.L (/usr/share/code/resources/app/out/vs/workbench/api/node/extensionHostProcess.js:134:8901)\n\tat h.value (/usr/share/code/resources/app/out/vs/workbench/api/node/extensionHostProcess.js:134:7565)\n\tat c.y (/usr/share/code/resources/app/out/vs/workbench/api/node/extensionHostProcess.js:80:1902)\n\tat c.fire (/usr/share/code/resources/app/out/vs/workbench/api/node/extensionHostProcess.js:80:2119)\n\tat d.fire (/usr/share/code/resources/app/out/vs/workbench/api/node/extensionHostProcess.js:96:14047)\n\tat h.value (/usr/share/code/resources/app/out/vs/workbench/api/node/extensionHostProcess.js:153:7918)\n\tat c.y (/usr/share/code/resources/app/out/vs/workbench/api/node/extensionHostProcess.js:80:1902)\n\tat c.fire (/usr/share/code/resources/app/out/vs/workbench/api/node/extensionHostProcess.js:80:2119)\n\tat d.fire (/usr/share/code/resources/app/out/vs/workbench/api/node/extensionHostProcess.js:96:14047)\n\tat MessagePortMain.<anonymous> (/usr/share/code/resources/app/out/vs/workbench/api/node/extensionHostProcess.js:153:6198)\n\tat MessagePortMain.emit (node:events:513:28)\n\tat MessagePortMain._internalPort.emit (node:electron/js2c/utility_init:2:367)"
      },
      "application/vnd.jupyter.widget-view+json": {
       "model_id": "6a72c1cd-3c57-430b-9d46-9558f87d7fd0",
       "version_major": 2,
       "version_minor": 0
      }
     },
     "metadata": {},
     "output_type": "display_data"
    }
   ],
   "source": [
    "SELECT * FROM FreqGrupoIngredientesPorRegiao LIMIT 10;\n"
   ]
  },
  {
   "cell_type": "markdown",
   "metadata": {},
   "source": [
    "Considerando o grupo \"Herbs\", por exemplo, os 5 países que mais utilizaram esse grupo (em total de receitas) são:"
   ]
  },
  {
   "cell_type": "code",
   "execution_count": 57,
   "metadata": {
    "vscode": {
     "languageId": "sql"
    }
   },
   "outputs": [
    {
     "data": {
      "application/vnd.code.notebook.error": {
       "message": "INVALID mime type: method. Must be in the format \"type/subtype[;optionalparameter]\"",
       "name": "Error",
       "stack": "Error: INVALID mime type: method. Must be in the format \"type/subtype[;optionalparameter]\"\n\tat new Yt (/usr/share/code/resources/app/out/vs/workbench/api/node/extensionHostProcess.js:121:45111)\n\tat Yt.text (/usr/share/code/resources/app/out/vs/workbench/api/node/extensionHostProcess.js:121:44923)\n\tat c (/usr/share/code/resources/app/extensions/ipynb/dist/ipynbMain.js:1:147680)\n\tat f (/usr/share/code/resources/app/extensions/ipynb/dist/ipynbMain.js:1:148456)\n\tat h (/usr/share/code/resources/app/extensions/ipynb/dist/ipynbMain.js:1:149195)\n\tat Array.map (<anonymous>)\n\tat /usr/share/code/resources/app/extensions/ipynb/dist/ipynbMain.js:1:150304\n\tat /usr/share/code/resources/app/extensions/ipynb/dist/ipynbMain.js:1:150621\n\tat /usr/share/code/resources/app/extensions/ipynb/dist/ipynbMain.js:1:150628\n\tat Array.map (<anonymous>)\n\tat e.$d (/usr/share/code/resources/app/extensions/ipynb/dist/ipynbMain.js:1:149880)\n\tat e.$m.deserializeNotebook (/usr/share/code/resources/app/extensions/ipynb/dist/ipynbMain.js:1:161467)\n\tat t.$dataToNotebook (/usr/share/code/resources/app/out/vs/workbench/api/node/extensionHostProcess.js:127:93269)\n\tat n.S (/usr/share/code/resources/app/out/vs/workbench/api/node/extensionHostProcess.js:134:10836)\n\tat n.Q (/usr/share/code/resources/app/out/vs/workbench/api/node/extensionHostProcess.js:134:10602)\n\tat n.M (/usr/share/code/resources/app/out/vs/workbench/api/node/extensionHostProcess.js:134:9647)\n\tat n.L (/usr/share/code/resources/app/out/vs/workbench/api/node/extensionHostProcess.js:134:8901)\n\tat h.value (/usr/share/code/resources/app/out/vs/workbench/api/node/extensionHostProcess.js:134:7565)\n\tat c.y (/usr/share/code/resources/app/out/vs/workbench/api/node/extensionHostProcess.js:80:1902)\n\tat c.fire (/usr/share/code/resources/app/out/vs/workbench/api/node/extensionHostProcess.js:80:2119)\n\tat d.fire (/usr/share/code/resources/app/out/vs/workbench/api/node/extensionHostProcess.js:96:14047)\n\tat h.value (/usr/share/code/resources/app/out/vs/workbench/api/node/extensionHostProcess.js:153:7918)\n\tat c.y (/usr/share/code/resources/app/out/vs/workbench/api/node/extensionHostProcess.js:80:1902)\n\tat c.fire (/usr/share/code/resources/app/out/vs/workbench/api/node/extensionHostProcess.js:80:2119)\n\tat d.fire (/usr/share/code/resources/app/out/vs/workbench/api/node/extensionHostProcess.js:96:14047)\n\tat MessagePortMain.<anonymous> (/usr/share/code/resources/app/out/vs/workbench/api/node/extensionHostProcess.js:153:6198)\n\tat MessagePortMain.emit (node:events:513:28)\n\tat MessagePortMain._internalPort.emit (node:electron/js2c/utility_init:2:367)"
      },
      "application/vnd.jupyter.widget-view+json": {
       "model_id": "322fa958-b007-4d40-adbf-f504ea724956",
       "version_major": 2,
       "version_minor": 0
      }
     },
     "metadata": {},
     "output_type": "display_data"
    }
   ],
   "source": [
    "SELECT *\n",
    "FROM FreqGrupoIngredientesPorRegiao\n",
    "WHERE Classificacao = 'Herbs'\n",
    "ORDER BY Freq DESC\n",
    "LIMIT 5;\n"
   ]
  },
  {
   "cell_type": "markdown",
   "metadata": {},
   "source": [
    "Calcularemos também, para cada país, a % de receitas que utilizam esse ingrediente. Como podemos ter muitas receitas de um país (ex. USA) e poucas receitas de outro país (ex. Japan), é interessante também analisarmos a % de receitas em relação ao total de cada país para podermos ter análises um pouco mais justas. Primeiramente, criaremos uma VIEW com tuplas (País, Qtd), em que Qtd é a quantidade total de receitas por país do mundo."
   ]
  },
  {
   "cell_type": "code",
   "execution_count": 58,
   "metadata": {
    "vscode": {
     "languageId": "sql"
    }
   },
   "outputs": [],
   "source": [
    "DROP VIEW IF EXISTS QtdReceitasPais;\n",
    "\n",
    "CREATE VIEW QtdReceitasPais AS\n",
    "    (SELECT RE.Origem, COUNT(*) Tot\n",
    "     FROM Receita RE\n",
    "     JOIN Origem O\n",
    "        ON RE.Origem = O.Nome AND O.Tipo = 'Pais'\n",
    "     GROUP BY RE.Origem);\n"
   ]
  },
  {
   "cell_type": "markdown",
   "metadata": {},
   "source": [
    "Visualizando:"
   ]
  },
  {
   "cell_type": "code",
   "execution_count": 59,
   "metadata": {
    "vscode": {
     "languageId": "sql"
    }
   },
   "outputs": [
    {
     "data": {
      "application/vnd.code.notebook.error": {
       "message": "INVALID mime type: method. Must be in the format \"type/subtype[;optionalparameter]\"",
       "name": "Error",
       "stack": "Error: INVALID mime type: method. Must be in the format \"type/subtype[;optionalparameter]\"\n\tat new Yt (/usr/share/code/resources/app/out/vs/workbench/api/node/extensionHostProcess.js:121:45111)\n\tat Yt.text (/usr/share/code/resources/app/out/vs/workbench/api/node/extensionHostProcess.js:121:44923)\n\tat c (/usr/share/code/resources/app/extensions/ipynb/dist/ipynbMain.js:1:147680)\n\tat f (/usr/share/code/resources/app/extensions/ipynb/dist/ipynbMain.js:1:148456)\n\tat h (/usr/share/code/resources/app/extensions/ipynb/dist/ipynbMain.js:1:149195)\n\tat Array.map (<anonymous>)\n\tat /usr/share/code/resources/app/extensions/ipynb/dist/ipynbMain.js:1:150304\n\tat /usr/share/code/resources/app/extensions/ipynb/dist/ipynbMain.js:1:150621\n\tat /usr/share/code/resources/app/extensions/ipynb/dist/ipynbMain.js:1:150628\n\tat Array.map (<anonymous>)\n\tat e.$d (/usr/share/code/resources/app/extensions/ipynb/dist/ipynbMain.js:1:149880)\n\tat e.$m.deserializeNotebook (/usr/share/code/resources/app/extensions/ipynb/dist/ipynbMain.js:1:161467)\n\tat t.$dataToNotebook (/usr/share/code/resources/app/out/vs/workbench/api/node/extensionHostProcess.js:127:93269)\n\tat n.S (/usr/share/code/resources/app/out/vs/workbench/api/node/extensionHostProcess.js:134:10836)\n\tat n.Q (/usr/share/code/resources/app/out/vs/workbench/api/node/extensionHostProcess.js:134:10602)\n\tat n.M (/usr/share/code/resources/app/out/vs/workbench/api/node/extensionHostProcess.js:134:9647)\n\tat n.L (/usr/share/code/resources/app/out/vs/workbench/api/node/extensionHostProcess.js:134:8901)\n\tat h.value (/usr/share/code/resources/app/out/vs/workbench/api/node/extensionHostProcess.js:134:7565)\n\tat c.y (/usr/share/code/resources/app/out/vs/workbench/api/node/extensionHostProcess.js:80:1902)\n\tat c.fire (/usr/share/code/resources/app/out/vs/workbench/api/node/extensionHostProcess.js:80:2119)\n\tat d.fire (/usr/share/code/resources/app/out/vs/workbench/api/node/extensionHostProcess.js:96:14047)\n\tat h.value (/usr/share/code/resources/app/out/vs/workbench/api/node/extensionHostProcess.js:153:7918)\n\tat c.y (/usr/share/code/resources/app/out/vs/workbench/api/node/extensionHostProcess.js:80:1902)\n\tat c.fire (/usr/share/code/resources/app/out/vs/workbench/api/node/extensionHostProcess.js:80:2119)\n\tat d.fire (/usr/share/code/resources/app/out/vs/workbench/api/node/extensionHostProcess.js:96:14047)\n\tat MessagePortMain.<anonymous> (/usr/share/code/resources/app/out/vs/workbench/api/node/extensionHostProcess.js:153:6198)\n\tat MessagePortMain.emit (node:events:513:28)\n\tat MessagePortMain._internalPort.emit (node:electron/js2c/utility_init:2:367)"
      },
      "application/vnd.jupyter.widget-view+json": {
       "model_id": "b743ca69-d642-431b-a5cb-6cb8e628e20a",
       "version_major": 2,
       "version_minor": 0
      }
     },
     "metadata": {},
     "output_type": "display_data"
    }
   ],
   "source": [
    "SELECT * FROM QtdReceitasPais LIMIT 10;\n"
   ]
  },
  {
   "cell_type": "markdown",
   "metadata": {},
   "source": [
    "Agora, com a VIEW FreqGrupoIngredientesPorRegiao, podemos realizar a divisão e calcular a porcentagem em cada caso, criando uma tabela com tuplas no formato (País, Classificacao, Porcentagem), em que Porcentagem será calculada pela frequência da classificação dividida pelo total de receitas multiplicado por 100."
   ]
  },
  {
   "cell_type": "code",
   "execution_count": 60,
   "metadata": {
    "vscode": {
     "languageId": "sql"
    }
   },
   "outputs": [],
   "source": [
    "DROP VIEW IF EXISTS PorcentagemClassificacaoPorPais;\n",
    "\n",
    "CREATE VIEW PorcentagemClassificacaoPorPais AS\n",
    "    SELECT FR.Origem, FR.Classificacao, (100.0 * FR.Freq / QT.Tot) Porcentagem\n",
    "    FROM FreqGrupoIngredientesPorRegiao FR\n",
    "    JOIN QtdReceitasPais QT\n",
    "        ON FR.Origem = QT.Origem;\n"
   ]
  },
  {
   "cell_type": "markdown",
   "metadata": {},
   "source": [
    "Visualizando:"
   ]
  },
  {
   "cell_type": "code",
   "execution_count": 61,
   "metadata": {
    "vscode": {
     "languageId": "sql"
    }
   },
   "outputs": [
    {
     "data": {
      "application/vnd.code.notebook.error": {
       "message": "INVALID mime type: method. Must be in the format \"type/subtype[;optionalparameter]\"",
       "name": "Error",
       "stack": "Error: INVALID mime type: method. Must be in the format \"type/subtype[;optionalparameter]\"\n\tat new Yt (/usr/share/code/resources/app/out/vs/workbench/api/node/extensionHostProcess.js:121:45111)\n\tat Yt.text (/usr/share/code/resources/app/out/vs/workbench/api/node/extensionHostProcess.js:121:44923)\n\tat c (/usr/share/code/resources/app/extensions/ipynb/dist/ipynbMain.js:1:147680)\n\tat f (/usr/share/code/resources/app/extensions/ipynb/dist/ipynbMain.js:1:148456)\n\tat h (/usr/share/code/resources/app/extensions/ipynb/dist/ipynbMain.js:1:149195)\n\tat Array.map (<anonymous>)\n\tat /usr/share/code/resources/app/extensions/ipynb/dist/ipynbMain.js:1:150304\n\tat /usr/share/code/resources/app/extensions/ipynb/dist/ipynbMain.js:1:150621\n\tat /usr/share/code/resources/app/extensions/ipynb/dist/ipynbMain.js:1:150628\n\tat Array.map (<anonymous>)\n\tat e.$d (/usr/share/code/resources/app/extensions/ipynb/dist/ipynbMain.js:1:149880)\n\tat e.$m.deserializeNotebook (/usr/share/code/resources/app/extensions/ipynb/dist/ipynbMain.js:1:161467)\n\tat t.$dataToNotebook (/usr/share/code/resources/app/out/vs/workbench/api/node/extensionHostProcess.js:127:93269)\n\tat n.S (/usr/share/code/resources/app/out/vs/workbench/api/node/extensionHostProcess.js:134:10836)\n\tat n.Q (/usr/share/code/resources/app/out/vs/workbench/api/node/extensionHostProcess.js:134:10602)\n\tat n.M (/usr/share/code/resources/app/out/vs/workbench/api/node/extensionHostProcess.js:134:9647)\n\tat n.L (/usr/share/code/resources/app/out/vs/workbench/api/node/extensionHostProcess.js:134:8901)\n\tat h.value (/usr/share/code/resources/app/out/vs/workbench/api/node/extensionHostProcess.js:134:7565)\n\tat c.y (/usr/share/code/resources/app/out/vs/workbench/api/node/extensionHostProcess.js:80:1902)\n\tat c.fire (/usr/share/code/resources/app/out/vs/workbench/api/node/extensionHostProcess.js:80:2119)\n\tat d.fire (/usr/share/code/resources/app/out/vs/workbench/api/node/extensionHostProcess.js:96:14047)\n\tat h.value (/usr/share/code/resources/app/out/vs/workbench/api/node/extensionHostProcess.js:153:7918)\n\tat c.y (/usr/share/code/resources/app/out/vs/workbench/api/node/extensionHostProcess.js:80:1902)\n\tat c.fire (/usr/share/code/resources/app/out/vs/workbench/api/node/extensionHostProcess.js:80:2119)\n\tat d.fire (/usr/share/code/resources/app/out/vs/workbench/api/node/extensionHostProcess.js:96:14047)\n\tat MessagePortMain.<anonymous> (/usr/share/code/resources/app/out/vs/workbench/api/node/extensionHostProcess.js:153:6198)\n\tat MessagePortMain.emit (node:events:513:28)\n\tat MessagePortMain._internalPort.emit (node:electron/js2c/utility_init:2:367)"
      },
      "application/vnd.jupyter.widget-view+json": {
       "model_id": "edc2c756-ce13-4c20-ad28-e8939d94559b",
       "version_major": 2,
       "version_minor": 0
      }
     },
     "metadata": {},
     "output_type": "display_data"
    }
   ],
   "source": [
    "SELECT * FROM PorcentagemClassificacaoPorPais;\n"
   ]
  },
  {
   "cell_type": "markdown",
   "metadata": {},
   "source": [
    "Agora, finalmente, podemos refazer a análise anterior que usou apenas as frequências e analisarmos os países com maiores porcentagens de \"Herbs\"."
   ]
  },
  {
   "cell_type": "code",
   "execution_count": 62,
   "metadata": {
    "vscode": {
     "languageId": "sql"
    }
   },
   "outputs": [
    {
     "data": {
      "application/vnd.code.notebook.error": {
       "message": "INVALID mime type: method. Must be in the format \"type/subtype[;optionalparameter]\"",
       "name": "Error",
       "stack": "Error: INVALID mime type: method. Must be in the format \"type/subtype[;optionalparameter]\"\n\tat new Yt (/usr/share/code/resources/app/out/vs/workbench/api/node/extensionHostProcess.js:121:45111)\n\tat Yt.text (/usr/share/code/resources/app/out/vs/workbench/api/node/extensionHostProcess.js:121:44923)\n\tat c (/usr/share/code/resources/app/extensions/ipynb/dist/ipynbMain.js:1:147680)\n\tat f (/usr/share/code/resources/app/extensions/ipynb/dist/ipynbMain.js:1:148456)\n\tat h (/usr/share/code/resources/app/extensions/ipynb/dist/ipynbMain.js:1:149195)\n\tat Array.map (<anonymous>)\n\tat /usr/share/code/resources/app/extensions/ipynb/dist/ipynbMain.js:1:150304\n\tat /usr/share/code/resources/app/extensions/ipynb/dist/ipynbMain.js:1:150621\n\tat /usr/share/code/resources/app/extensions/ipynb/dist/ipynbMain.js:1:150628\n\tat Array.map (<anonymous>)\n\tat e.$d (/usr/share/code/resources/app/extensions/ipynb/dist/ipynbMain.js:1:149880)\n\tat e.$m.deserializeNotebook (/usr/share/code/resources/app/extensions/ipynb/dist/ipynbMain.js:1:161467)\n\tat t.$dataToNotebook (/usr/share/code/resources/app/out/vs/workbench/api/node/extensionHostProcess.js:127:93269)\n\tat n.S (/usr/share/code/resources/app/out/vs/workbench/api/node/extensionHostProcess.js:134:10836)\n\tat n.Q (/usr/share/code/resources/app/out/vs/workbench/api/node/extensionHostProcess.js:134:10602)\n\tat n.M (/usr/share/code/resources/app/out/vs/workbench/api/node/extensionHostProcess.js:134:9647)\n\tat n.L (/usr/share/code/resources/app/out/vs/workbench/api/node/extensionHostProcess.js:134:8901)\n\tat h.value (/usr/share/code/resources/app/out/vs/workbench/api/node/extensionHostProcess.js:134:7565)\n\tat c.y (/usr/share/code/resources/app/out/vs/workbench/api/node/extensionHostProcess.js:80:1902)\n\tat c.fire (/usr/share/code/resources/app/out/vs/workbench/api/node/extensionHostProcess.js:80:2119)\n\tat d.fire (/usr/share/code/resources/app/out/vs/workbench/api/node/extensionHostProcess.js:96:14047)\n\tat h.value (/usr/share/code/resources/app/out/vs/workbench/api/node/extensionHostProcess.js:153:7918)\n\tat c.y (/usr/share/code/resources/app/out/vs/workbench/api/node/extensionHostProcess.js:80:1902)\n\tat c.fire (/usr/share/code/resources/app/out/vs/workbench/api/node/extensionHostProcess.js:80:2119)\n\tat d.fire (/usr/share/code/resources/app/out/vs/workbench/api/node/extensionHostProcess.js:96:14047)\n\tat MessagePortMain.<anonymous> (/usr/share/code/resources/app/out/vs/workbench/api/node/extensionHostProcess.js:153:6198)\n\tat MessagePortMain.emit (node:events:513:28)\n\tat MessagePortMain._internalPort.emit (node:electron/js2c/utility_init:2:367)"
      },
      "application/vnd.jupyter.widget-view+json": {
       "model_id": "542f303b-80fc-4c4a-88f4-7dd0b81ad9fd",
       "version_major": 2,
       "version_minor": 0
      }
     },
     "metadata": {},
     "output_type": "display_data"
    }
   ],
   "source": [
    "SELECT *\n",
    "FROM PorcentagemClassificacaoPorPais\n",
    "WHERE Classificacao = 'Herbs'\n",
    "ORDER BY Porcentagem DESC\n",
    "LIMIT 5;\n"
   ]
  },
  {
   "cell_type": "markdown",
   "metadata": {},
   "source": [
    "### 6) Qual região do mundo é mais propensa a ter problemas de altos consumos de sódio?\n",
    "\n",
    "##### Analisando os dados, queremos descobrir que país consome uma maior quantidade de sódio diariamente e, portanto, é mais propenso a ter problemas de alto consumo de sódio, como, por exemplo, hipertensão\n",
    "\n",
    "Primeiramente, levamos em conta que, por dia, uma pessoa consome 3 refeições. Para cada região do mundo, contaremos quantas receitas com ingredientes em gramas ele tem no total. Criaremos uma VIEW no formato (Região do Mundo, Tot), em que Tot é o total de receitas daquela região com pelo menos um ingrediente em gramas. Após isso, calcularemos o consumo total de sódio (TotNa) na região do mundo, para cada ingrediente usando a informação da tabela ComponentesDosIngredientes Quantidade(mg/100g). Feito isso, poderemos calcular o sódio médio por refeição naquela região do mundo, fazendo TotNa/Tot. Considerando que uma pessoa consome 3 refeições \n",
    "* Criar a VIEW no formato (Região do Mundo, Tot), em que Tot é o total de receitas daquela região com pelo menos um ingrediente em gramas"
   ]
  },
  {
   "cell_type": "code",
   "execution_count": 65,
   "metadata": {
    "vscode": {
     "languageId": "sql"
    }
   },
   "outputs": [],
   "source": [
    "DROP VIEW IF EXISTS MediaSodioRegiao;\n",
    "\n",
    "CREATE VIEW MediaSodioRegiao AS\n",
    "    SELECT R.Origem, COUNT(DISTINCT (CDR.IdReceita, CDR.Banco)) TotalReceitas, SUM(CDR.Quantidade) Quantidade\n",
    "    FROM ComponentesDasReceitas CDR, Receita R, Componente C\n",
    "    WHERE CDR.IdReceita = R.Id AND CDR.Banco = R.BancoOriginal\n",
    "          AND CDR.IdComponente = C.ID AND C.Nome = 'Sodium'\n",
    "    GROUP BY R.Origem;\n"
   ]
  },
  {
   "cell_type": "markdown",
   "metadata": {},
   "source": [
    "Visualizando:"
   ]
  },
  {
   "cell_type": "code",
   "execution_count": 66,
   "metadata": {
    "vscode": {
     "languageId": "sql"
    }
   },
   "outputs": [
    {
     "data": {
      "application/vnd.code.notebook.error": {
       "message": "INVALID mime type: method. Must be in the format \"type/subtype[;optionalparameter]\"",
       "name": "Error",
       "stack": "Error: INVALID mime type: method. Must be in the format \"type/subtype[;optionalparameter]\"\n\tat new Yt (/usr/share/code/resources/app/out/vs/workbench/api/node/extensionHostProcess.js:121:45111)\n\tat Yt.text (/usr/share/code/resources/app/out/vs/workbench/api/node/extensionHostProcess.js:121:44923)\n\tat c (/usr/share/code/resources/app/extensions/ipynb/dist/ipynbMain.js:1:147680)\n\tat f (/usr/share/code/resources/app/extensions/ipynb/dist/ipynbMain.js:1:148456)\n\tat h (/usr/share/code/resources/app/extensions/ipynb/dist/ipynbMain.js:1:149195)\n\tat Array.map (<anonymous>)\n\tat /usr/share/code/resources/app/extensions/ipynb/dist/ipynbMain.js:1:150304\n\tat /usr/share/code/resources/app/extensions/ipynb/dist/ipynbMain.js:1:150621\n\tat /usr/share/code/resources/app/extensions/ipynb/dist/ipynbMain.js:1:150628\n\tat Array.map (<anonymous>)\n\tat e.$d (/usr/share/code/resources/app/extensions/ipynb/dist/ipynbMain.js:1:149880)\n\tat e.$m.deserializeNotebook (/usr/share/code/resources/app/extensions/ipynb/dist/ipynbMain.js:1:161467)\n\tat t.$dataToNotebook (/usr/share/code/resources/app/out/vs/workbench/api/node/extensionHostProcess.js:127:93269)\n\tat n.S (/usr/share/code/resources/app/out/vs/workbench/api/node/extensionHostProcess.js:134:10836)\n\tat n.Q (/usr/share/code/resources/app/out/vs/workbench/api/node/extensionHostProcess.js:134:10602)\n\tat n.M (/usr/share/code/resources/app/out/vs/workbench/api/node/extensionHostProcess.js:134:9647)\n\tat n.L (/usr/share/code/resources/app/out/vs/workbench/api/node/extensionHostProcess.js:134:8901)\n\tat h.value (/usr/share/code/resources/app/out/vs/workbench/api/node/extensionHostProcess.js:134:7565)\n\tat c.y (/usr/share/code/resources/app/out/vs/workbench/api/node/extensionHostProcess.js:80:1902)\n\tat c.fire (/usr/share/code/resources/app/out/vs/workbench/api/node/extensionHostProcess.js:80:2119)\n\tat d.fire (/usr/share/code/resources/app/out/vs/workbench/api/node/extensionHostProcess.js:96:14047)\n\tat h.value (/usr/share/code/resources/app/out/vs/workbench/api/node/extensionHostProcess.js:153:7918)\n\tat c.y (/usr/share/code/resources/app/out/vs/workbench/api/node/extensionHostProcess.js:80:1902)\n\tat c.fire (/usr/share/code/resources/app/out/vs/workbench/api/node/extensionHostProcess.js:80:2119)\n\tat d.fire (/usr/share/code/resources/app/out/vs/workbench/api/node/extensionHostProcess.js:96:14047)\n\tat MessagePortMain.<anonymous> (/usr/share/code/resources/app/out/vs/workbench/api/node/extensionHostProcess.js:153:6198)\n\tat MessagePortMain.emit (node:events:513:28)\n\tat MessagePortMain._internalPort.emit (node:electron/js2c/utility_init:2:367)"
      },
      "application/vnd.jupyter.widget-view+json": {
       "model_id": "82bcb1b6-c5b5-464a-b717-2926f4a3624b",
       "version_major": 2,
       "version_minor": 0
      }
     },
     "metadata": {},
     "output_type": "display_data"
    }
   ],
   "source": [
    "SELECT * FROM MediaSodioRegiao LIMIT 10;\n"
   ]
  },
  {
   "cell_type": "markdown",
   "metadata": {},
   "source": [
    "* Calcular a quantidade média de sódio por refeição por regiões (TotNa/Tot)."
   ]
  },
  {
   "cell_type": "code",
   "execution_count": 67,
   "metadata": {
    "vscode": {
     "languageId": "sql"
    }
   },
   "outputs": [],
   "source": [
    "DROP VIEW IF EXISTS NaMedioPorRefeicaoEmMgPorRegiao;\n",
    "\n",
    "CREATE VIEW NaMedioPorRefeicaoEmMgPorRegiao AS\n",
    "    SELECT Origem, (Quantidade / TotalReceitas) MediaSodio\n",
    "    FROM MediaSodioRegiao;\n"
   ]
  },
  {
   "cell_type": "markdown",
   "metadata": {},
   "source": [
    "Visualizando:"
   ]
  },
  {
   "cell_type": "code",
   "execution_count": 68,
   "metadata": {
    "vscode": {
     "languageId": "sql"
    }
   },
   "outputs": [
    {
     "data": {
      "application/vnd.code.notebook.error": {
       "message": "INVALID mime type: method. Must be in the format \"type/subtype[;optionalparameter]\"",
       "name": "Error",
       "stack": "Error: INVALID mime type: method. Must be in the format \"type/subtype[;optionalparameter]\"\n\tat new Yt (/usr/share/code/resources/app/out/vs/workbench/api/node/extensionHostProcess.js:121:45111)\n\tat Yt.text (/usr/share/code/resources/app/out/vs/workbench/api/node/extensionHostProcess.js:121:44923)\n\tat c (/usr/share/code/resources/app/extensions/ipynb/dist/ipynbMain.js:1:147680)\n\tat f (/usr/share/code/resources/app/extensions/ipynb/dist/ipynbMain.js:1:148456)\n\tat h (/usr/share/code/resources/app/extensions/ipynb/dist/ipynbMain.js:1:149195)\n\tat Array.map (<anonymous>)\n\tat /usr/share/code/resources/app/extensions/ipynb/dist/ipynbMain.js:1:150304\n\tat /usr/share/code/resources/app/extensions/ipynb/dist/ipynbMain.js:1:150621\n\tat /usr/share/code/resources/app/extensions/ipynb/dist/ipynbMain.js:1:150628\n\tat Array.map (<anonymous>)\n\tat e.$d (/usr/share/code/resources/app/extensions/ipynb/dist/ipynbMain.js:1:149880)\n\tat e.$m.deserializeNotebook (/usr/share/code/resources/app/extensions/ipynb/dist/ipynbMain.js:1:161467)\n\tat t.$dataToNotebook (/usr/share/code/resources/app/out/vs/workbench/api/node/extensionHostProcess.js:127:93269)\n\tat n.S (/usr/share/code/resources/app/out/vs/workbench/api/node/extensionHostProcess.js:134:10836)\n\tat n.Q (/usr/share/code/resources/app/out/vs/workbench/api/node/extensionHostProcess.js:134:10602)\n\tat n.M (/usr/share/code/resources/app/out/vs/workbench/api/node/extensionHostProcess.js:134:9647)\n\tat n.L (/usr/share/code/resources/app/out/vs/workbench/api/node/extensionHostProcess.js:134:8901)\n\tat h.value (/usr/share/code/resources/app/out/vs/workbench/api/node/extensionHostProcess.js:134:7565)\n\tat c.y (/usr/share/code/resources/app/out/vs/workbench/api/node/extensionHostProcess.js:80:1902)\n\tat c.fire (/usr/share/code/resources/app/out/vs/workbench/api/node/extensionHostProcess.js:80:2119)\n\tat d.fire (/usr/share/code/resources/app/out/vs/workbench/api/node/extensionHostProcess.js:96:14047)\n\tat h.value (/usr/share/code/resources/app/out/vs/workbench/api/node/extensionHostProcess.js:153:7918)\n\tat c.y (/usr/share/code/resources/app/out/vs/workbench/api/node/extensionHostProcess.js:80:1902)\n\tat c.fire (/usr/share/code/resources/app/out/vs/workbench/api/node/extensionHostProcess.js:80:2119)\n\tat d.fire (/usr/share/code/resources/app/out/vs/workbench/api/node/extensionHostProcess.js:96:14047)\n\tat MessagePortMain.<anonymous> (/usr/share/code/resources/app/out/vs/workbench/api/node/extensionHostProcess.js:153:6198)\n\tat MessagePortMain.emit (node:events:513:28)\n\tat MessagePortMain._internalPort.emit (node:electron/js2c/utility_init:2:367)"
      },
      "application/vnd.jupyter.widget-view+json": {
       "model_id": "0d486772-61f6-44d5-acad-668b550f4480",
       "version_major": 2,
       "version_minor": 0
      }
     },
     "metadata": {},
     "output_type": "display_data"
    }
   ],
   "source": [
    "SELECT * FROM NaMedioPorRefeicaoEmMgPorRegiao LIMIT 10;\n"
   ]
  },
  {
   "cell_type": "markdown",
   "metadata": {},
   "source": [
    "* Agora, considerando uma pessoa entre 19-30 anos, vamos selecionar as regiões do mundo cujo consumo médio diário de sódio seja maior que o recomendado pela entidade NIH-US."
   ]
  },
  {
   "cell_type": "code",
   "execution_count": 69,
   "metadata": {
    "vscode": {
     "languageId": "sql"
    }
   },
   "outputs": [
    {
     "data": {
      "application/vnd.code.notebook.error": {
       "message": "INVALID mime type: method. Must be in the format \"type/subtype[;optionalparameter]\"",
       "name": "Error",
       "stack": "Error: INVALID mime type: method. Must be in the format \"type/subtype[;optionalparameter]\"\n\tat new Yt (/usr/share/code/resources/app/out/vs/workbench/api/node/extensionHostProcess.js:121:45111)\n\tat Yt.text (/usr/share/code/resources/app/out/vs/workbench/api/node/extensionHostProcess.js:121:44923)\n\tat c (/usr/share/code/resources/app/extensions/ipynb/dist/ipynbMain.js:1:147680)\n\tat f (/usr/share/code/resources/app/extensions/ipynb/dist/ipynbMain.js:1:148456)\n\tat h (/usr/share/code/resources/app/extensions/ipynb/dist/ipynbMain.js:1:149195)\n\tat Array.map (<anonymous>)\n\tat /usr/share/code/resources/app/extensions/ipynb/dist/ipynbMain.js:1:150304\n\tat /usr/share/code/resources/app/extensions/ipynb/dist/ipynbMain.js:1:150621\n\tat /usr/share/code/resources/app/extensions/ipynb/dist/ipynbMain.js:1:150628\n\tat Array.map (<anonymous>)\n\tat e.$d (/usr/share/code/resources/app/extensions/ipynb/dist/ipynbMain.js:1:149880)\n\tat e.$m.deserializeNotebook (/usr/share/code/resources/app/extensions/ipynb/dist/ipynbMain.js:1:161467)\n\tat t.$dataToNotebook (/usr/share/code/resources/app/out/vs/workbench/api/node/extensionHostProcess.js:127:93269)\n\tat n.S (/usr/share/code/resources/app/out/vs/workbench/api/node/extensionHostProcess.js:134:10836)\n\tat n.Q (/usr/share/code/resources/app/out/vs/workbench/api/node/extensionHostProcess.js:134:10602)\n\tat n.M (/usr/share/code/resources/app/out/vs/workbench/api/node/extensionHostProcess.js:134:9647)\n\tat n.L (/usr/share/code/resources/app/out/vs/workbench/api/node/extensionHostProcess.js:134:8901)\n\tat h.value (/usr/share/code/resources/app/out/vs/workbench/api/node/extensionHostProcess.js:134:7565)\n\tat c.y (/usr/share/code/resources/app/out/vs/workbench/api/node/extensionHostProcess.js:80:1902)\n\tat c.fire (/usr/share/code/resources/app/out/vs/workbench/api/node/extensionHostProcess.js:80:2119)\n\tat d.fire (/usr/share/code/resources/app/out/vs/workbench/api/node/extensionHostProcess.js:96:14047)\n\tat h.value (/usr/share/code/resources/app/out/vs/workbench/api/node/extensionHostProcess.js:153:7918)\n\tat c.y (/usr/share/code/resources/app/out/vs/workbench/api/node/extensionHostProcess.js:80:1902)\n\tat c.fire (/usr/share/code/resources/app/out/vs/workbench/api/node/extensionHostProcess.js:80:2119)\n\tat d.fire (/usr/share/code/resources/app/out/vs/workbench/api/node/extensionHostProcess.js:96:14047)\n\tat MessagePortMain.<anonymous> (/usr/share/code/resources/app/out/vs/workbench/api/node/extensionHostProcess.js:153:6198)\n\tat MessagePortMain.emit (node:events:513:28)\n\tat MessagePortMain._internalPort.emit (node:electron/js2c/utility_init:2:367)"
      },
      "application/vnd.jupyter.widget-view+json": {
       "model_id": "62e05e4d-b776-4b4e-93cf-1cd395cd545a",
       "version_major": 2,
       "version_minor": 0
      }
     },
     "metadata": {},
     "output_type": "display_data"
    }
   ],
   "source": [
    "SELECT Origem\n",
    "FROM NaMedioPorRefeicaoEmMgPorRegiao\n",
    "    WHERE (3 * MediaSodio) > (SELECT RE.QuantidadeMg\n",
    "                              FROM Recomendacao RE\n",
    "                              JOIN Componente CO\n",
    "                                  ON RE.IdComponente = CO.Id AND RE.Tipo = CO.Tipo\n",
    "                              WHERE RE.Orgao = 'NIH_US' AND RE.FaixaEtaria = '19-30'\n",
    "                                  AND CO.Nome = 'Sodium'\n",
    "                              );\n"
   ]
  },
  {
   "cell_type": "markdown",
   "metadata": {},
   "source": [
    "Em geral, no mundo os consumos de sódio estão muito altos. Estima-se que mais de 2 milhões de pessoas morrem, por ano, por causa de altos consumos desse componente. Essa tendência também é indicada nos dados que, apesar de não representarem necessariamente os consumos de cada população, são capazes de mostrar tendências."
   ]
  }
 ],
 "metadata": {
  "kernelspec": {
   "display_name": "SQL",
   "language": "SQL",
   "name": "sql"
  },
  "language_info": {
   "codemirror_mode": "sql",
   "file_extension": ".sql",
   "mimetype": "",
   "name": "SQL",
   "nbconverter_exporter": "",
   "version": ""
  },
  "toc": {
   "base_numbering": 1,
   "nav_menu": {},
   "number_sections": false,
   "sideBar": false,
   "skip_h1_title": false,
   "title_cell": "Table of Contents",
   "title_sidebar": "Contents",
   "toc_cell": false,
   "toc_position": {},
   "toc_section_display": false,
   "toc_window_display": false
  }
 },
 "nbformat": 4,
 "nbformat_minor": 2
}
