{
 "cells": [
  {
   "cell_type": "markdown",
   "metadata": {},
   "source": [
    "# Integrações com o CulinaryDB - Equipe GPALT (Analistas de Cardápios)"
   ]
  },
  {
   "cell_type": "markdown",
   "metadata": {},
   "source": [
    "Os principais problemas com a base do CulinaryDB são que os espaços nos nomes das colunas apresentaram grandes dificuldades de integração. Mesmo tentando utilizar ``, o Jupyter não reconhecia esses dados. Assim, por simplificação, eles foram alterados."
   ]
  },
  {
   "cell_type": "markdown",
   "metadata": {},
   "source": [
    "### Receitas"
   ]
  },
  {
   "cell_type": "markdown",
   "metadata": {},
   "source": [
    "Para o modelo proposto, o arquivo de receitas precisa ser ajustado. Isso pode ser feito em Python:"
   ]
  },
  {
   "cell_type": "code",
   "execution_count": 1,
   "metadata": {},
   "outputs": [],
   "source": [
    "import csv\n",
    "\n",
    "with open(\"../data/raw/culinarydb/01_Recipe_Details.csv\", 'r') as original:\n",
    "    with open(\"../data/interim/culinarydb/receitas.csv\", 'w') as receitas:\n",
    "        data = csv.reader(original)\n",
    "        # Substituir o header\n",
    "        next(data)\n",
    "        print(\"IDReceita,Nome,BancoOriginal,Origem\", file=receitas)\n",
    "        for row in data:\n",
    "            row[1] = row[1].replace(\"\\\"\", \"\")\n",
    "            print(f'\"{row[0]}\",\"{row[1]}\",\"CulinaryDB\",\"{row[3]}\"', file=receitas)\n"
   ]
  },
  {
   "cell_type": "markdown",
   "metadata": {},
   "source": [
    "### Ingredientes"
   ]
  },
  {
   "cell_type": "markdown",
   "metadata": {},
   "source": [
    "Como o arquivo de associações montado considera os ingredientes originais com letras minúsculas, esse processamento será feito com os dados dos nomes dos ingredientes do CulinaryDB. Em relação aos próprios dados do CulinaryDB, o id dos ingredientes é necessário para as associações com as receitas e, então, deve ser mantido nessa etapa."
   ]
  },
  {
   "cell_type": "code",
   "execution_count": 2,
   "metadata": {},
   "outputs": [],
   "source": [
    "import csv\n",
    "\n",
    "with open(\"../data/raw/culinarydb/02_Ingredients.csv\", 'r') as original:\n",
    "    with open(\"../data/interim/culinarydb/nomesingredients.csv\", 'w') as ingredientes:\n",
    "        data = csv.reader(original)\n",
    "        # Substituir o header\n",
    "        next(data)\n",
    "        print(\"Nome,ID\", file=ingredientes)\n",
    "        for row in data:\n",
    "            print(f'{row[0].lower()},{row[2]}', file=ingredientes)\n"
   ]
  },
  {
   "cell_type": "markdown",
   "metadata": {},
   "source": [
    "### Ingredientes Compostos"
   ]
  },
  {
   "cell_type": "markdown",
   "metadata": {},
   "source": [
    "Um problema com os ingredientes compostos originais é que o nome das colunas apresenta espaços. Esses espaços, para as consultas em SQL, atrapalham a importação dos dados. Removendo esses espaços (substituindo o header):"
   ]
  },
  {
   "cell_type": "code",
   "execution_count": 3,
   "metadata": {},
   "outputs": [],
   "source": [
    "import pandas as pd\n",
    "\n",
    "dados = pd.read_csv('../data/raw/culinarydb/03_Compound_Ingredients.csv')\n",
    "colunas = ['Compound Ingredient Name','Compound Ingredient Synonyms','entity_id','Contituent Ingredients','Category']\n",
    "\n",
    "with open(\"../data/interim/culinarydb/dadoscompostos.csv\", 'w') as compostos:\n",
    "    print(\"Compound_Ingredient_Name,Compound_Ingredient_Synonyms,entity_id,Contituent_Ingredients,Category\", file=compostos)\n",
    "\n",
    "    df = pd.DataFrame(dados, columns=colunas)\n",
    "    df.to_csv(compostos, index=False, header=False)\n"
   ]
  },
  {
   "cell_type": "markdown",
   "metadata": {},
   "source": [
    "Os ingredientes compostos da base são interessantes para receitas mais complexas. Segundo o modelo proposto, eles também devem estar na lista de ingredientes e também devem conter uma associação com os ingredientes simples que os formam. Como os ingredientes que formam os ingredientes compostos estão juntos em uma mesma linha, é possível separá-los:"
   ]
  },
  {
   "cell_type": "code",
   "execution_count": 4,
   "metadata": {},
   "outputs": [],
   "source": [
    "import pandas as pd\n",
    "\n",
    "dados = pd.read_csv('../data/raw/culinarydb/03_Compound_Ingredients.csv')\n",
    "\n",
    "nomes = dados['Compound Ingredient Name'].values.tolist()\n",
    "ingredientes = dados['Contituent Ingredients'].values.tolist()\n",
    "\n",
    "with open(\"../data/interim/culinarydb/associacaocompostos.csv\", 'w') as associacao:\n",
    "    print(\"IngredienteComposto,IngredienteOriginal\", file=associacao)\n",
    "\n",
    "    # Para cada receita\n",
    "    for i in range(len(nomes)):\n",
    "        # Separar os nomes dos ingredientes\n",
    "        lista = ingredientes[i].split(\",\")\n",
    "\n",
    "        # Associações finais\n",
    "        for k in lista:\n",
    "            print(f'{nomes[i]},{k.strip()}', file=associacao)\n"
   ]
  },
  {
   "cell_type": "markdown",
   "metadata": {},
   "source": [
    "### Ingredientes das Receitas"
   ]
  },
  {
   "cell_type": "markdown",
   "metadata": {},
   "source": [
    "Em relação à associação de ingredientes e receitas, algumas alterações precisam ser feitas. Nos dados originais, algumas receitas têm quantidades associadas aos ingredientes que são úteis para as análises e, portanto, não podem ser descartados. O problema é que eles não são bem padronizados e estão juntos com o nome do ingrediente. Assim, o código Python a seguir foi elaborado para ajustar os dados aos modelos propostos, separando quantidade, unidade e fazendo cálculos de conversão de medidas:"
   ]
  },
  {
   "cell_type": "code",
   "execution_count": 5,
   "metadata": {},
   "outputs": [],
   "source": [
    "import pandas as pd\n",
    "from fractions import Fraction\n",
    "\n",
    "dados = pd.read_csv('../data/raw/culinarydb/04_Recipe-Ingredients_Aliases.csv', error_bad_lines=False)\n",
    "\n",
    "# Separando os dados em matrizes com os nomes dos ingredientes e quantidades, nome das receitas e ingrediente original da base\n",
    "original = dados['Original Ingredient Name'].values.tolist()\n",
    "rec_id = dados['Recipe ID'].values.tolist()\n",
    "ingredientes_padrao = dados['Entity ID'].values.tolist()\n",
    "\n",
    "# Matriz com os dados\n",
    "ingre = []\n",
    "\n",
    "# Dicionários com as palavras usadas com as unidades de medidas, e as outras com a conversão para unidades de medidas padrão\n",
    "optional = [\"to taste\",\"own taste\", \"optional\", \"as needed\", \"garnish\"]\n",
    "unit_map = {\"ounces\": \"ounce\",\"ounce\": \"ounce\",\"oz.\": \"ounce\",\"oz\": \"ounce\",\n",
    "                \"c.\": \"cup\",\"c\": \"cup\",\"C\": \"cup\",\"cups\": \"cup\",\"cup\": \"cup\",\n",
    "                \"tbsp.\": \"tablespoon\",\"tbsp\": \"tablespoon\",\"tbs\": \"tablespoon\",\"tablespoons\": \"tablespoon\",\"tablespoon(s)\": \"tablespoon\",\"tablespoon\": \"tablespoon\",\n",
    "                \"teaspoons\": \"teaspoon\",\"teaspoon\": \"teaspoon\",\"tsp.\": \"teaspoon\",\"tsp\": \"teaspoon\",\"t.\": \"teaspoon\",\n",
    "                \"lb.\": \"pond\",\"lb\": \"pond\",\"lbs\": \"pond\",\"pound\": \"pond\",\"pounds\": \"pond\",\n",
    "                \"kg.\": \"kilogram\",\"mg.\": \"miligram\",\"grams\": \"gram\",\"gram\": \"gram\",\n",
    "                \"gm\": \"gram\",\"g.\": \"gram\",\"g\": \"gram\",\n",
    "                \"qts\": \"quart\",\"qts.\": \"quart\",\"quarts\": \"quart\",\"quart\": \"quart\",\"qt.\": \"quart\",\"qt\": \"quart\",\n",
    "                \"gal.\": \"galon\",\n",
    "                \"pints\": \"pint\",\"pint\": \"pint\",\"pt.\": \"pint\",\n",
    "                \"liters\": \"liter\",\"liter\": \"liter\",\"l\": \"liter\",\"ml\": \"mililiter\",\n",
    "                \"inches\": \"inch\",\"inch\": \"inch\",\n",
    "                \"cm\": \"centimeter\",\n",
    "                \"can\": \"can\",\"cans\": \"can\",\n",
    "                \"stick\": \"stick\",\"sticks\": \"stick\",\n",
    "                \"bottle\": \"bottle\",\n",
    "                \"drops\": \"drop\",\"drop\": \"drop\",\n",
    "               }\n",
    "weight = {\n",
    "        \"gram\": 0.001,\n",
    "        \"ounce\" : 0.0283495,\n",
    "        \"pond\" :  0.45359237,\n",
    "        \"kilogram\" : 1,\n",
    "    }\n",
    "volumn = {\n",
    "        \"cup\": 0.236588,\n",
    "        \"tablespoon\" : 0.0147868,\n",
    "        \"teaspoon\" : 0.00492892,\n",
    "        \"quart\": 0.946353,\n",
    "        \"galon\": 3.78541,\n",
    "        \"liters\": 1,\n",
    "        \"mililiter\": 0.001,\n",
    "        \"can\": 0.3548824,\n",
    "        \"stick\": 0.12,\n",
    "        'pint': 0.473176,\n",
    "    }\n",
    "\n",
    "instructions= [\", cut\",\", sliced\",\", drained\", ', halved', ', for',', juiced',', dissolved', ', divided','- cut', ', cooked',\n",
    "               '- rinsed',' for',', or',', any',', whipped','made from',', tied',', peeled',', seeded',', picked',', thawed',\n",
    "               ' or','such as',', quartered',' plus',', lightly beaten',', woody',', each',', torn',', sifted']\n",
    "\n",
    "way= [' chopped',' dried',' minced',' canned',' dry',' ground',' fresh',' finely', ' medium', ' raw','halves', 'skinless',\n",
    "      'boneless','toasted','-inch','-thick','sliced','frozen','new','diced','sliced','Accompaniment: ','peeled','grated',\n",
    "      'unpeeled','florets','small','at room temperature','to taste','room temperature','flat-leaf','uncooked','softened',\n",
    "      'thinly','slivered','ripe','unbleached','firmly','melted','large']\n",
    "\n",
    "# Limpa o texto excluindo os parenteses, retirando palavras sobre o modo de preapro e estado da comida, e\n",
    "# por fim tranforma frações em números decimais\n",
    "def limpa(texto):\n",
    "    if '(' in texto and ')' in texto:\n",
    "        st=texto.find('(')\n",
    "        fm=texto.find(')')\n",
    "        texto=texto.replace(str(texto[st-1:fm+1]),'')\n",
    "    for a in range(len(instructions)):\n",
    "        ind=texto.find(instructions[a])\n",
    "        if ind!=-1:\n",
    "            texto=texto[:ind]\n",
    "    for a in range(len(way)):\n",
    "        if way[a] in texto:\n",
    "            texto= texto.replace(way[a],'')\n",
    "    for val in texto.split():\n",
    "        if '/' in val:\n",
    "            ind=True\n",
    "            for char in val:\n",
    "                if not(char.isdigit() or char == '/'):\n",
    "                    ind = False\n",
    "            if ind==True:\n",
    "                try:\n",
    "                    novo=round(float(Fraction(val)),2)\n",
    "                    texto=texto.replace(val,str(novo))\n",
    "                except ValueError as e:\n",
    "                    texto=texto.replace(val,'')\n",
    "    return texto\n",
    "\n",
    "# Converte as quantidades para valores padrão\n",
    "def conversor(linha):\n",
    "    mult=1\n",
    "    # Quantidade é o item (exemplo, 1 ovo, 1 morango, ...)\n",
    "    # ou não foi encontrada (linha[1] == 0)\n",
    "    linha[2]='unidade'\n",
    "    if linha[2] in weight:\n",
    "        mult=weight[linha[2]]\n",
    "        linha[2]='grama'\n",
    "        linha[1]= round(1000 * mult * linha[1],3)\n",
    "    elif linha[2] in volumn:\n",
    "        mult=volumn[linha[2]]\n",
    "        linha[2]='mililitro'\n",
    "        linha[1]= round(1000 * mult * linha[1],3)\n",
    "    return linha\n",
    "\n",
    "# Passa pelas linhas fazendo a limpeza e separando os dados em quantidade, unidade de medida, comida e o id da receita\n",
    "for a in range(len(original)):\n",
    "    original[a]=limpa(original[a])\n",
    "    num=0\n",
    "    unit=''\n",
    "    food=''\n",
    "    original[a]=original[a].split()\n",
    "    for b in range(len(original[a])):\n",
    "        if any(char.isnumeric() for char in original[a][b]):\n",
    "            try:\n",
    "                num+=float(original[a][b])\n",
    "            except ValueError as e:\n",
    "                continue\n",
    "        elif original[a][b] in unit_map:\n",
    "            unit += \" \" + unit_map[original[a][b]]\n",
    "        elif original[a][b] in optional:\n",
    "            num=0\n",
    "        else:\n",
    "            food += ' ' + original[a][b]\n",
    "\n",
    "    # Retira qualquer espaço ou vírgula sobrando\n",
    "    unit=unit.strip().lstrip(',').rstrip(',')\n",
    "    food=food.strip().lstrip(',').rstrip(',')\n",
    "    # Id do ingrediente padrão reconhecido na base\n",
    "    ingrediente_padrao = ingredientes_padrao[a]\n",
    "    ingre.append(conversor([rec_id[a],num,unit,ingrediente_padrao]))\n",
    "\n",
    "\n",
    "# Salva como banco de dados e faz o download como csv\n",
    "columns = ['recipe_id', 'qtd', 'unit', 'ingredient']\n",
    "df = pd.DataFrame(ingre, columns=columns)\n",
    "df.insert(0, 'id_associacao', range(0, len(df)))\n",
    "df.to_csv('../data/interim/culinarydb/ingredientesnasreceitas.csv', index=False)\n"
   ]
  }
 ],
 "metadata": {
  "kernelspec": {
   "display_name": "Python 3",
   "language": "python",
   "name": "python3"
  },
  "language_info": {
   "codemirror_mode": {
    "name": "ipython",
    "version": 3
   },
   "file_extension": ".py",
   "mimetype": "text/x-python",
   "name": "python",
   "nbconvert_exporter": "python",
   "pygments_lexer": "ipython3",
   "version": "3.6.5"
  },
  "toc": {
   "base_numbering": 1,
   "nav_menu": {},
   "number_sections": false,
   "sideBar": false,
   "skip_h1_title": false,
   "title_cell": "Table of Contents",
   "title_sidebar": "Contents",
   "toc_cell": false,
   "toc_position": {},
   "toc_section_display": false,
   "toc_window_display": false
  }
 },
 "nbformat": 4,
 "nbformat_minor": 2
}
