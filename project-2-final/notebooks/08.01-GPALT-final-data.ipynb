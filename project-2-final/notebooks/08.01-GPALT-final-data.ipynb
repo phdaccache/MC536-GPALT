{
 "cells": [
  {
   "cell_type": "markdown",
   "metadata": {},
   "source": [
    "# Construção da base final - Equipe GPALT (Analistas de Cardápios)"
   ]
  },
  {
   "cell_type": "markdown",
   "metadata": {},
   "source": [
    "Ativando uma conexão de banco de dados em memória usando o SGBD H2:"
   ]
  },
  {
   "cell_type": "code",
   "execution_count": 1,
   "metadata": {
    "vscode": {
     "languageId": "sql"
    }
   },
   "outputs": [],
   "source": [
    "%defaultDatasource jdbc:h2:mem:db\n"
   ]
  },
  {
   "cell_type": "markdown",
   "metadata": {},
   "source": [
    "# Importando dados processados"
   ]
  },
  {
   "cell_type": "markdown",
   "metadata": {},
   "source": [
    "A partir dos notebooks anteriores, foi possível construir dados segundo o modelo proposto, integrando cada base da maneira que foi necessário. Resta, agora, construir os dados para o modelo final. O que falta será feito agora (por exemplo, receitas de bases diferentes precisam ser unidas em um único arquivo) seguindo a ordem mostrada no modelo relacional por simplicidade."
   ]
  },
  {
   "cell_type": "markdown",
   "metadata": {},
   "source": [
    "### Origem"
   ]
  },
  {
   "cell_type": "markdown",
   "metadata": {},
   "source": [
    "Ainda é necessário associar, às origens das receitas, o tipo delas (se é uma região do mundo ou um país). A partir dos dados obtidos, isso foi verificado manualmente. Importando os dados considerando todos como regiões:"
   ]
  },
  {
   "cell_type": "code",
   "execution_count": 2,
   "metadata": {
    "vscode": {
     "languageId": "sql"
    }
   },
   "outputs": [],
   "source": [
    "DROP TABLE IF EXISTS OrigemFlavor;\n",
    "DROP TABLE IF EXISTS OrigemCulinary;\n",
    "\n",
    "CREATE TABLE OrigemFlavor (\n",
    "  Origem VARCHAR(50),\n",
    "  Tipo VARCHAR(50),\n",
    "  PRIMARY KEY (Origem)\n",
    ") AS SELECT\n",
    "  Origem, 'Regiao'\n",
    "FROM CSVREAD('../data/interim/flavor network/origens.csv');\n",
    "\n",
    "CREATE TABLE OrigemCulinary (\n",
    "  Origem VARCHAR(50),\n",
    "  Tipo VARCHAR(50),\n",
    "  PRIMARY KEY (Origem)\n",
    "  ) AS SELECT\n",
    "  Origem, 'Regiao'\n",
    "FROM CSVREAD('../data/interim/culinarydb/origens.csv');\n"
   ]
  },
  {
   "cell_type": "markdown",
   "metadata": {},
   "source": [
    "Visualizando:"
   ]
  },
  {
   "cell_type": "code",
   "execution_count": 3,
   "metadata": {
    "vscode": {
     "languageId": "sql"
    }
   },
   "outputs": [
    {
     "data": {
      "application/vnd.jupyter.widget-view+json": {
       "model_id": "c828292e-7c44-45a4-b31c-bf38270685c3",
       "version_major": 2,
       "version_minor": 0
      },
      "method": "display_data"
     },
     "metadata": {},
     "output_type": "display_data"
    }
   ],
   "source": [
    "SELECT * FROM OrigemFlavor LIMIT 10;\n"
   ]
  },
  {
   "cell_type": "code",
   "execution_count": 4,
   "metadata": {
    "vscode": {
     "languageId": "sql"
    }
   },
   "outputs": [
    {
     "data": {
      "application/vnd.jupyter.widget-view+json": {
       "model_id": "d857258c-7f2b-4b6d-99b7-2d41e67a5bdc",
       "version_major": 2,
       "version_minor": 0
      },
      "method": "display_data"
     },
     "metadata": {},
     "output_type": "display_data"
    }
   ],
   "source": [
    "SELECT * FROM OrigemCulinary LIMIT 10;\n"
   ]
  },
  {
   "cell_type": "markdown",
   "metadata": {},
   "source": [
    "Atualizando o tipo dos países:"
   ]
  },
  {
   "cell_type": "code",
   "execution_count": 5,
   "metadata": {
    "vscode": {
     "languageId": "sql"
    }
   },
   "outputs": [],
   "source": [
    "UPDATE OrigemFlavor\n",
    "SET Tipo = 'Pais'\n",
    "WHERE Origem = 'Misc.: Belgian' OR Origem = 'Misc.: Dutch' OR Origem = 'Misc.: Portugal';\n",
    "\n",
    "UPDATE OrigemCulinary\n",
    "SET Tipo = 'Pais'\n",
    "WHERE Origem = 'Canada' OR Origem = 'China' OR Origem = 'France' OR Origem = 'Greece' OR Origem = 'Italy'\n",
    "OR Origem = 'Japan' OR Origem = 'Mexico' OR Origem = 'Spain' OR Origem = 'Thailand' OR Origem = 'USA';\n"
   ]
  },
  {
   "cell_type": "markdown",
   "metadata": {},
   "source": [
    "Unindo todas as origens em uma única VIEW:"
   ]
  },
  {
   "cell_type": "code",
   "execution_count": 6,
   "metadata": {
    "vscode": {
     "languageId": "sql"
    }
   },
   "outputs": [],
   "source": [
    "DROP VIEW IF EXISTS OrigemFinal;\n",
    "\n",
    "CREATE VIEW OrigemFinal AS\n",
    "    SELECT * FROM OrigemFlavor\n",
    "    UNION\n",
    "    SELECT * FROM OrigemCulinary\n",
    "    ORDER BY Origem;\n"
   ]
  },
  {
   "cell_type": "markdown",
   "metadata": {},
   "source": [
    "Visualizando:"
   ]
  },
  {
   "cell_type": "code",
   "execution_count": 7,
   "metadata": {
    "vscode": {
     "languageId": "sql"
    }
   },
   "outputs": [
    {
     "data": {
      "application/vnd.jupyter.widget-view+json": {
       "model_id": "c8c98512-c637-49cc-a694-6713d90fd12c",
       "version_major": 2,
       "version_minor": 0
      },
      "method": "display_data"
     },
     "metadata": {},
     "output_type": "display_data"
    }
   ],
   "source": [
    "SELECT * FROM OrigemFinal LIMIT 10;\n"
   ]
  },
  {
   "cell_type": "markdown",
   "metadata": {},
   "source": [
    "Exportando os dados"
   ]
  },
  {
   "cell_type": "code",
   "execution_count": 8,
   "metadata": {
    "vscode": {
     "languageId": "sql"
    }
   },
   "outputs": [
    {
     "data": {
      "text/plain": [
       "37"
      ]
     },
     "execution_count": 8,
     "metadata": {},
     "output_type": "execute_result"
    }
   ],
   "source": [
    "CALL CSVWRITE('../data/processed/database/origem.csv',\n",
    "              'SELECT * FROM OrigemFinal');\n"
   ]
  },
  {
   "cell_type": "markdown",
   "metadata": {},
   "source": [
    "### Receita"
   ]
  },
  {
   "cell_type": "markdown",
   "metadata": {},
   "source": [
    "Nos notebooks anteriores, houve um trabalho de padronizar os dados das receitas segundo o modelo. Assim, resta importar esses dados e juntar em um único arquivo csv."
   ]
  },
  {
   "cell_type": "code",
   "execution_count": 9,
   "metadata": {
    "vscode": {
     "languageId": "sql"
    }
   },
   "outputs": [],
   "source": [
    "DROP TABLE IF EXISTS ReceitasFlavor;\n",
    "DROP TABLE IF EXISTS ReceitasCulinary;\n",
    "DROP TABLE IF EXISTS ReceitasRecipe;\n",
    "\n",
    "CREATE TABLE ReceitasFlavor (\n",
    "  IDReceita INT,\n",
    "  NomeReceita VARCHAR(200),\n",
    "  BancoOriginal VARCHAR(20),\n",
    "  Origem VARCHAR(30),\n",
    "  PRIMARY KEY (IDReceita)\n",
    ") AS SELECT\n",
    "  IDReceita, Nome, BancoOriginal, Origem\n",
    "FROM CSVREAD('../data/interim/flavor network/receitas.csv');\n",
    "\n",
    "CREATE TABLE ReceitasCulinary (\n",
    "  IDReceita INT,\n",
    "  NomeReceita VARCHAR(200),\n",
    "  BancoOriginal VARCHAR(20),\n",
    "  Origem VARCHAR(30),\n",
    "  PRIMARY KEY (IDReceita)\n",
    ") AS SELECT\n",
    "  IDReceita, Nome, BancoOriginal, Origem\n",
    "FROM CSVREAD('../data/interim/culinarydb/receitas.csv');\n",
    "\n",
    "CREATE TABLE ReceitasRecipe (\n",
    "  IDReceita INT,\n",
    "  NomeReceita VARCHAR(200),\n",
    "  BancoOriginal VARCHAR(20),\n",
    "  Origem VARCHAR(30),\n",
    "  PRIMARY KEY (IDReceita)\n",
    ") AS SELECT\n",
    "  ID, Nome, BancoOriginal, Origem\n",
    "FROM CSVREAD('../data/interim/recipenlg/receitasfinais.csv');\n"
   ]
  },
  {
   "cell_type": "markdown",
   "metadata": {},
   "source": [
    "Visualizando:"
   ]
  },
  {
   "cell_type": "code",
   "execution_count": 10,
   "metadata": {
    "vscode": {
     "languageId": "sql"
    }
   },
   "outputs": [
    {
     "data": {
      "application/vnd.jupyter.widget-view+json": {
       "model_id": "0ba29f61-9b0f-45d0-9a7c-363d4e62e7d1",
       "version_major": 2,
       "version_minor": 0
      },
      "method": "display_data"
     },
     "metadata": {},
     "output_type": "display_data"
    }
   ],
   "source": [
    "SELECT * FROM ReceitasFlavor LIMIT 10;\n"
   ]
  },
  {
   "cell_type": "code",
   "execution_count": 11,
   "metadata": {
    "vscode": {
     "languageId": "sql"
    }
   },
   "outputs": [
    {
     "data": {
      "application/vnd.jupyter.widget-view+json": {
       "model_id": "bc71a84b-988b-4801-b6d7-a425824ea314",
       "version_major": 2,
       "version_minor": 0
      },
      "method": "display_data"
     },
     "metadata": {},
     "output_type": "display_data"
    }
   ],
   "source": [
    "SELECT * FROM ReceitasCulinary LIMIT 10;\n"
   ]
  },
  {
   "cell_type": "code",
   "execution_count": 12,
   "metadata": {
    "vscode": {
     "languageId": "sql"
    }
   },
   "outputs": [
    {
     "data": {
      "application/vnd.jupyter.widget-view+json": {
       "model_id": "885ebc1b-f80d-4057-9ee6-9458506d1dab",
       "version_major": 2,
       "version_minor": 0
      },
      "method": "display_data"
     },
     "metadata": {},
     "output_type": "display_data"
    }
   ],
   "source": [
    "SELECT * FROM ReceitasRecipe LIMIT 10;\n"
   ]
  },
  {
   "cell_type": "markdown",
   "metadata": {},
   "source": [
    "Unindo todas as receitas em uma única VIEW:"
   ]
  },
  {
   "cell_type": "code",
   "execution_count": 13,
   "metadata": {
    "vscode": {
     "languageId": "sql"
    }
   },
   "outputs": [],
   "source": [
    "DROP VIEW IF EXISTS ReceitaFinal;\n",
    "\n",
    "CREATE VIEW ReceitaFinal AS\n",
    "    SELECT * FROM ReceitasFlavor\n",
    "    UNION\n",
    "    SELECT * FROM ReceitasCulinary\n",
    "    UNION\n",
    "    SELECT * FROM ReceitasRecipe\n",
    "    ORDER BY IDReceita;\n"
   ]
  },
  {
   "cell_type": "markdown",
   "metadata": {},
   "source": [
    "Visualizando:"
   ]
  },
  {
   "cell_type": "code",
   "execution_count": 14,
   "metadata": {
    "vscode": {
     "languageId": "sql"
    }
   },
   "outputs": [
    {
     "data": {
      "application/vnd.jupyter.widget-view+json": {
       "model_id": "793b5422-e0ac-4dda-a93a-d05b0924390b",
       "version_major": 2,
       "version_minor": 0
      },
      "method": "display_data"
     },
     "metadata": {},
     "output_type": "display_data"
    }
   ],
   "source": [
    "SELECT * FROM ReceitaFinal LIMIT 10;\n"
   ]
  },
  {
   "cell_type": "markdown",
   "metadata": {},
   "source": [
    "Exportando os dados:"
   ]
  },
  {
   "cell_type": "code",
   "execution_count": 15,
   "metadata": {
    "vscode": {
     "languageId": "sql"
    }
   },
   "outputs": [
    {
     "data": {
      "text/plain": [
       "255224"
      ]
     },
     "execution_count": 15,
     "metadata": {},
     "output_type": "execute_result"
    }
   ],
   "source": [
    "CALL CSVWRITE('../data/processed/database/receita.csv',\n",
    "              'SELECT * FROM ReceitaFinal');\n"
   ]
  },
  {
   "cell_type": "markdown",
   "metadata": {},
   "source": [
    "### Ingrediente"
   ]
  },
  {
   "cell_type": "markdown",
   "metadata": {},
   "source": [
    "Os ingredientes finais da base são os construídos no notebook de análises do FooDB e os ingredientes compostos da base do CulinaryDB:"
   ]
  },
  {
   "cell_type": "code",
   "execution_count": 16,
   "metadata": {
    "vscode": {
     "languageId": "sql"
    }
   },
   "outputs": [],
   "source": [
    "DROP TABLE IF EXISTS IngredientesSimples;\n",
    "DROP TABLE IF EXISTS IngredientesCompostos;\n",
    "\n",
    "CREATE TABLE IngredientesSimples (\n",
    "  Nome VARCHAR(80),\n",
    "  Classificacao VARCHAR(50),\n",
    "  PRIMARY KEY (Nome)\n",
    ") AS SELECT\n",
    "  NOME, CLASSIFICACAO\n",
    "FROM CSVREAD('../data/interim/foodb/ingredientes.csv');\n",
    "\n",
    "CREATE TABLE IngredientesCompostos (\n",
    "  Nome VARCHAR(80),\n",
    "  Classificacao VARCHAR(50),\n",
    "  PRIMARY KEY (Nome)\n",
    ") AS SELECT\n",
    "  Compound_Ingredient_Name, Category\n",
    "FROM CSVREAD('../data/interim/culinarydb/dadoscompostos.csv');\n"
   ]
  },
  {
   "cell_type": "markdown",
   "metadata": {},
   "source": [
    "Visualizando:"
   ]
  },
  {
   "cell_type": "code",
   "execution_count": 17,
   "metadata": {
    "vscode": {
     "languageId": "sql"
    }
   },
   "outputs": [
    {
     "data": {
      "application/vnd.jupyter.widget-view+json": {
       "model_id": "8f1701f6-c029-4d08-93d7-487353952866",
       "version_major": 2,
       "version_minor": 0
      },
      "method": "display_data"
     },
     "metadata": {},
     "output_type": "display_data"
    }
   ],
   "source": [
    "SELECT * FROM IngredientesSimples LIMIT 10;\n"
   ]
  },
  {
   "cell_type": "code",
   "execution_count": 18,
   "metadata": {
    "vscode": {
     "languageId": "sql"
    }
   },
   "outputs": [
    {
     "data": {
      "application/vnd.jupyter.widget-view+json": {
       "model_id": "e59d1b15-9389-4eee-9751-2c5dcae86e7c",
       "version_major": 2,
       "version_minor": 0
      },
      "method": "display_data"
     },
     "metadata": {},
     "output_type": "display_data"
    }
   ],
   "source": [
    "SELECT * FROM IngredientesCompostos LIMIT 10;\n"
   ]
  },
  {
   "cell_type": "markdown",
   "metadata": {},
   "source": [
    "Juntando os ingredientes em uma única VIEW:"
   ]
  },
  {
   "cell_type": "code",
   "execution_count": 19,
   "metadata": {
    "vscode": {
     "languageId": "sql"
    }
   },
   "outputs": [],
   "source": [
    "DROP VIEW IF EXISTS Ingrediente;\n",
    "\n",
    "CREATE VIEW Ingrediente AS\n",
    "    SELECT * FROM IngredientesSimples\n",
    "    UNION\n",
    "    -- Somente realizar a união de ingredientes que já não estejam catalogados no FooDB\n",
    "    (SELECT * FROM IngredientesCompostos WHERE Nome NOT IN (SELECT Nome FROM IngredientesSimples))\n",
    "    ORDER BY Nome;\n"
   ]
  },
  {
   "cell_type": "markdown",
   "metadata": {},
   "source": [
    "Visualizando:"
   ]
  },
  {
   "cell_type": "code",
   "execution_count": 20,
   "metadata": {
    "vscode": {
     "languageId": "sql"
    }
   },
   "outputs": [
    {
     "data": {
      "application/vnd.jupyter.widget-view+json": {
       "model_id": "6c004c25-1eeb-4399-a288-704f7d0ee5e1",
       "version_major": 2,
       "version_minor": 0
      },
      "method": "display_data"
     },
     "metadata": {},
     "output_type": "display_data"
    }
   ],
   "source": [
    "SELECT * FROM Ingrediente LIMIT 10;\n"
   ]
  },
  {
   "cell_type": "markdown",
   "metadata": {},
   "source": [
    "As classificações dos ingredientes compostos ainda não foram definidas em um arquivo próprio:"
   ]
  },
  {
   "cell_type": "code",
   "execution_count": 21,
   "metadata": {
    "vscode": {
     "languageId": "sql"
    }
   },
   "outputs": [
    {
     "data": {
      "text/plain": [
       "12"
      ]
     },
     "execution_count": 21,
     "metadata": {},
     "output_type": "execute_result"
    }
   ],
   "source": [
    "CALL CSVWRITE('../data/interim/culinarydb/classificacoescompostos.csv',\n",
    "              'SELECT DISTINCT Classificacao FROM IngredientesCompostos');\n"
   ]
  },
  {
   "cell_type": "markdown",
   "metadata": {},
   "source": [
    "Exportando os dados dos ingredientes:"
   ]
  },
  {
   "cell_type": "code",
   "execution_count": 22,
   "metadata": {
    "vscode": {
     "languageId": "sql"
    }
   },
   "outputs": [
    {
     "data": {
      "text/plain": [
       "1081"
      ]
     },
     "execution_count": 22,
     "metadata": {},
     "output_type": "execute_result"
    }
   ],
   "source": [
    "CALL CSVWRITE('../data/processed/database/ingrediente.csv',\n",
    "              'SELECT * FROM Ingrediente');\n"
   ]
  },
  {
   "cell_type": "markdown",
   "metadata": {},
   "source": [
    "### IngredienteComposto"
   ]
  },
  {
   "cell_type": "markdown",
   "metadata": {},
   "source": [
    "Acontece de alguns ingredientes compostos do CulinaryDB já existirem na base do FooDB e, por isso, já terem quantidades de nutrientes associadas. Assim, esses ingredientes devem ser considerados como ingredientes simples no modelo. Os que não existirem ainda precisam ter seus ingredientes base associados."
   ]
  },
  {
   "cell_type": "markdown",
   "metadata": {},
   "source": [
    "Importando os dados:"
   ]
  },
  {
   "cell_type": "code",
   "execution_count": 23,
   "metadata": {
    "vscode": {
     "languageId": "sql"
    }
   },
   "outputs": [],
   "source": [
    "DROP TABLE IF EXISTS AssociacaoCompostosSimples;\n",
    "\n",
    "CREATE TABLE AssociacaoCompostosSimples (\n",
    "  IngredienteComposto VARCHAR(80),\n",
    "  IngredienteOriginal VARCHAR(80),\n",
    "  PRIMARY KEY (IngredienteComposto, IngredienteOriginal)\n",
    ") AS SELECT\n",
    "  INGREDIENTECOMPOSTO, INGREDIENTEORIGINAL\n",
    "FROM CSVREAD('../data/interim/culinarydb/ingredientecomposto.csv');\n"
   ]
  },
  {
   "cell_type": "markdown",
   "metadata": {},
   "source": [
    "Visualizando:"
   ]
  },
  {
   "cell_type": "code",
   "execution_count": 24,
   "metadata": {
    "vscode": {
     "languageId": "sql"
    }
   },
   "outputs": [
    {
     "data": {
      "application/vnd.jupyter.widget-view+json": {
       "model_id": "d27cf40c-7ec1-43de-ad3f-9906d1f1d33d",
       "version_major": 2,
       "version_minor": 0
      },
      "method": "display_data"
     },
     "metadata": {},
     "output_type": "display_data"
    }
   ],
   "source": [
    "SELECT * FROM AssociacaoCompostosSimples LIMIT 10;\n"
   ]
  },
  {
   "cell_type": "markdown",
   "metadata": {},
   "source": [
    "Desconsiderando ingredientes que sejam ingredientes simples do FooDB:"
   ]
  },
  {
   "cell_type": "code",
   "execution_count": 25,
   "metadata": {
    "vscode": {
     "languageId": "sql"
    }
   },
   "outputs": [],
   "source": [
    "DELETE FROM AssociacaoCompostosSimples\n",
    "WHERE IngredienteComposto IN (SELECT Nome FROM IngredientesSimples);\n"
   ]
  },
  {
   "cell_type": "markdown",
   "metadata": {},
   "source": [
    "Exportando esses dados:"
   ]
  },
  {
   "cell_type": "code",
   "execution_count": 26,
   "metadata": {
    "vscode": {
     "languageId": "sql"
    }
   },
   "outputs": [
    {
     "data": {
      "text/plain": [
       "406"
      ]
     },
     "execution_count": 26,
     "metadata": {},
     "output_type": "execute_result"
    }
   ],
   "source": [
    "CALL CSVWRITE('../data/processed/database/ingredientecomposto.csv',\n",
    "              'SELECT * FROM AssociacaoCompostosSimples ORDER BY IngredienteComposto');\n"
   ]
  },
  {
   "cell_type": "markdown",
   "metadata": {},
   "source": [
    "### Sabor"
   ]
  },
  {
   "cell_type": "markdown",
   "metadata": {},
   "source": [
    "Os dados dos sabores serão montados a partir dos dados do Flavor Network. Um problema é que, mesmo no Flavor Network, alguns sabores são formados por ingredientes que não fazem parte da base. Considerando o modelo relacional proposto, não faz sentido ter sabores relacionados a um ingrediente que não está na base. Assim, os sabores só existirão se eles relacionarem dois ingredientes da base, ou seja, ingredientes cuja integração com o FooDB foi feita."
   ]
  },
  {
   "cell_type": "markdown",
   "metadata": {},
   "source": [
    "Importando os sabores e os ingredientes finais (agora construídos na base final)"
   ]
  },
  {
   "cell_type": "code",
   "execution_count": 27,
   "metadata": {
    "vscode": {
     "languageId": "sql"
    }
   },
   "outputs": [],
   "source": [
    "DROP TABLE IF EXISTS Ingredientes;\n",
    "DROP TABLE IF EXISTS Sabores;\n",
    "\n",
    "CREATE TABLE Ingredientes (\n",
    "  Nome VARCHAR(80),\n",
    "  PRIMARY KEY (Nome)\n",
    ") AS SELECT\n",
    "  Nome\n",
    "FROM CSVREAD('../data/processed/database/ingrediente.csv');\n",
    "\n",
    "CREATE TABLE Sabores (\n",
    "  ID INT,\n",
    "  A VARCHAR(80),\n",
    "  B VARCHAR(80),\n",
    "  Quantidade INT,\n",
    "  PRIMARY KEY (ID)\n",
    ") AS SELECT\n",
    "  ID, A, B, QUANTIDADE\n",
    "FROM CSVREAD('../data/interim/flavor network/saboresfinais.csv');\n"
   ]
  },
  {
   "cell_type": "markdown",
   "metadata": {},
   "source": [
    "Visualizando:"
   ]
  },
  {
   "cell_type": "code",
   "execution_count": 28,
   "metadata": {
    "vscode": {
     "languageId": "sql"
    }
   },
   "outputs": [
    {
     "data": {
      "application/vnd.jupyter.widget-view+json": {
       "model_id": "0c02e234-223f-47c9-ba2a-8d5be5588876",
       "version_major": 2,
       "version_minor": 0
      },
      "method": "display_data"
     },
     "metadata": {},
     "output_type": "display_data"
    }
   ],
   "source": [
    "SELECT * FROM Ingredientes LIMIT 10;\n"
   ]
  },
  {
   "cell_type": "code",
   "execution_count": 29,
   "metadata": {
    "vscode": {
     "languageId": "sql"
    }
   },
   "outputs": [
    {
     "data": {
      "application/vnd.jupyter.widget-view+json": {
       "model_id": "fae5f2cb-c067-4a69-ab35-33825e7a218a",
       "version_major": 2,
       "version_minor": 0
      },
      "method": "display_data"
     },
     "metadata": {},
     "output_type": "display_data"
    }
   ],
   "source": [
    "SELECT * FROM Sabores LIMIT 10;\n"
   ]
  },
  {
   "cell_type": "markdown",
   "metadata": {},
   "source": [
    "Apagando os sabores que contêm algum ingrediente que não faz parte da lista final:"
   ]
  },
  {
   "cell_type": "code",
   "execution_count": 30,
   "metadata": {
    "vscode": {
     "languageId": "sql"
    }
   },
   "outputs": [],
   "source": [
    "DELETE FROM Sabores S\n",
    "WHERE S.A NOT IN (SELECT Nome FROM Ingredientes);\n",
    "\n",
    "DELETE FROM Sabores S\n",
    "WHERE S.B NOT IN (SELECT Nome FROM Ingredientes);\n"
   ]
  },
  {
   "cell_type": "markdown",
   "metadata": {},
   "source": [
    "Exportando"
   ]
  },
  {
   "cell_type": "code",
   "execution_count": 31,
   "metadata": {
    "vscode": {
     "languageId": "sql"
    }
   },
   "outputs": [
    {
     "data": {
      "text/plain": [
       "41430"
      ]
     },
     "execution_count": 31,
     "metadata": {},
     "output_type": "execute_result"
    }
   ],
   "source": [
    "CALL CSVWRITE('../data/processed/database/sabor.csv',\n",
    "              'SELECT * FROM Sabores');\n"
   ]
  },
  {
   "cell_type": "markdown",
   "metadata": {},
   "source": [
    "### Classificacao"
   ]
  },
  {
   "cell_type": "markdown",
   "metadata": {},
   "source": [
    "A classificação dos ingredientes segundo a hierarquia já foi feita no notebook de análises do FooDB. No entanto, ainda é preciso considerar as classificações dos ingredientes compostos do CulinaryDB."
   ]
  },
  {
   "cell_type": "code",
   "execution_count": 32,
   "metadata": {
    "vscode": {
     "languageId": "sql"
    }
   },
   "outputs": [],
   "source": [
    "DROP TABLE IF EXISTS Classificacao;\n",
    "\n",
    "CREATE TABLE Classificacao (\n",
    "  Nome VARCHAR(100),\n",
    "  CategoriaSuperior VARCHAR(100),\n",
    "  PRIMARY KEY (Nome)\n",
    ") AS SELECT\n",
    "  CategoriaInferior, CategoriaSuperior\n",
    "FROM CSVREAD('../data/interim/foodb/classificacao.csv');\n"
   ]
  },
  {
   "cell_type": "markdown",
   "metadata": {},
   "source": [
    "Visualizando:"
   ]
  },
  {
   "cell_type": "code",
   "execution_count": 33,
   "metadata": {
    "vscode": {
     "languageId": "sql"
    }
   },
   "outputs": [
    {
     "data": {
      "application/vnd.jupyter.widget-view+json": {
       "model_id": "6740b08d-fd37-44cd-9157-2393a87ee7c3",
       "version_major": 2,
       "version_minor": 0
      },
      "method": "display_data"
     },
     "metadata": {},
     "output_type": "display_data"
    }
   ],
   "source": [
    "SELECT * FROM Classificacao LIMIT 10;\n"
   ]
  },
  {
   "cell_type": "markdown",
   "metadata": {},
   "source": [
    "Inserindo as classificações do CulinaryDB:"
   ]
  },
  {
   "cell_type": "code",
   "execution_count": 34,
   "metadata": {
    "vscode": {
     "languageId": "sql"
    }
   },
   "outputs": [],
   "source": [
    "INSERT INTO Classificacao(Nome)\n",
    "SELECT DISTINCT Classificacao\n",
    "FROM IngredientesCompostos;\n"
   ]
  },
  {
   "cell_type": "markdown",
   "metadata": {},
   "source": [
    "Exportando:"
   ]
  },
  {
   "cell_type": "code",
   "execution_count": 35,
   "metadata": {
    "vscode": {
     "languageId": "sql"
    }
   },
   "outputs": [
    {
     "data": {
      "text/plain": [
       "132"
      ]
     },
     "execution_count": 35,
     "metadata": {},
     "output_type": "execute_result"
    }
   ],
   "source": [
    "CALL CSVWRITE('../data/processed/database/classificacao.csv',\n",
    "              'SELECT * FROM Classificacao');\n"
   ]
  }
 ],
 "metadata": {
  "kernelspec": {
   "display_name": "SQL",
   "language": "SQL",
   "name": "sql"
  },
  "language_info": {
   "codemirror_mode": "sql",
   "file_extension": ".sql",
   "mimetype": "",
   "name": "SQL",
   "nbconverter_exporter": "",
   "version": ""
  },
  "toc": {
   "base_numbering": 1,
   "nav_menu": {},
   "number_sections": false,
   "sideBar": false,
   "skip_h1_title": false,
   "title_cell": "Table of Contents",
   "title_sidebar": "Contents",
   "toc_cell": false,
   "toc_position": {},
   "toc_section_display": false,
   "toc_window_display": false
  }
 },
 "nbformat": 4,
 "nbformat_minor": 2
}
