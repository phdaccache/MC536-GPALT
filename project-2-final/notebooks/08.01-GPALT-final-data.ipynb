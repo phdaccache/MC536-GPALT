{
 "cells": [
  {
   "cell_type": "markdown",
   "metadata": {},
   "source": [
    "# Construção da base final - Equipe GPALT (Analistas de Cardápios)"
   ]
  },
  {
   "cell_type": "markdown",
   "metadata": {},
   "source": [
    "Ativando uma conexão de banco de dados em memória usando o SGBD H2:"
   ]
  },
  {
   "cell_type": "code",
   "execution_count": 1,
   "metadata": {
    "vscode": {
     "languageId": "sql"
    }
   },
   "outputs": [],
   "source": [
    "%defaultDatasource jdbc:h2:mem:db\n"
   ]
  },
  {
   "cell_type": "markdown",
   "metadata": {},
   "source": [
    "# Importando dados processados"
   ]
  },
  {
   "cell_type": "markdown",
   "metadata": {},
   "source": [
    "A partir dos notebooks anteriores, foi possível construir dados segundo o modelo proposto, integrando cada base da maneira que foi necessário. Resta, agora, construir os dados para o modelo final. O que falta será feito agora (por exemplo, receitas de bases diferentes precisam ser unidas em um único arquivo) seguindo a ordem mostrada no modelo relacional por simplicidade."
   ]
  },
  {
   "cell_type": "markdown",
   "metadata": {},
   "source": [
    "### Origem"
   ]
  },
  {
   "cell_type": "markdown",
   "metadata": {},
   "source": [
    "As origens das receitas foram alteradas - agora, não é mais necessário um atributo de tipo, porque todas as referências são a regiões do mundo. Isso aconteceu porque as referências a países nas receitas do RecipeNLG, de onde essas informações inicialmente seriam retiradas, não foram boas. Essa informação teria de ser buscada a partir do nome das receitas, e a quantidade não era grande o suficiente para justificar o processamento."
   ]
  },
  {
   "cell_type": "code",
   "execution_count": 2,
   "metadata": {
    "vscode": {
     "languageId": "sql"
    }
   },
   "outputs": [],
   "source": [
    "DROP TABLE IF EXISTS OrigemFlavor;\n",
    "DROP TABLE IF EXISTS OrigemCulinary;\n",
    "\n",
    "CREATE TABLE OrigemFlavor (\n",
    "  Origem VARCHAR(50),\n",
    "  PRIMARY KEY (Origem)\n",
    ") AS SELECT\n",
    "  Origem\n",
    "FROM CSVREAD('../data/interim/flavor network/origens.csv');\n",
    "\n",
    "CREATE TABLE OrigemCulinary (\n",
    "  Origem VARCHAR(50),\n",
    "  PRIMARY KEY (Origem)\n",
    "  ) AS SELECT\n",
    "    Origem\n",
    "  FROM CSVREAD('../data/interim/culinarydb/origens.csv');\n"
   ]
  },
  {
   "cell_type": "markdown",
   "metadata": {},
   "source": [
    "Visualizando:"
   ]
  },
  {
   "cell_type": "code",
   "execution_count": 3,
   "metadata": {
    "vscode": {
     "languageId": "sql"
    }
   },
   "outputs": [
    {
     "data": {
      "application/vnd.jupyter.widget-view+json": {
       "model_id": "24f72792-9749-4936-ae71-9663d7b3b7b3",
       "version_major": 2,
       "version_minor": 0
      },
      "method": "display_data"
     },
     "metadata": {},
     "output_type": "display_data"
    }
   ],
   "source": [
    "SELECT * FROM OrigemFlavor LIMIT 10;\n"
   ]
  },
  {
   "cell_type": "code",
   "execution_count": 4,
   "metadata": {
    "vscode": {
     "languageId": "sql"
    }
   },
   "outputs": [
    {
     "data": {
      "application/vnd.jupyter.widget-view+json": {
       "model_id": "981fd1cd-7c28-4289-b553-e86fc88b2ac4",
       "version_major": 2,
       "version_minor": 0
      },
      "method": "display_data"
     },
     "metadata": {},
     "output_type": "display_data"
    }
   ],
   "source": [
    "SELECT * FROM OrigemCulinary LIMIT 10;\n"
   ]
  },
  {
   "cell_type": "markdown",
   "metadata": {},
   "source": [
    "Unindo todas as origens em uma única VIEW:"
   ]
  },
  {
   "cell_type": "code",
   "execution_count": 5,
   "metadata": {
    "vscode": {
     "languageId": "sql"
    }
   },
   "outputs": [],
   "source": [
    "DROP VIEW IF EXISTS OrigemFinal;\n",
    "\n",
    "CREATE VIEW OrigemFinal AS\n",
    "    SELECT * FROM OrigemFlavor\n",
    "    UNION\n",
    "    SELECT * FROM OrigemCulinary\n",
    "    ORDER BY Origem;\n"
   ]
  },
  {
   "cell_type": "markdown",
   "metadata": {},
   "source": [
    "Visualizando:"
   ]
  },
  {
   "cell_type": "code",
   "execution_count": 6,
   "metadata": {
    "vscode": {
     "languageId": "sql"
    }
   },
   "outputs": [
    {
     "data": {
      "application/vnd.jupyter.widget-view+json": {
       "model_id": "83899e03-dcf8-4678-8019-41c95d823c76",
       "version_major": 2,
       "version_minor": 0
      },
      "method": "display_data"
     },
     "metadata": {},
     "output_type": "display_data"
    }
   ],
   "source": [
    "SELECT * FROM OrigemFinal LIMIT 10;\n"
   ]
  },
  {
   "cell_type": "markdown",
   "metadata": {},
   "source": [
    "Exportando os dados"
   ]
  },
  {
   "cell_type": "code",
   "execution_count": 7,
   "metadata": {
    "vscode": {
     "languageId": "sql"
    }
   },
   "outputs": [
    {
     "data": {
      "text/plain": [
       "37"
      ]
     },
     "execution_count": 7,
     "metadata": {},
     "output_type": "execute_result"
    }
   ],
   "source": [
    "CALL CSVWRITE('../data/processed/database/origem.csv',\n",
    "              'SELECT * FROM OrigemFinal');\n"
   ]
  },
  {
   "cell_type": "markdown",
   "metadata": {},
   "source": [
    "### Receita"
   ]
  },
  {
   "cell_type": "markdown",
   "metadata": {},
   "source": [
    "Nos notebooks anteriores, houve um trabalho de padronizar os dados das receitas segundo o modelo. Assim, resta importar esses dados e juntar em um único arquivo csv."
   ]
  },
  {
   "cell_type": "code",
   "execution_count": 8,
   "metadata": {
    "vscode": {
     "languageId": "sql"
    }
   },
   "outputs": [],
   "source": [
    "DROP TABLE IF EXISTS ReceitasFlavor;\n",
    "DROP TABLE IF EXISTS ReceitasCulinary;\n",
    "DROP TABLE IF EXISTS ReceitasRecipe;\n",
    "\n",
    "CREATE TABLE ReceitasFlavor (\n",
    "  IDReceita INT,\n",
    "  NomeReceita VARCHAR(200),\n",
    "  BancoOriginal VARCHAR(20),\n",
    "  Origem VARCHAR(30),\n",
    "  PRIMARY KEY (IDReceita)\n",
    ") AS SELECT\n",
    "  IDReceita, Nome, BancoOriginal, Origem\n",
    "FROM CSVREAD('../data/interim/flavor network/receitas.csv');\n",
    "\n",
    "CREATE TABLE ReceitasCulinary (\n",
    "  IDReceita INT,\n",
    "  NomeReceita VARCHAR(200),\n",
    "  BancoOriginal VARCHAR(20),\n",
    "  Origem VARCHAR(30),\n",
    "  PRIMARY KEY (IDReceita)\n",
    ") AS SELECT\n",
    "  IDReceita, Nome, BancoOriginal, Origem\n",
    "FROM CSVREAD('../data/interim/culinarydb/receitas.csv');\n",
    "\n",
    "CREATE TABLE ReceitasRecipe (\n",
    "  IDReceita INT,\n",
    "  NomeReceita VARCHAR(200),\n",
    "  BancoOriginal VARCHAR(20),\n",
    "  Origem VARCHAR(30),\n",
    "  PRIMARY KEY (IDReceita)\n",
    ") AS SELECT\n",
    "  ID, Nome, BancoOriginal, Origem\n",
    "FROM CSVREAD('../data/interim/recipenlg/receitasfinais.csv');\n"
   ]
  },
  {
   "cell_type": "markdown",
   "metadata": {},
   "source": [
    "Visualizando:"
   ]
  },
  {
   "cell_type": "code",
   "execution_count": 9,
   "metadata": {
    "vscode": {
     "languageId": "sql"
    }
   },
   "outputs": [
    {
     "data": {
      "application/vnd.jupyter.widget-view+json": {
       "model_id": "a4c7f23b-e983-40f9-b490-3c78fe872cd0",
       "version_major": 2,
       "version_minor": 0
      },
      "method": "display_data"
     },
     "metadata": {},
     "output_type": "display_data"
    }
   ],
   "source": [
    "SELECT * FROM ReceitasFlavor LIMIT 10;\n"
   ]
  },
  {
   "cell_type": "code",
   "execution_count": 10,
   "metadata": {
    "vscode": {
     "languageId": "sql"
    }
   },
   "outputs": [
    {
     "data": {
      "application/vnd.jupyter.widget-view+json": {
       "model_id": "f211432a-e61c-4b36-ae20-b8653b7feed1",
       "version_major": 2,
       "version_minor": 0
      },
      "method": "display_data"
     },
     "metadata": {},
     "output_type": "display_data"
    }
   ],
   "source": [
    "SELECT * FROM ReceitasCulinary LIMIT 10;\n"
   ]
  },
  {
   "cell_type": "code",
   "execution_count": 11,
   "metadata": {
    "vscode": {
     "languageId": "sql"
    }
   },
   "outputs": [
    {
     "data": {
      "application/vnd.jupyter.widget-view+json": {
       "model_id": "0014f4f6-310f-4553-aa54-ee597b127be0",
       "version_major": 2,
       "version_minor": 0
      },
      "method": "display_data"
     },
     "metadata": {},
     "output_type": "display_data"
    }
   ],
   "source": [
    "SELECT * FROM ReceitasRecipe LIMIT 10;\n"
   ]
  },
  {
   "cell_type": "markdown",
   "metadata": {},
   "source": [
    "Unindo todas as receitas em uma única VIEW:"
   ]
  },
  {
   "cell_type": "code",
   "execution_count": 12,
   "metadata": {
    "vscode": {
     "languageId": "sql"
    }
   },
   "outputs": [],
   "source": [
    "DROP VIEW IF EXISTS ReceitaFinal;\n",
    "\n",
    "CREATE VIEW ReceitaFinal AS\n",
    "    SELECT * FROM ReceitasFlavor\n",
    "    UNION\n",
    "    SELECT * FROM ReceitasCulinary\n",
    "    UNION\n",
    "    SELECT * FROM ReceitasRecipe\n",
    "    ORDER BY IDReceita;\n"
   ]
  },
  {
   "cell_type": "markdown",
   "metadata": {},
   "source": [
    "Visualizando:"
   ]
  },
  {
   "cell_type": "code",
   "execution_count": 13,
   "metadata": {
    "vscode": {
     "languageId": "sql"
    }
   },
   "outputs": [
    {
     "data": {
      "application/vnd.jupyter.widget-view+json": {
       "model_id": "f26164c5-39b9-4020-b755-d72448e15348",
       "version_major": 2,
       "version_minor": 0
      },
      "method": "display_data"
     },
     "metadata": {},
     "output_type": "display_data"
    }
   ],
   "source": [
    "SELECT * FROM ReceitaFinal LIMIT 10;\n"
   ]
  },
  {
   "cell_type": "markdown",
   "metadata": {},
   "source": [
    "Exportando os dados:"
   ]
  },
  {
   "cell_type": "code",
   "execution_count": 14,
   "metadata": {
    "vscode": {
     "languageId": "sql"
    }
   },
   "outputs": [
    {
     "data": {
      "text/plain": [
       "255224"
      ]
     },
     "execution_count": 14,
     "metadata": {},
     "output_type": "execute_result"
    }
   ],
   "source": [
    "CALL CSVWRITE('../data/processed/database/receita.csv',\n",
    "              'SELECT * FROM ReceitaFinal');\n"
   ]
  },
  {
   "cell_type": "markdown",
   "metadata": {},
   "source": [
    "### Ingrediente"
   ]
  },
  {
   "cell_type": "markdown",
   "metadata": {},
   "source": [
    "Os ingredientes finais da base são os construídos no notebook de análises do FooDB e os ingredientes compostos da base do CulinaryDB:"
   ]
  },
  {
   "cell_type": "code",
   "execution_count": 15,
   "metadata": {
    "vscode": {
     "languageId": "sql"
    }
   },
   "outputs": [],
   "source": [
    "DROP TABLE IF EXISTS IngredientesSimples;\n",
    "DROP TABLE IF EXISTS IngredientesCompostos;\n",
    "\n",
    "CREATE TABLE IngredientesSimples (\n",
    "  Nome VARCHAR(80),\n",
    "  Classificacao VARCHAR(50),\n",
    "  PRIMARY KEY (Nome)\n",
    ") AS SELECT\n",
    "  NOME, CLASSIFICACAO\n",
    "FROM CSVREAD('../data/interim/foodb/ingredientes.csv');\n",
    "\n",
    "CREATE TABLE IngredientesCompostos (\n",
    "  Nome VARCHAR(80),\n",
    "  Classificacao VARCHAR(50),\n",
    "  PRIMARY KEY (Nome)\n",
    ") AS SELECT\n",
    "  Compound_Ingredient_Name, Category\n",
    "FROM CSVREAD('../data/interim/culinarydb/dadoscompostos.csv');\n"
   ]
  },
  {
   "cell_type": "markdown",
   "metadata": {},
   "source": [
    "Visualizando:"
   ]
  },
  {
   "cell_type": "code",
   "execution_count": 16,
   "metadata": {
    "vscode": {
     "languageId": "sql"
    }
   },
   "outputs": [
    {
     "data": {
      "application/vnd.jupyter.widget-view+json": {
       "model_id": "1926690f-07f7-43b4-b14e-9bfb6629f7f9",
       "version_major": 2,
       "version_minor": 0
      },
      "method": "display_data"
     },
     "metadata": {},
     "output_type": "display_data"
    }
   ],
   "source": [
    "SELECT * FROM IngredientesSimples LIMIT 10;\n"
   ]
  },
  {
   "cell_type": "code",
   "execution_count": 17,
   "metadata": {
    "vscode": {
     "languageId": "sql"
    }
   },
   "outputs": [
    {
     "data": {
      "application/vnd.jupyter.widget-view+json": {
       "model_id": "d5b5f831-06bf-4177-84fd-57284dcc9a87",
       "version_major": 2,
       "version_minor": 0
      },
      "method": "display_data"
     },
     "metadata": {},
     "output_type": "display_data"
    }
   ],
   "source": [
    "SELECT * FROM IngredientesCompostos LIMIT 10;\n"
   ]
  },
  {
   "cell_type": "markdown",
   "metadata": {},
   "source": [
    "Juntando os ingredientes em uma única VIEW:"
   ]
  },
  {
   "cell_type": "code",
   "execution_count": 18,
   "metadata": {
    "vscode": {
     "languageId": "sql"
    }
   },
   "outputs": [],
   "source": [
    "DROP VIEW IF EXISTS Ingrediente;\n",
    "\n",
    "CREATE VIEW Ingrediente AS\n",
    "    SELECT * FROM IngredientesSimples\n",
    "    UNION\n",
    "    -- Somente realizar a união de ingredientes que já não estejam catalogados no FooDB\n",
    "    (SELECT * FROM IngredientesCompostos WHERE Nome NOT IN (SELECT Nome FROM IngredientesSimples))\n",
    "    ORDER BY Nome;\n"
   ]
  },
  {
   "cell_type": "markdown",
   "metadata": {},
   "source": [
    "Visualizando:"
   ]
  },
  {
   "cell_type": "code",
   "execution_count": 19,
   "metadata": {
    "vscode": {
     "languageId": "sql"
    }
   },
   "outputs": [
    {
     "data": {
      "application/vnd.jupyter.widget-view+json": {
       "model_id": "e04362e9-e9b9-447f-bd8f-5ecf277e5379",
       "version_major": 2,
       "version_minor": 0
      },
      "method": "display_data"
     },
     "metadata": {},
     "output_type": "display_data"
    }
   ],
   "source": [
    "SELECT * FROM Ingrediente LIMIT 10;\n"
   ]
  },
  {
   "cell_type": "markdown",
   "metadata": {},
   "source": [
    "As classificações dos ingredientes compostos ainda não foram definidas em um arquivo próprio:"
   ]
  },
  {
   "cell_type": "code",
   "execution_count": 20,
   "metadata": {
    "vscode": {
     "languageId": "sql"
    }
   },
   "outputs": [
    {
     "data": {
      "text/plain": [
       "12"
      ]
     },
     "execution_count": 20,
     "metadata": {},
     "output_type": "execute_result"
    }
   ],
   "source": [
    "CALL CSVWRITE('../data/interim/culinarydb/classificacoescompostos.csv',\n",
    "              'SELECT DISTINCT Classificacao FROM IngredientesCompostos');\n"
   ]
  },
  {
   "cell_type": "markdown",
   "metadata": {},
   "source": [
    "Exportando os dados dos ingredientes:"
   ]
  },
  {
   "cell_type": "code",
   "execution_count": 21,
   "metadata": {
    "vscode": {
     "languageId": "sql"
    }
   },
   "outputs": [
    {
     "data": {
      "text/plain": [
       "1081"
      ]
     },
     "execution_count": 21,
     "metadata": {},
     "output_type": "execute_result"
    }
   ],
   "source": [
    "CALL CSVWRITE('../data/processed/database/ingrediente.csv',\n",
    "              'SELECT * FROM Ingrediente');\n"
   ]
  },
  {
   "cell_type": "markdown",
   "metadata": {},
   "source": [
    "### IngredienteComposto"
   ]
  },
  {
   "cell_type": "markdown",
   "metadata": {},
   "source": [
    "Acontece de alguns ingredientes compostos do CulinaryDB já existirem na base do FooDB e, por isso, já terem quantidades de nutrientes associadas. Assim, esses ingredientes devem ser considerados como ingredientes simples no modelo. Os que não existirem ainda precisam ter seus ingredientes base associados."
   ]
  },
  {
   "cell_type": "markdown",
   "metadata": {},
   "source": [
    "Importando os dados:"
   ]
  },
  {
   "cell_type": "code",
   "execution_count": 22,
   "metadata": {
    "vscode": {
     "languageId": "sql"
    }
   },
   "outputs": [],
   "source": [
    "DROP TABLE IF EXISTS AssociacaoCompostosSimples;\n",
    "\n",
    "CREATE TABLE AssociacaoCompostosSimples (\n",
    "  IngredienteComposto VARCHAR(80),\n",
    "  IngredienteOriginal VARCHAR(80),\n",
    "  PRIMARY KEY (IngredienteComposto, IngredienteOriginal)\n",
    ") AS SELECT\n",
    "  INGREDIENTECOMPOSTO, INGREDIENTEORIGINAL\n",
    "FROM CSVREAD('../data/interim/culinarydb/ingredientecomposto.csv');\n"
   ]
  },
  {
   "cell_type": "markdown",
   "metadata": {},
   "source": [
    "Visualizando:"
   ]
  },
  {
   "cell_type": "code",
   "execution_count": 23,
   "metadata": {
    "vscode": {
     "languageId": "sql"
    }
   },
   "outputs": [
    {
     "data": {
      "application/vnd.jupyter.widget-view+json": {
       "model_id": "786ce0b3-f592-4faf-9776-1224eef26164",
       "version_major": 2,
       "version_minor": 0
      },
      "method": "display_data"
     },
     "metadata": {},
     "output_type": "display_data"
    }
   ],
   "source": [
    "SELECT * FROM AssociacaoCompostosSimples LIMIT 10;\n"
   ]
  },
  {
   "cell_type": "markdown",
   "metadata": {},
   "source": [
    "Desconsiderando ingredientes que sejam ingredientes simples do FooDB:"
   ]
  },
  {
   "cell_type": "code",
   "execution_count": 24,
   "metadata": {
    "vscode": {
     "languageId": "sql"
    }
   },
   "outputs": [],
   "source": [
    "DELETE FROM AssociacaoCompostosSimples\n",
    "WHERE IngredienteComposto IN (SELECT Nome FROM IngredientesSimples);\n"
   ]
  },
  {
   "cell_type": "markdown",
   "metadata": {},
   "source": [
    "Exportando esses dados:"
   ]
  },
  {
   "cell_type": "code",
   "execution_count": 25,
   "metadata": {
    "vscode": {
     "languageId": "sql"
    }
   },
   "outputs": [
    {
     "data": {
      "text/plain": [
       "406"
      ]
     },
     "execution_count": 25,
     "metadata": {},
     "output_type": "execute_result"
    }
   ],
   "source": [
    "CALL CSVWRITE('../data/processed/database/ingredientecomposto.csv',\n",
    "              'SELECT * FROM AssociacaoCompostosSimples ORDER BY IngredienteComposto');\n"
   ]
  },
  {
   "cell_type": "markdown",
   "metadata": {},
   "source": [
    "### Sabor"
   ]
  },
  {
   "cell_type": "markdown",
   "metadata": {},
   "source": [
    "Os dados dos sabores serão montados a partir dos dados do Flavor Network. Um problema é que, mesmo no Flavor Network, alguns sabores são formados por ingredientes que não fazem parte da base. Considerando o modelo relacional proposto, não faz sentido ter sabores relacionados a um ingrediente que não está na base. Assim, os sabores só existirão se eles relacionarem dois ingredientes da base, ou seja, ingredientes cuja integração com o FooDB foi feita."
   ]
  },
  {
   "cell_type": "markdown",
   "metadata": {},
   "source": [
    "Importando os sabores e os ingredientes finais (agora construídos na base final)"
   ]
  },
  {
   "cell_type": "code",
   "execution_count": 26,
   "metadata": {
    "vscode": {
     "languageId": "sql"
    }
   },
   "outputs": [],
   "source": [
    "DROP TABLE IF EXISTS Ingredientes;\n",
    "DROP TABLE IF EXISTS Sabores;\n",
    "\n",
    "CREATE TABLE Ingredientes (\n",
    "  Nome VARCHAR(80),\n",
    "  PRIMARY KEY (Nome)\n",
    ") AS SELECT\n",
    "  Nome\n",
    "FROM CSVREAD('../data/processed/database/ingrediente.csv');\n",
    "\n",
    "CREATE TABLE Sabores (\n",
    "  ID INT,\n",
    "  A VARCHAR(80),\n",
    "  B VARCHAR(80),\n",
    "  Quantidade INT,\n",
    "  PRIMARY KEY (ID)\n",
    ") AS SELECT\n",
    "  ID, A, B, QUANTIDADE\n",
    "FROM CSVREAD('../data/interim/flavor network/saboresfinais.csv');\n"
   ]
  },
  {
   "cell_type": "markdown",
   "metadata": {},
   "source": [
    "Visualizando:"
   ]
  },
  {
   "cell_type": "code",
   "execution_count": 27,
   "metadata": {
    "vscode": {
     "languageId": "sql"
    }
   },
   "outputs": [
    {
     "data": {
      "application/vnd.jupyter.widget-view+json": {
       "model_id": "c0c59572-2c0a-4248-9739-2cfbd3aaf5ff",
       "version_major": 2,
       "version_minor": 0
      },
      "method": "display_data"
     },
     "metadata": {},
     "output_type": "display_data"
    }
   ],
   "source": [
    "SELECT * FROM Ingredientes LIMIT 10;\n"
   ]
  },
  {
   "cell_type": "code",
   "execution_count": 28,
   "metadata": {
    "vscode": {
     "languageId": "sql"
    }
   },
   "outputs": [
    {
     "data": {
      "application/vnd.jupyter.widget-view+json": {
       "model_id": "7ddee2e8-3cc7-40c3-babe-7f7da118e871",
       "version_major": 2,
       "version_minor": 0
      },
      "method": "display_data"
     },
     "metadata": {},
     "output_type": "display_data"
    }
   ],
   "source": [
    "SELECT * FROM Sabores LIMIT 10;\n"
   ]
  },
  {
   "cell_type": "markdown",
   "metadata": {},
   "source": [
    "Apagando os sabores que contêm algum ingrediente que não faz parte da lista final:"
   ]
  },
  {
   "cell_type": "code",
   "execution_count": 29,
   "metadata": {
    "vscode": {
     "languageId": "sql"
    }
   },
   "outputs": [],
   "source": [
    "DELETE FROM Sabores S\n",
    "WHERE S.A NOT IN (SELECT Nome FROM Ingredientes);\n",
    "\n",
    "DELETE FROM Sabores S\n",
    "WHERE S.B NOT IN (SELECT Nome FROM Ingredientes);\n"
   ]
  },
  {
   "cell_type": "markdown",
   "metadata": {},
   "source": [
    "Exportando"
   ]
  },
  {
   "cell_type": "code",
   "execution_count": 30,
   "metadata": {
    "vscode": {
     "languageId": "sql"
    }
   },
   "outputs": [
    {
     "data": {
      "text/plain": [
       "41351"
      ]
     },
     "execution_count": 30,
     "metadata": {},
     "output_type": "execute_result"
    }
   ],
   "source": [
    "CALL CSVWRITE('../data/processed/database/sabor.csv',\n",
    "              'SELECT * FROM Sabores');\n"
   ]
  },
  {
   "cell_type": "markdown",
   "metadata": {},
   "source": [
    "### Classificacao"
   ]
  },
  {
   "cell_type": "markdown",
   "metadata": {},
   "source": [
    "A classificação dos ingredientes segundo a hierarquia já foi feita no notebook de análises do FooDB. Como as classificações do CulinaryDB não têm um sistema de hierarquia, essa arquivo já representa os dados finais e já foi exportado."
   ]
  }
 ],
 "metadata": {
  "kernelspec": {
   "display_name": "SQL",
   "language": "SQL",
   "name": "sql"
  },
  "language_info": {
   "codemirror_mode": "sql",
   "file_extension": ".sql",
   "mimetype": "",
   "name": "SQL",
   "nbconverter_exporter": "",
   "version": ""
  },
  "toc": {
   "base_numbering": 1,
   "nav_menu": {},
   "number_sections": false,
   "sideBar": false,
   "skip_h1_title": false,
   "title_cell": "Table of Contents",
   "title_sidebar": "Contents",
   "toc_cell": false,
   "toc_position": {},
   "toc_section_display": false,
   "toc_window_display": false
  }
 },
 "nbformat": 4,
 "nbformat_minor": 2
}
