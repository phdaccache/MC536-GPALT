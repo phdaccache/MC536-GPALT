{
 "cells": [
  {
   "cell_type": "markdown",
   "metadata": {},
   "source": [
    "# Construção da base final - Equipe GPALT (Analistas de Cardápios)"
   ]
  },
  {
   "cell_type": "markdown",
   "metadata": {},
   "source": [
    "Ativando uma conexão de banco de dados em memória usando o SGBD H2:"
   ]
  },
  {
   "cell_type": "code",
   "execution_count": 1,
   "metadata": {
    "vscode": {
     "languageId": "sql"
    }
   },
   "outputs": [],
   "source": [
    "%defaultDatasource jdbc:h2:mem:db\n"
   ]
  },
  {
   "cell_type": "markdown",
   "metadata": {},
   "source": [
    "# Importando dados processados"
   ]
  },
  {
   "cell_type": "markdown",
   "metadata": {},
   "source": [
    "A partir dos notebooks anteriores, foi possível construir dados segundo o modelo proposto, integrando cada base da maneira que foi necessário. Resta, agora, construir os dados para o modelo final. O que falta será feito agora (por exemplo, receitas de bases diferentes precisam ser unidas em um único arquivo) seguindo a ordem mostrada no modelo relacional por simplicidade."
   ]
  },
  {
   "cell_type": "markdown",
   "metadata": {},
   "source": [
    "### Origem"
   ]
  },
  {
   "cell_type": "markdown",
   "metadata": {},
   "source": [
    "As origens das receitas foram alteradas - agora, não é mais necessário um atributo de tipo, porque todas as referências são a regiões do mundo. Isso aconteceu porque as referências a países nas receitas do RecipeNLG, de onde essas informações inicialmente seriam retiradas, não foram boas. Essa informação teria de ser buscada a partir do nome das receitas, e a quantidade não era grande o suficiente para justificar o processamento."
   ]
  },
  {
   "cell_type": "code",
   "execution_count": 2,
   "metadata": {
    "vscode": {
     "languageId": "sql"
    }
   },
   "outputs": [],
   "source": [
    "DROP TABLE IF EXISTS OrigemFlavor;\n",
    "DROP TABLE IF EXISTS OrigemCulinary;\n",
    "\n",
    "CREATE TABLE OrigemFlavor (\n",
    "  Origem VARCHAR(50),\n",
    "  PRIMARY KEY (Origem)\n",
    ") AS SELECT\n",
    "  Origem\n",
    "FROM CSVREAD('../data/interim/flavor network/origens.csv');\n",
    "\n",
    "CREATE TABLE OrigemCulinary (\n",
    "  Origem VARCHAR(50),\n",
    "  PRIMARY KEY (Origem)\n",
    "  ) AS SELECT\n",
    "    Origem\n",
    "  FROM CSVREAD('../data/interim/culinarydb/origens.csv');\n"
   ]
  },
  {
   "cell_type": "markdown",
   "metadata": {},
   "source": [
    "Visualizando:"
   ]
  },
  {
   "cell_type": "code",
   "execution_count": 3,
   "metadata": {
    "vscode": {
     "languageId": "sql"
    }
   },
   "outputs": [
    {
     "data": {
      "application/vnd.jupyter.widget-view+json": {
       "model_id": "dc6dd843-558b-4bb4-a4ca-c07940739cab",
       "version_major": 2,
       "version_minor": 0
      },
      "method": "display_data"
     },
     "metadata": {},
     "output_type": "display_data"
    }
   ],
   "source": [
    "SELECT * FROM OrigemFlavor LIMIT 10;\n"
   ]
  },
  {
   "cell_type": "code",
   "execution_count": 4,
   "metadata": {
    "vscode": {
     "languageId": "sql"
    }
   },
   "outputs": [
    {
     "data": {
      "application/vnd.jupyter.widget-view+json": {
       "model_id": "6cfa210c-6d62-4c36-82d4-545978d13389",
       "version_major": 2,
       "version_minor": 0
      },
      "method": "display_data"
     },
     "metadata": {},
     "output_type": "display_data"
    }
   ],
   "source": [
    "SELECT * FROM OrigemCulinary LIMIT 10;\n"
   ]
  },
  {
   "cell_type": "markdown",
   "metadata": {},
   "source": [
    "Unindo todas as origens em uma única VIEW:"
   ]
  },
  {
   "cell_type": "code",
   "execution_count": 5,
   "metadata": {
    "vscode": {
     "languageId": "sql"
    }
   },
   "outputs": [],
   "source": [
    "DROP VIEW IF EXISTS OrigemFinal;\n",
    "\n",
    "CREATE VIEW OrigemFinal AS\n",
    "    SELECT * FROM OrigemFlavor\n",
    "    UNION\n",
    "    SELECT * FROM OrigemCulinary\n",
    "    ORDER BY Origem;\n"
   ]
  },
  {
   "cell_type": "markdown",
   "metadata": {},
   "source": [
    "Visualizando:"
   ]
  },
  {
   "cell_type": "code",
   "execution_count": 6,
   "metadata": {
    "vscode": {
     "languageId": "sql"
    }
   },
   "outputs": [
    {
     "data": {
      "application/vnd.jupyter.widget-view+json": {
       "model_id": "2386fb31-36cd-4eb3-936e-f385c49f9ee0",
       "version_major": 2,
       "version_minor": 0
      },
      "method": "display_data"
     },
     "metadata": {},
     "output_type": "display_data"
    }
   ],
   "source": [
    "SELECT * FROM OrigemFinal LIMIT 10;\n"
   ]
  },
  {
   "cell_type": "markdown",
   "metadata": {},
   "source": [
    "Exportando os dados"
   ]
  },
  {
   "cell_type": "code",
   "execution_count": 7,
   "metadata": {
    "vscode": {
     "languageId": "sql"
    }
   },
   "outputs": [
    {
     "data": {
      "text/plain": [
       "37"
      ]
     },
     "execution_count": 7,
     "metadata": {},
     "output_type": "execute_result"
    }
   ],
   "source": [
    "CALL CSVWRITE('../data/processed/database/origem.csv',\n",
    "              'SELECT * FROM OrigemFinal');\n"
   ]
  },
  {
   "cell_type": "markdown",
   "metadata": {},
   "source": [
    "### Receita"
   ]
  },
  {
   "cell_type": "markdown",
   "metadata": {},
   "source": [
    "Nos notebooks anteriores, houve um trabalho de padronizar os dados das receitas segundo o modelo. Assim, resta importar esses dados e juntar em um único arquivo csv."
   ]
  },
  {
   "cell_type": "code",
   "execution_count": 8,
   "metadata": {
    "vscode": {
     "languageId": "sql"
    }
   },
   "outputs": [],
   "source": [
    "DROP TABLE IF EXISTS ReceitasFlavor;\n",
    "DROP TABLE IF EXISTS ReceitasCulinary;\n",
    "DROP TABLE IF EXISTS ReceitasRecipe;\n",
    "\n",
    "CREATE TABLE ReceitasFlavor (\n",
    "  IDReceita INT,\n",
    "  NomeReceita VARCHAR(200),\n",
    "  BancoOriginal VARCHAR(20),\n",
    "  Origem VARCHAR(30),\n",
    "  PRIMARY KEY (IDReceita)\n",
    ") AS SELECT\n",
    "  IDReceita, Nome, BancoOriginal, Origem\n",
    "FROM CSVREAD('../data/interim/flavor network/receitas.csv');\n",
    "\n",
    "CREATE TABLE ReceitasCulinary (\n",
    "  IDReceita INT,\n",
    "  NomeReceita VARCHAR(200),\n",
    "  BancoOriginal VARCHAR(20),\n",
    "  Origem VARCHAR(30),\n",
    "  PRIMARY KEY (IDReceita)\n",
    ") AS SELECT\n",
    "  IDReceita, Nome, BancoOriginal, Origem\n",
    "FROM CSVREAD('../data/interim/culinarydb/receitas.csv');\n",
    "\n",
    "CREATE TABLE ReceitasRecipe (\n",
    "  IDReceita INT,\n",
    "  NomeReceita VARCHAR(200),\n",
    "  BancoOriginal VARCHAR(20),\n",
    "  Origem VARCHAR(30),\n",
    "  PRIMARY KEY (IDReceita)\n",
    ") AS SELECT\n",
    "  ID, Nome, BancoOriginal, Origem\n",
    "FROM CSVREAD('../data/interim/recipenlg/receitasfinais.csv');\n"
   ]
  },
  {
   "cell_type": "markdown",
   "metadata": {},
   "source": [
    "Visualizando:"
   ]
  },
  {
   "cell_type": "code",
   "execution_count": 9,
   "metadata": {
    "vscode": {
     "languageId": "sql"
    }
   },
   "outputs": [
    {
     "data": {
      "application/vnd.jupyter.widget-view+json": {
       "model_id": "7047aa8c-0125-4244-89dd-c09e66dfd917",
       "version_major": 2,
       "version_minor": 0
      },
      "method": "display_data"
     },
     "metadata": {},
     "output_type": "display_data"
    }
   ],
   "source": [
    "SELECT * FROM ReceitasFlavor LIMIT 10;\n"
   ]
  },
  {
   "cell_type": "code",
   "execution_count": 10,
   "metadata": {
    "vscode": {
     "languageId": "sql"
    }
   },
   "outputs": [
    {
     "data": {
      "application/vnd.jupyter.widget-view+json": {
       "model_id": "dc256c1f-a038-429c-90a9-8727f229d7b6",
       "version_major": 2,
       "version_minor": 0
      },
      "method": "display_data"
     },
     "metadata": {},
     "output_type": "display_data"
    }
   ],
   "source": [
    "SELECT * FROM ReceitasCulinary LIMIT 10;\n"
   ]
  },
  {
   "cell_type": "code",
   "execution_count": 11,
   "metadata": {
    "vscode": {
     "languageId": "sql"
    }
   },
   "outputs": [
    {
     "data": {
      "application/vnd.jupyter.widget-view+json": {
       "model_id": "070d39b4-8c45-42be-8d2f-68893088d13c",
       "version_major": 2,
       "version_minor": 0
      },
      "method": "display_data"
     },
     "metadata": {},
     "output_type": "display_data"
    }
   ],
   "source": [
    "SELECT * FROM ReceitasRecipe LIMIT 10;\n"
   ]
  },
  {
   "cell_type": "markdown",
   "metadata": {},
   "source": [
    "Unindo todas as receitas em uma única VIEW:"
   ]
  },
  {
   "cell_type": "code",
   "execution_count": 12,
   "metadata": {
    "vscode": {
     "languageId": "sql"
    }
   },
   "outputs": [],
   "source": [
    "DROP VIEW IF EXISTS ReceitaFinal;\n",
    "\n",
    "CREATE VIEW ReceitaFinal AS\n",
    "    SELECT * FROM ReceitasFlavor\n",
    "    UNION\n",
    "    SELECT * FROM ReceitasCulinary\n",
    "    UNION\n",
    "    SELECT * FROM ReceitasRecipe\n",
    "    ORDER BY IDReceita;\n"
   ]
  },
  {
   "cell_type": "markdown",
   "metadata": {},
   "source": [
    "Visualizando:"
   ]
  },
  {
   "cell_type": "code",
   "execution_count": 13,
   "metadata": {
    "vscode": {
     "languageId": "sql"
    }
   },
   "outputs": [
    {
     "data": {
      "application/vnd.jupyter.widget-view+json": {
       "model_id": "0b29474f-4e6c-4c02-a8af-735b61609c80",
       "version_major": 2,
       "version_minor": 0
      },
      "method": "display_data"
     },
     "metadata": {},
     "output_type": "display_data"
    }
   ],
   "source": [
    "SELECT * FROM ReceitaFinal LIMIT 10;\n"
   ]
  },
  {
   "cell_type": "markdown",
   "metadata": {},
   "source": [
    "Exportando os dados:"
   ]
  },
  {
   "cell_type": "code",
   "execution_count": 14,
   "metadata": {
    "vscode": {
     "languageId": "sql"
    }
   },
   "outputs": [
    {
     "data": {
      "text/plain": [
       "255224"
      ]
     },
     "execution_count": 14,
     "metadata": {},
     "output_type": "execute_result"
    }
   ],
   "source": [
    "CALL CSVWRITE('../data/processed/database/receita.csv',\n",
    "              'SELECT * FROM ReceitaFinal');\n"
   ]
  },
  {
   "cell_type": "markdown",
   "metadata": {},
   "source": [
    "### Ingrediente"
   ]
  },
  {
   "cell_type": "markdown",
   "metadata": {},
   "source": [
    "Os ingredientes finais da base são os construídos no notebook de análises do FooDB e os ingredientes compostos da base do CulinaryDB:"
   ]
  },
  {
   "cell_type": "code",
   "execution_count": 15,
   "metadata": {
    "vscode": {
     "languageId": "sql"
    }
   },
   "outputs": [],
   "source": [
    "DROP TABLE IF EXISTS IngredientesSimples;\n",
    "DROP TABLE IF EXISTS IngredientesCompostos;\n",
    "\n",
    "CREATE TABLE IngredientesSimples (\n",
    "  Nome VARCHAR(80),\n",
    "  Classificacao VARCHAR(50),\n",
    "  PRIMARY KEY (Nome)\n",
    ") AS SELECT\n",
    "  NOME, CLASSIFICACAO\n",
    "FROM CSVREAD('../data/interim/foodb/ingredientes.csv');\n",
    "\n",
    "CREATE TABLE IngredientesCompostos (\n",
    "  Nome VARCHAR(80),\n",
    "  Classificacao VARCHAR(50),\n",
    "  PRIMARY KEY (Nome)\n",
    ") AS SELECT\n",
    "  Compound_Ingredient_Name, Category\n",
    "FROM CSVREAD('../data/interim/culinarydb/dadoscompostos.csv');\n"
   ]
  },
  {
   "cell_type": "markdown",
   "metadata": {},
   "source": [
    "Visualizando:"
   ]
  },
  {
   "cell_type": "code",
   "execution_count": 16,
   "metadata": {
    "vscode": {
     "languageId": "sql"
    }
   },
   "outputs": [
    {
     "data": {
      "application/vnd.jupyter.widget-view+json": {
       "model_id": "a219d75f-bf14-4f8b-9786-a84a428c600c",
       "version_major": 2,
       "version_minor": 0
      },
      "method": "display_data"
     },
     "metadata": {},
     "output_type": "display_data"
    }
   ],
   "source": [
    "SELECT * FROM IngredientesSimples LIMIT 10;\n"
   ]
  },
  {
   "cell_type": "code",
   "execution_count": 17,
   "metadata": {
    "vscode": {
     "languageId": "sql"
    }
   },
   "outputs": [
    {
     "data": {
      "application/vnd.jupyter.widget-view+json": {
       "model_id": "c6c326c4-f009-41da-87d0-d09b2ed67635",
       "version_major": 2,
       "version_minor": 0
      },
      "method": "display_data"
     },
     "metadata": {},
     "output_type": "display_data"
    }
   ],
   "source": [
    "SELECT * FROM IngredientesCompostos LIMIT 10;\n"
   ]
  },
  {
   "cell_type": "markdown",
   "metadata": {},
   "source": [
    "Juntando os ingredientes em uma única VIEW:"
   ]
  },
  {
   "cell_type": "code",
   "execution_count": 18,
   "metadata": {
    "vscode": {
     "languageId": "sql"
    }
   },
   "outputs": [],
   "source": [
    "DROP VIEW IF EXISTS Ingrediente;\n",
    "\n",
    "CREATE VIEW Ingrediente AS\n",
    "    SELECT * FROM IngredientesSimples\n",
    "    UNION\n",
    "    -- Somente realizar a união de ingredientes que já não estejam catalogados no FooDB\n",
    "    (SELECT * FROM IngredientesCompostos WHERE Nome NOT IN (SELECT Nome FROM IngredientesSimples))\n",
    "    ORDER BY Nome;\n"
   ]
  },
  {
   "cell_type": "markdown",
   "metadata": {},
   "source": [
    "Visualizando:"
   ]
  },
  {
   "cell_type": "code",
   "execution_count": 19,
   "metadata": {
    "vscode": {
     "languageId": "sql"
    }
   },
   "outputs": [
    {
     "data": {
      "application/vnd.jupyter.widget-view+json": {
       "model_id": "f88507ee-8a85-4632-a2d0-bedb193bd956",
       "version_major": 2,
       "version_minor": 0
      },
      "method": "display_data"
     },
     "metadata": {},
     "output_type": "display_data"
    }
   ],
   "source": [
    "SELECT * FROM Ingrediente LIMIT 10;\n"
   ]
  },
  {
   "cell_type": "markdown",
   "metadata": {},
   "source": [
    "As classificações dos ingredientes compostos ainda não foram definidas em um arquivo próprio:"
   ]
  },
  {
   "cell_type": "code",
   "execution_count": 20,
   "metadata": {
    "vscode": {
     "languageId": "sql"
    }
   },
   "outputs": [
    {
     "data": {
      "text/plain": [
       "12"
      ]
     },
     "execution_count": 20,
     "metadata": {},
     "output_type": "execute_result"
    }
   ],
   "source": [
    "CALL CSVWRITE('../data/interim/culinarydb/classificacoescompostos.csv',\n",
    "              'SELECT DISTINCT Classificacao FROM IngredientesCompostos');\n"
   ]
  },
  {
   "cell_type": "markdown",
   "metadata": {},
   "source": [
    "Exportando os dados dos ingredientes:"
   ]
  },
  {
   "cell_type": "code",
   "execution_count": 21,
   "metadata": {
    "vscode": {
     "languageId": "sql"
    }
   },
   "outputs": [
    {
     "data": {
      "text/plain": [
       "1081"
      ]
     },
     "execution_count": 21,
     "metadata": {},
     "output_type": "execute_result"
    }
   ],
   "source": [
    "CALL CSVWRITE('../data/processed/database/ingrediente.csv',\n",
    "              'SELECT * FROM Ingrediente');\n"
   ]
  },
  {
   "cell_type": "markdown",
   "metadata": {},
   "source": [
    "### IngredienteComposto"
   ]
  },
  {
   "cell_type": "markdown",
   "metadata": {},
   "source": [
    "Acontece de alguns ingredientes compostos do CulinaryDB já existirem na base do FooDB e, por isso, já terem quantidades de nutrientes associadas. Assim, esses ingredientes devem ser considerados como ingredientes simples no modelo. Os que não existirem ainda precisam ter seus ingredientes base associados."
   ]
  },
  {
   "cell_type": "markdown",
   "metadata": {},
   "source": [
    "Importando os dados:"
   ]
  },
  {
   "cell_type": "code",
   "execution_count": 22,
   "metadata": {
    "vscode": {
     "languageId": "sql"
    }
   },
   "outputs": [],
   "source": [
    "DROP TABLE IF EXISTS AssociacaoCompostosSimples;\n",
    "\n",
    "CREATE TABLE AssociacaoCompostosSimples (\n",
    "  IngredienteComposto VARCHAR(80),\n",
    "  IngredienteOriginal VARCHAR(80),\n",
    "  PRIMARY KEY (IngredienteComposto, IngredienteOriginal)\n",
    ") AS SELECT\n",
    "  INGREDIENTECOMPOSTO, INGREDIENTEORIGINAL\n",
    "FROM CSVREAD('../data/interim/culinarydb/ingredientecomposto.csv');\n"
   ]
  },
  {
   "cell_type": "markdown",
   "metadata": {},
   "source": [
    "Visualizando:"
   ]
  },
  {
   "cell_type": "code",
   "execution_count": 23,
   "metadata": {
    "vscode": {
     "languageId": "sql"
    }
   },
   "outputs": [
    {
     "data": {
      "application/vnd.jupyter.widget-view+json": {
       "model_id": "70c08425-f724-466a-b823-4302950c9f2e",
       "version_major": 2,
       "version_minor": 0
      },
      "method": "display_data"
     },
     "metadata": {},
     "output_type": "display_data"
    }
   ],
   "source": [
    "SELECT * FROM AssociacaoCompostosSimples LIMIT 10;\n"
   ]
  },
  {
   "cell_type": "markdown",
   "metadata": {},
   "source": [
    "Desconsiderando ingredientes que sejam ingredientes simples do FooDB:"
   ]
  },
  {
   "cell_type": "code",
   "execution_count": 24,
   "metadata": {
    "vscode": {
     "languageId": "sql"
    }
   },
   "outputs": [],
   "source": [
    "DELETE FROM AssociacaoCompostosSimples\n",
    "WHERE IngredienteComposto IN (SELECT Nome FROM IngredientesSimples);\n"
   ]
  },
  {
   "cell_type": "markdown",
   "metadata": {},
   "source": [
    "Exportando esses dados:"
   ]
  },
  {
   "cell_type": "code",
   "execution_count": 25,
   "metadata": {
    "vscode": {
     "languageId": "sql"
    }
   },
   "outputs": [
    {
     "data": {
      "text/plain": [
       "406"
      ]
     },
     "execution_count": 25,
     "metadata": {},
     "output_type": "execute_result"
    }
   ],
   "source": [
    "CALL CSVWRITE('../data/processed/database/ingredientecomposto.csv',\n",
    "              'SELECT * FROM AssociacaoCompostosSimples ORDER BY IngredienteComposto');\n"
   ]
  },
  {
   "cell_type": "markdown",
   "metadata": {},
   "source": [
    "### Sabor"
   ]
  },
  {
   "cell_type": "markdown",
   "metadata": {},
   "source": [
    "Os dados dos sabores serão montados a partir dos dados do Flavor Network. Um problema é que, mesmo no Flavor Network, alguns sabores são formados por ingredientes que não fazem parte da base. Considerando o modelo relacional proposto, não faz sentido ter sabores relacionados a um ingrediente que não está na base. Assim, os sabores só existirão se eles relacionarem dois ingredientes da base, ou seja, ingredientes cuja integração com o FooDB foi feita."
   ]
  },
  {
   "cell_type": "markdown",
   "metadata": {},
   "source": [
    "Importando os sabores e os ingredientes finais (agora construídos na base final)"
   ]
  },
  {
   "cell_type": "code",
   "execution_count": 26,
   "metadata": {
    "vscode": {
     "languageId": "sql"
    }
   },
   "outputs": [],
   "source": [
    "DROP TABLE IF EXISTS Ingredientes;\n",
    "DROP TABLE IF EXISTS Sabores;\n",
    "\n",
    "CREATE TABLE Ingredientes (\n",
    "  Nome VARCHAR(80),\n",
    "  PRIMARY KEY (Nome)\n",
    ") AS SELECT\n",
    "  Nome\n",
    "FROM CSVREAD('../data/processed/database/ingrediente.csv');\n",
    "\n",
    "CREATE TABLE Sabores (\n",
    "  ID INT,\n",
    "  A VARCHAR(80),\n",
    "  B VARCHAR(80),\n",
    "  Quantidade INT,\n",
    "  PRIMARY KEY (ID)\n",
    ") AS SELECT\n",
    "  ID, A, B, QUANTIDADE\n",
    "FROM CSVREAD('../data/interim/flavor network/saboresfinais.csv');\n"
   ]
  },
  {
   "cell_type": "markdown",
   "metadata": {},
   "source": [
    "Visualizando:"
   ]
  },
  {
   "cell_type": "code",
   "execution_count": 27,
   "metadata": {
    "vscode": {
     "languageId": "sql"
    }
   },
   "outputs": [
    {
     "data": {
      "application/vnd.jupyter.widget-view+json": {
       "model_id": "5e3c900f-ffac-470a-a6e7-bba5ba0dc7d7",
       "version_major": 2,
       "version_minor": 0
      },
      "method": "display_data"
     },
     "metadata": {},
     "output_type": "display_data"
    }
   ],
   "source": [
    "SELECT * FROM Ingredientes LIMIT 10;\n"
   ]
  },
  {
   "cell_type": "code",
   "execution_count": 28,
   "metadata": {
    "vscode": {
     "languageId": "sql"
    }
   },
   "outputs": [
    {
     "data": {
      "application/vnd.jupyter.widget-view+json": {
       "model_id": "eccae7a2-1e36-4845-9828-752d35e76cba",
       "version_major": 2,
       "version_minor": 0
      },
      "method": "display_data"
     },
     "metadata": {},
     "output_type": "display_data"
    }
   ],
   "source": [
    "SELECT * FROM Sabores LIMIT 10;\n"
   ]
  },
  {
   "cell_type": "markdown",
   "metadata": {},
   "source": [
    "Apagando os sabores que contêm algum ingrediente que não faz parte da lista final:"
   ]
  },
  {
   "cell_type": "code",
   "execution_count": 29,
   "metadata": {
    "vscode": {
     "languageId": "sql"
    }
   },
   "outputs": [],
   "source": [
    "DELETE FROM Sabores S\n",
    "WHERE S.A NOT IN (SELECT Nome FROM Ingredientes);\n",
    "\n",
    "DELETE FROM Sabores S\n",
    "WHERE S.B NOT IN (SELECT Nome FROM Ingredientes);\n"
   ]
  },
  {
   "cell_type": "markdown",
   "metadata": {},
   "source": [
    "Exportando"
   ]
  },
  {
   "cell_type": "code",
   "execution_count": 30,
   "metadata": {
    "vscode": {
     "languageId": "sql"
    }
   },
   "outputs": [
    {
     "data": {
      "text/plain": [
       "41430"
      ]
     },
     "execution_count": 30,
     "metadata": {},
     "output_type": "execute_result"
    }
   ],
   "source": [
    "CALL CSVWRITE('../data/processed/database/sabor.csv',\n",
    "              'SELECT * FROM Sabores');\n"
   ]
  },
  {
   "cell_type": "markdown",
   "metadata": {},
   "source": [
    "### Classificacao"
   ]
  },
  {
   "cell_type": "markdown",
   "metadata": {},
   "source": [
    "A classificação dos ingredientes segundo a hierarquia já foi feita no notebook de análises do FooDB. No entanto, ainda é preciso considerar as classificações dos ingredientes compostos do CulinaryDB."
   ]
  },
  {
   "cell_type": "code",
   "execution_count": 31,
   "metadata": {
    "vscode": {
     "languageId": "sql"
    }
   },
   "outputs": [],
   "source": [
    "DROP TABLE IF EXISTS Classificacao;\n",
    "\n",
    "CREATE TABLE Classificacao (\n",
    "  Nome VARCHAR(100),\n",
    "  CategoriaSuperior VARCHAR(100),\n",
    "  PRIMARY KEY (Nome)\n",
    ") AS SELECT\n",
    "  CategoriaInferior, CategoriaSuperior\n",
    "FROM CSVREAD('../data/interim/foodb/classificacao.csv');\n"
   ]
  },
  {
   "cell_type": "markdown",
   "metadata": {},
   "source": [
    "Visualizando:"
   ]
  },
  {
   "cell_type": "code",
   "execution_count": 32,
   "metadata": {
    "vscode": {
     "languageId": "sql"
    }
   },
   "outputs": [
    {
     "data": {
      "application/vnd.jupyter.widget-view+json": {
       "model_id": "db5d9e9f-ce9f-4f79-a948-b4bfa2f4be17",
       "version_major": 2,
       "version_minor": 0
      },
      "method": "display_data"
     },
     "metadata": {},
     "output_type": "display_data"
    }
   ],
   "source": [
    "SELECT * FROM Classificacao LIMIT 10;\n"
   ]
  },
  {
   "cell_type": "markdown",
   "metadata": {},
   "source": [
    "Inserindo as classificações do CulinaryDB:"
   ]
  },
  {
   "cell_type": "code",
   "execution_count": 33,
   "metadata": {
    "vscode": {
     "languageId": "sql"
    }
   },
   "outputs": [],
   "source": [
    "INSERT INTO Classificacao(Nome)\n",
    "SELECT DISTINCT Classificacao\n",
    "FROM IngredientesCompostos;\n"
   ]
  },
  {
   "cell_type": "markdown",
   "metadata": {},
   "source": [
    "Exportando:"
   ]
  },
  {
   "cell_type": "code",
   "execution_count": 34,
   "metadata": {
    "vscode": {
     "languageId": "sql"
    }
   },
   "outputs": [
    {
     "data": {
      "text/plain": [
       "132"
      ]
     },
     "execution_count": 34,
     "metadata": {},
     "output_type": "execute_result"
    }
   ],
   "source": [
    "CALL CSVWRITE('../data/processed/database/classificacao.csv',\n",
    "              'SELECT * FROM Classificacao');\n"
   ]
  }
 ],
 "metadata": {
  "kernelspec": {
   "display_name": "SQL",
   "language": "SQL",
   "name": "sql"
  },
  "language_info": {
   "codemirror_mode": "sql",
   "file_extension": ".sql",
   "mimetype": "",
   "name": "SQL",
   "nbconverter_exporter": "",
   "version": ""
  },
  "toc": {
   "base_numbering": 1,
   "nav_menu": {},
   "number_sections": false,
   "sideBar": false,
   "skip_h1_title": false,
   "title_cell": "Table of Contents",
   "title_sidebar": "Contents",
   "toc_cell": false,
   "toc_position": {},
   "toc_section_display": false,
   "toc_window_display": false
  }
 },
 "nbformat": 4,
 "nbformat_minor": 2
}
