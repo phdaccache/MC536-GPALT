{
 "cells": [
  {
   "cell_type": "markdown",
   "metadata": {},
   "source": [
    "# Integrações com o CulinaryDB - Equipe GPALT (Analistas de Cardápios)"
   ]
  },
  {
   "cell_type": "markdown",
   "metadata": {},
   "source": [
    "Ativando uma conexão de banco de dados em memória usando o SGBD H2:"
   ]
  },
  {
   "cell_type": "code",
   "execution_count": 1,
   "metadata": {
    "vscode": {
     "languageId": "sql"
    }
   },
   "outputs": [],
   "source": [
    "%defaultDatasource jdbc:h2:mem:db\n"
   ]
  },
  {
   "cell_type": "markdown",
   "metadata": {},
   "source": [
    "# Importando Tabelas dos dados originais do CulinaryDB"
   ]
  },
  {
   "cell_type": "markdown",
   "metadata": {},
   "source": [
    "### Associando ingredientes compostos"
   ]
  },
  {
   "cell_type": "markdown",
   "metadata": {},
   "source": [
    "As tabelas a seguir podem ser importadas a partir dos dados do notebook anterior:"
   ]
  },
  {
   "cell_type": "code",
   "execution_count": 2,
   "metadata": {
    "vscode": {
     "languageId": "sql"
    }
   },
   "outputs": [],
   "source": [
    "DROP TABLE IF EXISTS AssociacaoComFooDB;\n",
    "DROP TABLE IF EXISTS ComposicaoIngredientes;\n",
    "\n",
    "CREATE TABLE AssociacaoComFooDB (\n",
    "  Nome VARCHAR(100),\n",
    "  FooDB VARCHAR(100),\n",
    "  PRIMARY KEY (Nome)\n",
    ") AS SELECT\n",
    "  nome_ingrediente, nome_foodb\n",
    "FROM CSVREAD('../data/external/associacaofinal.csv');\n",
    "\n",
    "CREATE TABLE ComposicaoIngredientes (\n",
    "  IngredienteComposto VARCHAR(100),\n",
    "  IngredienteOriginal VARCHAR(100),\n",
    "  PRIMARY KEY (IngredienteComposto, IngredienteOriginal)\n",
    ") AS SELECT\n",
    "  IngredienteComposto,IngredienteOriginal\n",
    "FROM CSVREAD('../data/interim/culinarydb/associacaocompostos.csv');\n"
   ]
  },
  {
   "cell_type": "markdown",
   "metadata": {},
   "source": [
    "Visualizando os dados de composição:"
   ]
  },
  {
   "cell_type": "code",
   "execution_count": 3,
   "metadata": {
    "vscode": {
     "languageId": "sql"
    }
   },
   "outputs": [
    {
     "data": {
      "application/vnd.jupyter.widget-view+json": {
       "model_id": "7132cb83-ea30-424e-856c-aded452e21f0",
       "version_major": 2,
       "version_minor": 0
      },
      "method": "display_data"
     },
     "metadata": {},
     "output_type": "display_data"
    }
   ],
   "source": [
    "SELECT * FROM ComposicaoIngredientes LIMIT 10;\n"
   ]
  },
  {
   "cell_type": "markdown",
   "metadata": {},
   "source": [
    "Associando os ingredientes que formam os ingredientes compostos com os nomes no FooDB usando uma VIEW:"
   ]
  },
  {
   "cell_type": "code",
   "execution_count": 4,
   "metadata": {
    "vscode": {
     "languageId": "sql"
    }
   },
   "outputs": [],
   "source": [
    "DROP VIEW IF EXISTS IngredienteComposto;\n",
    "\n",
    "CREATE VIEW IngredienteComposto AS\n",
    "SELECT DISTINCT CI.IngredienteComposto, A.FooDB IngredienteOriginal\n",
    "FROM AssociacaoComFooDB A, ComposicaoIngredientes CI\n",
    "WHERE CI.IngredienteOriginal = A.Nome\n",
    "ORDER BY CI.IngredienteComposto;\n"
   ]
  },
  {
   "cell_type": "markdown",
   "metadata": {},
   "source": [
    "Visualizando os dados:"
   ]
  },
  {
   "cell_type": "code",
   "execution_count": 5,
   "metadata": {
    "vscode": {
     "languageId": "sql"
    }
   },
   "outputs": [
    {
     "data": {
      "application/vnd.jupyter.widget-view+json": {
       "model_id": "0859807d-6420-44e6-b645-65dd9f6803fc",
       "version_major": 2,
       "version_minor": 0
      },
      "method": "display_data"
     },
     "metadata": {},
     "output_type": "display_data"
    }
   ],
   "source": [
    "SELECT * FROM IngredienteComposto LIMIT 10;\n"
   ]
  },
  {
   "cell_type": "markdown",
   "metadata": {},
   "source": [
    "Esses dados ainda vão sofrer alterações na construção final, pois ainda é necessário verificar se esses ingredientes já existem na base do FooDB."
   ]
  },
  {
   "cell_type": "markdown",
   "metadata": {},
   "source": [
    "Exportando:"
   ]
  },
  {
   "cell_type": "code",
   "execution_count": 6,
   "metadata": {
    "vscode": {
     "languageId": "sql"
    }
   },
   "outputs": [
    {
     "data": {
      "text/plain": [
       "463"
      ]
     },
     "execution_count": 6,
     "metadata": {},
     "output_type": "execute_result"
    }
   ],
   "source": [
    "CALL CSVWRITE('../data/interim/culinarydb/ingredientecomposto.csv',\n",
    "              'SELECT * FROM IngredienteComposto');\n"
   ]
  },
  {
   "cell_type": "markdown",
   "metadata": {},
   "source": [
    "### Ingredientes nas Receitas"
   ]
  },
  {
   "cell_type": "markdown",
   "metadata": {},
   "source": [
    "Agora, é preciso atualizar o nome dos ingredientes nas receitas de acordo com o modelo proposto. Criando as tabelas necessárias nessa etapa:"
   ]
  },
  {
   "cell_type": "code",
   "execution_count": 7,
   "metadata": {
    "vscode": {
     "languageId": "sql"
    }
   },
   "outputs": [],
   "source": [
    "DROP TABLE IF EXISTS IngredientesSimples;\n",
    "DROP TABLE IF EXISTS IngredientesCompostos;\n",
    "DROP TABLE IF EXISTS Receitas;\n",
    "DROP TABLE IF EXISTS IngredientesReceitas;\n",
    "\n",
    "CREATE TABLE IngredientesSimples (\n",
    "  NomeSimples VARCHAR(100),\n",
    "  IDSimples INT,\n",
    "  PRIMARY KEY (IDSimples)\n",
    ") AS SELECT\n",
    "  Nome, ID\n",
    "FROM CSVREAD('../data/interim/culinarydb/nomesingredients.csv');\n",
    "\n",
    "CREATE TABLE IngredientesCompostos (\n",
    "  NomeComposto VARCHAR(100),\n",
    "  IDComposto INT,\n",
    "  PRIMARY KEY (IDComposto)\n",
    ") AS SELECT\n",
    "  Compound_Ingredient_Name, entity_id\n",
    "FROM CSVREAD('../data/interim/culinarydb/dadoscompostos.csv');\n",
    "\n",
    "CREATE TABLE Receitas (\n",
    "  IDReceita INT,\n",
    "  NomeReceita VARCHAR(200),\n",
    "  BancoOriginal VARCHAR(20),\n",
    "  Origem VARCHAR(30),\n",
    "  PRIMARY KEY (IDReceita)\n",
    ") AS SELECT\n",
    "  IDReceita, Nome, BancoOriginal, Origem\n",
    "FROM CSVREAD('../data/interim/culinarydb/receitas.csv');\n",
    "\n",
    "CREATE TABLE IngredientesReceitas (\n",
    "  IDAssociacao INT,\n",
    "  Receita INT,\n",
    "  Quantidade DECIMAL(10,3),\n",
    "  Unidade VARCHAR(30),\n",
    "  Ingrediente INT,\n",
    "  PRIMARY KEY (IDAssociacao)\n",
    ") AS SELECT\n",
    "  id_associacao,recipe_id,qtd,unit,ingredient\n",
    "FROM CSVREAD('../data/interim/culinarydb/ingredientesnasreceitas.csv');\n"
   ]
  },
  {
   "cell_type": "markdown",
   "metadata": {},
   "source": [
    "Visualizando as tabelas:"
   ]
  },
  {
   "cell_type": "code",
   "execution_count": 8,
   "metadata": {
    "vscode": {
     "languageId": "sql"
    }
   },
   "outputs": [
    {
     "data": {
      "application/vnd.jupyter.widget-view+json": {
       "model_id": "3a3e5bac-711c-41d6-b40a-18340a80c06e",
       "version_major": 2,
       "version_minor": 0
      },
      "method": "display_data"
     },
     "metadata": {},
     "output_type": "display_data"
    }
   ],
   "source": [
    "SELECT * FROM IngredientesSimples LIMIT 10;\n"
   ]
  },
  {
   "cell_type": "code",
   "execution_count": 9,
   "metadata": {
    "vscode": {
     "languageId": "sql"
    }
   },
   "outputs": [
    {
     "data": {
      "application/vnd.jupyter.widget-view+json": {
       "model_id": "c32b2be0-c7f2-4ce4-a639-4cef10acb1e2",
       "version_major": 2,
       "version_minor": 0
      },
      "method": "display_data"
     },
     "metadata": {},
     "output_type": "display_data"
    }
   ],
   "source": [
    "SELECT * FROM IngredientesCompostos LIMIT 10;\n"
   ]
  },
  {
   "cell_type": "code",
   "execution_count": 10,
   "metadata": {
    "vscode": {
     "languageId": "sql"
    }
   },
   "outputs": [
    {
     "data": {
      "application/vnd.jupyter.widget-view+json": {
       "model_id": "b0498036-da3e-4139-91b9-dfc03c7992d2",
       "version_major": 2,
       "version_minor": 0
      },
      "method": "display_data"
     },
     "metadata": {},
     "output_type": "display_data"
    }
   ],
   "source": [
    "SELECT * FROM Receitas LIMIT 10;\n"
   ]
  },
  {
   "cell_type": "code",
   "execution_count": 11,
   "metadata": {
    "vscode": {
     "languageId": "sql"
    }
   },
   "outputs": [
    {
     "data": {
      "application/vnd.jupyter.widget-view+json": {
       "model_id": "d54f2b14-4088-43e5-b632-c0037a80f661",
       "version_major": 2,
       "version_minor": 0
      },
      "method": "display_data"
     },
     "metadata": {},
     "output_type": "display_data"
    }
   ],
   "source": [
    "SELECT * FROM IngredientesReceitas LIMIT 10;\n"
   ]
  },
  {
   "cell_type": "markdown",
   "metadata": {},
   "source": [
    "Criando uma VIEW com todos os ingredientes da base juntos:"
   ]
  },
  {
   "cell_type": "code",
   "execution_count": 12,
   "metadata": {
    "vscode": {
     "languageId": "sql"
    }
   },
   "outputs": [],
   "source": [
    "DROP VIEW IF EXISTS IngredientesFinais;\n",
    "\n",
    "CREATE VIEW IngredientesFinais AS\n",
    "(SELECT * FROM IngredientesSimples\n",
    "UNION\n",
    "SELECT * FROM IngredientesCompostos);\n"
   ]
  },
  {
   "cell_type": "markdown",
   "metadata": {},
   "source": [
    "Visualizando a VIEW:"
   ]
  },
  {
   "cell_type": "code",
   "execution_count": 13,
   "metadata": {
    "vscode": {
     "languageId": "sql"
    }
   },
   "outputs": [
    {
     "data": {
      "application/vnd.jupyter.widget-view+json": {
       "model_id": "6b6342d7-9174-42b5-8baa-1a4f5e13a75c",
       "version_major": 2,
       "version_minor": 0
      },
      "method": "display_data"
     },
     "metadata": {},
     "output_type": "display_data"
    }
   ],
   "source": [
    "SELECT * FROM IngredientesFinais LIMIT 10;\n"
   ]
  },
  {
   "cell_type": "markdown",
   "metadata": {},
   "source": [
    "Alterando a unidade para desconhecida se não houver informação sobre a quantidade do ingrediente na receita:"
   ]
  },
  {
   "cell_type": "code",
   "execution_count": 14,
   "metadata": {
    "vscode": {
     "languageId": "sql"
    }
   },
   "outputs": [],
   "source": [
    "UPDATE IngredientesReceitas\n",
    "SET Unidade = 'desconhecida'\n",
    "WHERE Quantidade = 0;\n"
   ]
  },
  {
   "cell_type": "markdown",
   "metadata": {},
   "source": [
    "Segundo o modelo proposto, podemos criar a seguinte VIEW representando a interação entre receitas e ingredientes. Os ingredientes podem ser agrupados e as quantidades somadas caso haja repetição:"
   ]
  },
  {
   "cell_type": "code",
   "execution_count": 15,
   "metadata": {
    "vscode": {
     "languageId": "sql"
    }
   },
   "outputs": [],
   "source": [
    "DROP VIEW IF EXISTS RelacaoFinal;\n",
    "\n",
    "CREATE VIEW RelacaoFinal AS\n",
    "SELECT R.IDReceita, R.BancoOriginal, A.FooDB, SUM(IR.Quantidade) Quantidade, IR.Unidade\n",
    "FROM Receitas R, IngredientesFinais I, IngredientesReceitas IR, AssociacaoComFooDB A\n",
    "WHERE R.IDReceita = IR.Receita AND I.IDSimples = IR.Ingrediente AND I.NomeSimples = A.Nome\n",
    "GROUP BY R.IDReceita, R.BancoOriginal, A.FooDB, IR.Unidade\n",
    "ORDER BY R.IDReceita, A.FooDB;\n"
   ]
  },
  {
   "cell_type": "markdown",
   "metadata": {},
   "source": [
    "Visualizando:"
   ]
  },
  {
   "cell_type": "code",
   "execution_count": 16,
   "metadata": {
    "vscode": {
     "languageId": "sql"
    }
   },
   "outputs": [
    {
     "data": {
      "application/vnd.jupyter.widget-view+json": {
       "model_id": "7059f574-86ee-4a09-8a17-e406f3770cd0",
       "version_major": 2,
       "version_minor": 0
      },
      "method": "display_data"
     },
     "metadata": {},
     "output_type": "display_data"
    }
   ],
   "source": [
    "SELECT * FROM RelacaoFinal LIMIT 10;\n"
   ]
  },
  {
   "cell_type": "markdown",
   "metadata": {},
   "source": [
    "Exportando:"
   ]
  },
  {
   "cell_type": "code",
   "execution_count": 17,
   "metadata": {
    "vscode": {
     "languageId": "sql"
    }
   },
   "outputs": [
    {
     "data": {
      "text/plain": [
       "383045"
      ]
     },
     "execution_count": 17,
     "metadata": {},
     "output_type": "execute_result"
    }
   ],
   "source": [
    "CALL CSVWRITE('../data/interim/culinarydb/receitasfinais.csv',\n",
    "              'SELECT * FROM RelacaoFinal');\n"
   ]
  },
  {
   "cell_type": "markdown",
   "metadata": {},
   "source": [
    "### Origem das receitas"
   ]
  },
  {
   "cell_type": "markdown",
   "metadata": {},
   "source": [
    "Separando os lugares de origem das receitas e selecionando as únicas:"
   ]
  },
  {
   "cell_type": "code",
   "execution_count": 18,
   "metadata": {
    "vscode": {
     "languageId": "sql"
    }
   },
   "outputs": [],
   "source": [
    "DROP VIEW IF EXISTS Regioes;\n",
    "\n",
    "CREATE VIEW Regioes AS\n",
    "    SELECT DISTINCT Origem\n",
    "    FROM Receitas;\n"
   ]
  },
  {
   "cell_type": "markdown",
   "metadata": {},
   "source": [
    "Visualizando:"
   ]
  },
  {
   "cell_type": "code",
   "execution_count": 19,
   "metadata": {
    "vscode": {
     "languageId": "sql"
    }
   },
   "outputs": [
    {
     "data": {
      "application/vnd.jupyter.widget-view+json": {
       "model_id": "a95b1e11-cd9a-40fc-8310-b4819b6540ef",
       "version_major": 2,
       "version_minor": 0
      },
      "method": "display_data"
     },
     "metadata": {},
     "output_type": "display_data"
    }
   ],
   "source": [
    "SELECT * FROM Regioes LIMIT 10;\n"
   ]
  },
  {
   "cell_type": "markdown",
   "metadata": {},
   "source": [
    "Exportando:"
   ]
  },
  {
   "cell_type": "code",
   "execution_count": 20,
   "metadata": {
    "vscode": {
     "languageId": "sql"
    }
   },
   "outputs": [
    {
     "data": {
      "text/plain": [
       "26"
      ]
     },
     "execution_count": 20,
     "metadata": {},
     "output_type": "execute_result"
    }
   ],
   "source": [
    "CALL CSVWRITE('../data/interim/culinarydb/origens.csv',\n",
    "              'SELECT * FROM Regioes');\n"
   ]
  }
 ],
 "metadata": {
  "kernelspec": {
   "display_name": "SQL",
   "language": "SQL",
   "name": "sql"
  },
  "language_info": {
   "codemirror_mode": "sql",
   "file_extension": ".sql",
   "mimetype": "",
   "name": "SQL",
   "nbconverter_exporter": "",
   "version": ""
  },
  "toc": {
   "base_numbering": 1,
   "nav_menu": {},
   "number_sections": false,
   "sideBar": false,
   "skip_h1_title": false,
   "title_cell": "Table of Contents",
   "title_sidebar": "Contents",
   "toc_cell": false,
   "toc_position": {},
   "toc_section_display": false,
   "toc_window_display": false
  }
 },
 "nbformat": 4,
 "nbformat_minor": 2
}
